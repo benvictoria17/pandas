{
 "cells": [
  {
   "cell_type": "code",
   "execution_count": 21,
   "metadata": {},
   "outputs": [],
   "source": [
    "import numpy as np\n",
    "import pandas as pd \n",
    "import matplotlib.pyplot as plt \n",
    "%matplotlib notebook"
   ]
  },
  {
   "cell_type": "code",
   "execution_count": 22,
   "metadata": {},
   "outputs": [],
   "source": [
    "df_1718 = pd.read_csv('https://raw.githubusercontent.com/2803Aditya/Manchester-Derby-Win-Percentage/master/season-0910_csv.csv', usecols = ['Date', 'HomeTeam', 'AwayTeam', 'FTR'])\n",
    "df_1819 = pd.read_csv('https://raw.githubusercontent.com/2803Aditya/Manchester-Derby-Win-Percentage/master/season-1011_csv.csv', usecols = ['Date', 'HomeTeam', 'AwayTeam', 'FTR'])\n",
    "df_1415 = pd.read_csv('https://raw.githubusercontent.com/2803Aditya/Manchester-Derby-Win-Percentage/master/season-1112_csv.csv', usecols = ['Date', 'HomeTeam', 'AwayTeam', 'FTR'])\n",
    "df_1516 = pd.read_csv('https://raw.githubusercontent.com/2803Aditya/Manchester-Derby-Win-Percentage/master/season-1213_csv.csv', usecols = ['Date', 'HomeTeam', 'AwayTeam', 'FTR'])\n",
    "df_1617 = pd.read_csv('https://raw.githubusercontent.com/2803Aditya/Manchester-Derby-Win-Percentage/master/season-1314_csv.csv', usecols = ['Date', 'HomeTeam', 'AwayTeam', 'FTR'])\n",
    "df_0910 = pd.read_csv('https://raw.githubusercontent.com/2803Aditya/Manchester-Derby-Win-Percentage/master/season-1415_csv.csv', usecols = ['Date', 'HomeTeam', 'AwayTeam', 'FTR'])\n",
    "df_1011 = pd.read_csv('https://raw.githubusercontent.com/2803Aditya/Manchester-Derby-Win-Percentage/master/season-1617_csv.csv', usecols = ['Date', 'HomeTeam', 'AwayTeam', 'FTR'])\n",
    "df_1112 = pd.read_csv('https://raw.githubusercontent.com/2803Aditya/Manchester-Derby-Win-Percentage/master/season-1718_csv.csv', usecols = ['Date', 'HomeTeam', 'AwayTeam', 'FTR'])\n",
    "df_1213 = pd.read_csv('https://raw.githubusercontent.com/2803Aditya/Manchester-Derby-Win-Percentage/master/season-1819_csv.csv', usecols = ['Date', 'HomeTeam', 'AwayTeam', 'FTR'])\n",
    "df_1314 = pd.read_csv('https://raw.githubusercontent.com/2803Aditya/Manchester-Derby-Win-Percentage/master/season-1314_csv.csv', usecols = ['Date', 'HomeTeam', 'AwayTeam', 'FTR'])\n",
    "\n",
    "df = pd.concat([df_1415, df_1516, df_1617, df_1718, df_1819, df_0910, df_1011, df_1112, df_1213, df_1314])\n",
    "df.reset_index().drop('index', axis = 1)\n",
    "df['FTR'] = df['FTR'].str.extract(r'([AH]+)')\n",
    "df = df.dropna()\n",
    "df['FTR'] = df['FTR'].replace(['H', 'A'], [df['HomeTeam'], df['AwayTeam']])\n",
    "df['Date'] = pd.to_datetime(df['Date'])\n",
    "united = df[(df['HomeTeam'] == 'Man United') | (df['AwayTeam'] == 'Man United')].copy()\n",
    "city = df[(df['HomeTeam'] == 'Man City') | (df['AwayTeam'] == 'Man City')].copy()"
   ]
  },
  {
   "cell_type": "code",
   "execution_count": 23,
   "metadata": {},
   "outputs": [],
   "source": [
    "city['Month'] = city['Date'].dt.month\n",
    "city['Year'] = city['Date'].dt.year\n",
    "\n",
    "united['Month'] = united['Date'].dt.month\n",
    "united['Year'] = united['Date'].dt.year\n",
    "\n",
    "united['Win'] = np.where(united['FTR'] == 'Man United', 1, 0)\n",
    "city['Win'] = np.where(city['FTR'] == 'Man City', 1, 0)\n",
    "\n",
    "united = united.groupby('Year')['Win'].agg([len, sum, np.mean])\n",
    "city = city.groupby('Year')['Win'].agg([len, sum, np.mean])"
   ]
  },
  {
   "cell_type": "code",
   "execution_count": null,
   "metadata": {},
   "outputs": [],
   "source": []
  },
  {
   "cell_type": "code",
   "execution_count": null,
   "metadata": {},
   "outputs": [],
   "source": []
  }
 ],
 "metadata": {
  "kernelspec": {
   "display_name": "Python 3",
   "language": "python",
   "name": "python3"
  },
  "language_info": {
   "codemirror_mode": {
    "name": "ipython",
    "version": 3
   },
   "file_extension": ".py",
   "mimetype": "text/x-python",
   "name": "python",
   "nbconvert_exporter": "python",
   "pygments_lexer": "ipython3",
   "version": "3.8.3"
  }
 },
 "nbformat": 4,
 "nbformat_minor": 4
}
