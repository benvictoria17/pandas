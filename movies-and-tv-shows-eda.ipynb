{
 "cells": [
  {
   "cell_type": "code",
   "execution_count": 1,
   "metadata": {
    "_cell_guid": "b1076dfc-b9ad-4769-8c92-a6c4dae69d19",
    "_kg_hide-input": true,
    "_kg_hide-output": true,
    "_uuid": "8f2839f25d086af736a60e9eeb907d3b93b6e0e5",
    "execution": {
     "iopub.execute_input": "2020-12-18T12:14:23.196717Z",
     "iopub.status.busy": "2020-12-18T12:14:23.195589Z",
     "iopub.status.idle": "2020-12-18T12:14:23.236026Z",
     "shell.execute_reply": "2020-12-18T12:14:23.235191Z"
    },
    "papermill": {
     "duration": 0.088803,
     "end_time": "2020-12-18T12:14:23.236170",
     "exception": false,
     "start_time": "2020-12-18T12:14:23.147367",
     "status": "completed"
    },
    "tags": []
   },
   "outputs": [
    {
     "name": "stdout",
     "output_type": "stream",
     "text": [
      "/kaggle/input/tv-shows-on-netflix-prime-video-hulu-and-disney/tv_shows.csv\n",
      "/kaggle/input/movies-on-netflix-prime-video-hulu-and-disney/MoviesOnStreamingPlatforms_updated.csv\n"
     ]
    }
   ],
   "source": [
    "# This Python 3 environment comes with many helpful analytics libraries installed\n",
    "# It is defined by the kaggle/python Docker image: https://github.com/kaggle/docker-python\n",
    "# For example, here's several helpful packages to load\n",
    "\n",
    "import numpy as np # linear algebra\n",
    "import pandas as pd # data processing, CSV file I/O (e.g. pd.read_csv)\n",
    "\n",
    "# Input data files are available in the read-only \"../input/\" directory\n",
    "# For example, running this (by clicking run or pressing Shift+Enter) will list all files under the input directory\n",
    "\n",
    "import os\n",
    "for dirname, _, filenames in os.walk('/kaggle/input'):\n",
    "    for filename in filenames:\n",
    "        print(os.path.join(dirname, filename))\n",
    "\n",
    "# You can write up to 5GB to the current directory (/kaggle/working/) that gets preserved as output when you create a version using \"Save & Run All\" \n",
    "# You can also write temporary files to /kaggle/temp/, but they won't be saved outside of the current session"
   ]
  },
  {
   "cell_type": "markdown",
   "metadata": {
    "papermill": {
     "duration": 0.042976,
     "end_time": "2020-12-18T12:14:23.323557",
     "exception": false,
     "start_time": "2020-12-18T12:14:23.280581",
     "status": "completed"
    },
    "tags": []
   },
   "source": [
    "<div class=\"alert alert-warning\">  \n",
    "<h1><strong>🍿Movies and TV shows on streaming platforms</strong></h1>\n",
    "    <h4>During the pandemic,the popularity of streaming platforms has soared immensely📈 <br><br>\n",
    "    Embracing the new normal,here's an EDA of the same.</h4>\n",
    "</div>"
   ]
  },
  {
   "cell_type": "markdown",
   "metadata": {
    "papermill": {
     "duration": 0.04278,
     "end_time": "2020-12-18T12:14:23.409902",
     "exception": false,
     "start_time": "2020-12-18T12:14:23.367122",
     "status": "completed"
    },
    "tags": []
   },
   "source": [
    "<div>\n",
    "<img src=\"https://cdn.technadu.com/wp-content/uploads/2020/04/Netflix-Amazon-Prime-Hulu-Disney-Plus-Logos.png\" width=\"550\"/>\n",
    "</div>"
   ]
  },
  {
   "cell_type": "markdown",
   "metadata": {
    "papermill": {
     "duration": 0.041462,
     "end_time": "2020-12-18T12:14:23.494834",
     "exception": false,
     "start_time": "2020-12-18T12:14:23.453372",
     "status": "completed"
    },
    "tags": []
   },
   "source": [
    "<div class=\"alert alert-info\">  \n",
    "<h3><strong>Imports</strong></h3>\n",
    "</div>"
   ]
  },
  {
   "cell_type": "code",
   "execution_count": 2,
   "metadata": {
    "_cell_guid": "79c7e3d0-c299-4dcb-8224-4455121ee9b0",
    "_uuid": "d629ff2d2480ee46fbb7e2d37f6b5fab8052498a",
    "execution": {
     "iopub.execute_input": "2020-12-18T12:14:23.594880Z",
     "iopub.status.busy": "2020-12-18T12:14:23.594058Z",
     "iopub.status.idle": "2020-12-18T12:14:25.810486Z",
     "shell.execute_reply": "2020-12-18T12:14:25.808723Z"
    },
    "papermill": {
     "duration": 2.273323,
     "end_time": "2020-12-18T12:14:25.810653",
     "exception": false,
     "start_time": "2020-12-18T12:14:23.537330",
     "status": "completed"
    },
    "tags": []
   },
   "outputs": [],
   "source": [
    "import pandas as pd\n",
    "import numpy as np\n",
    "import seaborn as sns\n",
    "import matplotlib.pyplot as plt\n",
    "import matplotlib.pyplot as plt\n",
    "%matplotlib inline\n",
    "import matplotlib.image as mpimg\n",
    "import math\n",
    "import plotly.express as px\n",
    "import plotly.graph_objects as go\n",
    "\n",
    "from matplotlib.offsetbox import (TextArea, DrawingArea, OffsetImage,\n",
    "                                  AnnotationBbox)\n",
    "from plotly.colors import n_colors\n",
    "from plotly.subplots import make_subplots\n",
    "from IPython.display import Image\n",
    "from colorama import Fore, Back, Style\n",
    "y_ = Fore.YELLOW\n",
    "r_ = Fore.RED\n",
    "g_ = Fore.GREEN\n",
    "b_ = Fore.BLUE\n",
    "m_ = Fore.MAGENTA\n",
    "sr_ = Style.RESET_ALL"
   ]
  },
  {
   "cell_type": "markdown",
   "metadata": {
    "papermill": {
     "duration": 0.043745,
     "end_time": "2020-12-18T12:14:25.901449",
     "exception": false,
     "start_time": "2020-12-18T12:14:25.857704",
     "status": "completed"
    },
    "tags": []
   },
   "source": [
    "<div class=\"alert alert-info\">  \n",
    "<h3><strong>Custom Color Palette</strong></h3>\n",
    "</div>"
   ]
  },
  {
   "cell_type": "code",
   "execution_count": 3,
   "metadata": {
    "_kg_hide-input": true,
    "_kg_hide-output": true,
    "execution": {
     "iopub.execute_input": "2020-12-18T12:14:25.997878Z",
     "iopub.status.busy": "2020-12-18T12:14:25.996935Z",
     "iopub.status.idle": "2020-12-18T12:14:26.001582Z",
     "shell.execute_reply": "2020-12-18T12:14:26.000845Z"
    },
    "papermill": {
     "duration": 0.055481,
     "end_time": "2020-12-18T12:14:26.001711",
     "exception": false,
     "start_time": "2020-12-18T12:14:25.946230",
     "status": "completed"
    },
    "tags": []
   },
   "outputs": [],
   "source": [
    "custom_colors = [\"#ff6b6b\",\"#95d5b2\",\"#a2d2ff\",\"#72efdd\"]\n",
    "customPalette = sns.set_palette(sns.color_palette(custom_colors))"
   ]
  },
  {
   "cell_type": "code",
   "execution_count": 4,
   "metadata": {
    "_kg_hide-input": true,
    "execution": {
     "iopub.execute_input": "2020-12-18T12:14:26.097034Z",
     "iopub.status.busy": "2020-12-18T12:14:26.096241Z",
     "iopub.status.idle": "2020-12-18T12:14:26.199101Z",
     "shell.execute_reply": "2020-12-18T12:14:26.198506Z"
    },
    "papermill": {
     "duration": 0.151521,
     "end_time": "2020-12-18T12:14:26.199224",
     "exception": false,
     "start_time": "2020-12-18T12:14:26.047703",
     "status": "completed"
    },
    "tags": []
   },
   "outputs": [
    {
     "data": {
      "image/png": "[encoded data removed]",
      "text/plain": [
       "<Figure size 288x72 with 1 Axes>"
      ]
     },
     "metadata": {
      "needs_background": "light"
     },
     "output_type": "display_data"
    }
   ],
   "source": [
    "sns.palplot(sns.color_palette(custom_colors),size=1)"
   ]
  },
  {
   "cell_type": "markdown",
   "metadata": {
    "papermill": {
     "duration": 0.0442,
     "end_time": "2020-12-18T12:14:26.288706",
     "exception": false,
     "start_time": "2020-12-18T12:14:26.244506",
     "status": "completed"
    },
    "tags": []
   },
   "source": [
    "> <h3>Netflix</h3>"
   ]
  },
  {
   "cell_type": "code",
   "execution_count": 5,
   "metadata": {
    "_kg_hide-input": true,
    "_kg_hide-output": false,
    "execution": {
     "iopub.execute_input": "2020-12-18T12:14:26.384685Z",
     "iopub.status.busy": "2020-12-18T12:14:26.380545Z",
     "iopub.status.idle": "2020-12-18T12:14:26.447856Z",
     "shell.execute_reply": "2020-12-18T12:14:26.447276Z"
    },
    "papermill": {
     "duration": 0.114425,
     "end_time": "2020-12-18T12:14:26.447988",
     "exception": false,
     "start_time": "2020-12-18T12:14:26.333563",
     "status": "completed"
    },
    "tags": []
   },
   "outputs": [
    {
     "data": {
      "image/png": "[encoded data removed]",
      "text/plain": [
       "<Figure size 432x72 with 1 Axes>"
      ]
     },
     "metadata": {
      "needs_background": "light"
     },
     "output_type": "display_data"
    }
   ],
   "source": [
    "netflix_p = sns.light_palette(custom_colors[0], reverse=True)\n",
    "sns.palplot(sns.color_palette(netflix_p),size=1)"
   ]
  },
  {
   "cell_type": "markdown",
   "metadata": {
    "papermill": {
     "duration": 0.043193,
     "end_time": "2020-12-18T12:14:26.534595",
     "exception": false,
     "start_time": "2020-12-18T12:14:26.491402",
     "status": "completed"
    },
    "tags": []
   },
   "source": [
    "> <h3>Hulu</h3>"
   ]
  },
  {
   "cell_type": "code",
   "execution_count": 6,
   "metadata": {
    "_kg_hide-input": true,
    "_kg_hide-output": false,
    "execution": {
     "iopub.execute_input": "2020-12-18T12:14:26.632378Z",
     "iopub.status.busy": "2020-12-18T12:14:26.631627Z",
     "iopub.status.idle": "2020-12-18T12:14:26.693016Z",
     "shell.execute_reply": "2020-12-18T12:14:26.693678Z"
    },
    "papermill": {
     "duration": 0.115655,
     "end_time": "2020-12-18T12:14:26.693862",
     "exception": false,
     "start_time": "2020-12-18T12:14:26.578207",
     "status": "completed"
    },
    "tags": []
   },
   "outputs": [
    {
     "data": {
      "image/png": "[encoded data removed]",
      "text/plain": [
       "<Figure size 432x72 with 1 Axes>"
      ]
     },
     "metadata": {
      "needs_background": "light"
     },
     "output_type": "display_data"
    }
   ],
   "source": [
    "hulu_p = sns.light_palette(custom_colors[1], reverse=True)\n",
    "sns.palplot(sns.color_palette(hulu_p),size=1)"
   ]
  },
  {
   "cell_type": "markdown",
   "metadata": {
    "papermill": {
     "duration": 0.046124,
     "end_time": "2020-12-18T12:14:26.786895",
     "exception": false,
     "start_time": "2020-12-18T12:14:26.740771",
     "status": "completed"
    },
    "tags": []
   },
   "source": [
    "> <h3>Prime Video</h3>"
   ]
  },
  {
   "cell_type": "code",
   "execution_count": 7,
   "metadata": {
    "_kg_hide-input": true,
    "_kg_hide-output": false,
    "execution": {
     "iopub.execute_input": "2020-12-18T12:14:26.885325Z",
     "iopub.status.busy": "2020-12-18T12:14:26.883312Z",
     "iopub.status.idle": "2020-12-18T12:14:26.952651Z",
     "shell.execute_reply": "2020-12-18T12:14:26.951924Z"
    },
    "papermill": {
     "duration": 0.121113,
     "end_time": "2020-12-18T12:14:26.952769",
     "exception": false,
     "start_time": "2020-12-18T12:14:26.831656",
     "status": "completed"
    },
    "tags": []
   },
   "outputs": [
    {
     "data": {
      "image/png": "[encoded data removed]",
      "text/plain": [
       "<Figure size 432x72 with 1 Axes>"
      ]
     },
     "metadata": {
      "needs_background": "light"
     },
     "output_type": "display_data"
    }
   ],
   "source": [
    "prime_p = sns.light_palette(custom_colors[2], reverse=True)\n",
    "sns.palplot(sns.color_palette(prime_p),size=1)"
   ]
  },
  {
   "cell_type": "markdown",
   "metadata": {
    "papermill": {
     "duration": 0.051759,
     "end_time": "2020-12-18T12:14:27.051394",
     "exception": false,
     "start_time": "2020-12-18T12:14:26.999635",
     "status": "completed"
    },
    "tags": []
   },
   "source": [
    "> <h3>Disney+</h3>"
   ]
  },
  {
   "cell_type": "code",
   "execution_count": 8,
   "metadata": {
    "_kg_hide-input": true,
    "_kg_hide-output": false,
    "execution": {
     "iopub.execute_input": "2020-12-18T12:14:27.180660Z",
     "iopub.status.busy": "2020-12-18T12:14:27.172896Z",
     "iopub.status.idle": "2020-12-18T12:14:27.241779Z",
     "shell.execute_reply": "2020-12-18T12:14:27.242362Z"
    },
    "papermill": {
     "duration": 0.141146,
     "end_time": "2020-12-18T12:14:27.242536",
     "exception": false,
     "start_time": "2020-12-18T12:14:27.101390",
     "status": "completed"
    },
    "tags": []
   },
   "outputs": [
    {
     "data": {
      "image/png": "[encoded data removed]",
      "text/plain": [
       "<Figure size 432x72 with 1 Axes>"
      ]
     },
     "metadata": {
      "needs_background": "light"
     },
     "output_type": "display_data"
    }
   ],
   "source": [
    "disney_p = sns.dark_palette(custom_colors[3], reverse=True)\n",
    "sns.palplot(sns.color_palette(disney_p),size=1)"
   ]
  },
  {
   "cell_type": "markdown",
   "metadata": {
    "papermill": {
     "duration": 0.047059,
     "end_time": "2020-12-18T12:14:27.336772",
     "exception": false,
     "start_time": "2020-12-18T12:14:27.289713",
     "status": "completed"
    },
    "tags": []
   },
   "source": [
    "<div class=\"alert alert-info\">  \n",
    "<h3><strong>Loading the dataset and displaying rows</strong></h3>\n",
    "</div>"
   ]
  },
  {
   "cell_type": "code",
   "execution_count": 9,
   "metadata": {
    "execution": {
     "iopub.execute_input": "2020-12-18T12:14:27.436837Z",
     "iopub.status.busy": "2020-12-18T12:14:27.436000Z",
     "iopub.status.idle": "2020-12-18T12:14:27.560457Z",
     "shell.execute_reply": "2020-12-18T12:14:27.559660Z"
    },
    "papermill": {
     "duration": 0.175186,
     "end_time": "2020-12-18T12:14:27.560585",
     "exception": false,
     "start_time": "2020-12-18T12:14:27.385399",
     "status": "completed"
    },
    "tags": []
   },
   "outputs": [],
   "source": [
    "df_tv = pd.read_csv('../input/tv-shows-on-netflix-prime-video-hulu-and-disney/tv_shows.csv')\n",
    "df_movies = pd.read_csv('../input/movies-on-netflix-prime-video-hulu-and-disney/MoviesOnStreamingPlatforms_updated.csv')"
   ]
  },
  {
   "cell_type": "code",
   "execution_count": 10,
   "metadata": {
    "execution": {
     "iopub.execute_input": "2020-12-18T12:14:27.663809Z",
     "iopub.status.busy": "2020-12-18T12:14:27.663094Z",
     "iopub.status.idle": "2020-12-18T12:14:27.686326Z",
     "shell.execute_reply": "2020-12-18T12:14:27.686819Z"
    },
    "papermill": {
     "duration": 0.079858,
     "end_time": "2020-12-18T12:14:27.686978",
     "exception": false,
     "start_time": "2020-12-18T12:14:27.607120",
     "status": "completed"
    },
    "tags": []
   },
   "outputs": [
    {
     "data": {
      "text/html": [
       "<div>\n",
       "<style scoped>\n",
       "    .dataframe tbody tr th:only-of-type {\n",
       "        vertical-align: middle;\n",
       "    }\n",
       "\n",
       "    .dataframe tbody tr th {\n",
       "        vertical-align: top;\n",
       "    }\n",
       "\n",
       "    .dataframe thead th {\n",
       "        text-align: right;\n",
       "    }\n",
       "</style>\n",
       "<table border=\"1\" class=\"dataframe\">\n",
       "  <thead>\n",
       "    <tr style=\"text-align: right;\">\n",
       "      <th></th>\n",
       "      <th>Title</th>\n",
       "      <th>Year</th>\n",
       "      <th>Age</th>\n",
       "      <th>IMDb</th>\n",
       "      <th>Rotten Tomatoes</th>\n",
       "      <th>Netflix</th>\n",
       "      <th>Hulu</th>\n",
       "      <th>Prime Video</th>\n",
       "      <th>Disney+</th>\n",
       "      <th>type</th>\n",
       "    </tr>\n",
       "  </thead>\n",
       "  <tbody>\n",
       "    <tr>\n",
       "      <th>0</th>\n",
       "      <td>Breaking Bad</td>\n",
       "      <td>2008</td>\n",
       "      <td>18+</td>\n",
       "      <td>9.5</td>\n",
       "      <td>96%</td>\n",
       "      <td>1</td>\n",
       "      <td>0</td>\n",
       "      <td>0</td>\n",
       "      <td>0</td>\n",
       "      <td>1</td>\n",
       "    </tr>\n",
       "    <tr>\n",
       "      <th>1</th>\n",
       "      <td>Stranger Things</td>\n",
       "      <td>2016</td>\n",
       "      <td>16+</td>\n",
       "      <td>8.8</td>\n",
       "      <td>93%</td>\n",
       "      <td>1</td>\n",
       "      <td>0</td>\n",
       "      <td>0</td>\n",
       "      <td>0</td>\n",
       "      <td>1</td>\n",
       "    </tr>\n",
       "    <tr>\n",
       "      <th>2</th>\n",
       "      <td>Money Heist</td>\n",
       "      <td>2017</td>\n",
       "      <td>18+</td>\n",
       "      <td>8.4</td>\n",
       "      <td>91%</td>\n",
       "      <td>1</td>\n",
       "      <td>0</td>\n",
       "      <td>0</td>\n",
       "      <td>0</td>\n",
       "      <td>1</td>\n",
       "    </tr>\n",
       "    <tr>\n",
       "      <th>3</th>\n",
       "      <td>Sherlock</td>\n",
       "      <td>2010</td>\n",
       "      <td>16+</td>\n",
       "      <td>9.1</td>\n",
       "      <td>78%</td>\n",
       "      <td>1</td>\n",
       "      <td>0</td>\n",
       "      <td>0</td>\n",
       "      <td>0</td>\n",
       "      <td>1</td>\n",
       "    </tr>\n",
       "    <tr>\n",
       "      <th>4</th>\n",
       "      <td>Better Call Saul</td>\n",
       "      <td>2015</td>\n",
       "      <td>18+</td>\n",
       "      <td>8.7</td>\n",
       "      <td>97%</td>\n",
       "      <td>1</td>\n",
       "      <td>0</td>\n",
       "      <td>0</td>\n",
       "      <td>0</td>\n",
       "      <td>1</td>\n",
       "    </tr>\n",
       "  </tbody>\n",
       "</table>\n",
       "</div>"
      ],
      "text/plain": [
       "              Title  Year  Age  IMDb Rotten Tomatoes  Netflix  Hulu  \\\n",
       "0      Breaking Bad  2008  18+   9.5             96%        1     0   \n",
       "1   Stranger Things  2016  16+   8.8             93%        1     0   \n",
       "2       Money Heist  2017  18+   8.4             91%        1     0   \n",
       "3          Sherlock  2010  16+   9.1             78%        1     0   \n",
       "4  Better Call Saul  2015  18+   8.7             97%        1     0   \n",
       "\n",
       "   Prime Video  Disney+  type  \n",
       "0            0        0     1  \n",
       "1            0        0     1  \n",
       "2            0        0     1  \n",
       "3            0        0     1  \n",
       "4            0        0     1  "
      ]
     },
     "execution_count": 10,
     "metadata": {},
     "output_type": "execute_result"
    }
   ],
   "source": [
    "df_tv = df_tv.drop(['Unnamed: 0'], axis = 1) \n",
    "df_tv.head(5)"
   ]
  },
  {
   "cell_type": "code",
   "execution_count": 11,
   "metadata": {
    "execution": {
     "iopub.execute_input": "2020-12-18T12:14:27.797883Z",
     "iopub.status.busy": "2020-12-18T12:14:27.788217Z",
     "iopub.status.idle": "2020-12-18T12:14:27.813086Z",
     "shell.execute_reply": "2020-12-18T12:14:27.812394Z"
    },
    "papermill": {
     "duration": 0.079375,
     "end_time": "2020-12-18T12:14:27.813207",
     "exception": false,
     "start_time": "2020-12-18T12:14:27.733832",
     "status": "completed"
    },
    "tags": []
   },
   "outputs": [
    {
     "data": {
      "text/html": [
       "<div>\n",
       "<style scoped>\n",
       "    .dataframe tbody tr th:only-of-type {\n",
       "        vertical-align: middle;\n",
       "    }\n",
       "\n",
       "    .dataframe tbody tr th {\n",
       "        vertical-align: top;\n",
       "    }\n",
       "\n",
       "    .dataframe thead th {\n",
       "        text-align: right;\n",
       "    }\n",
       "</style>\n",
       "<table border=\"1\" class=\"dataframe\">\n",
       "  <thead>\n",
       "    <tr style=\"text-align: right;\">\n",
       "      <th></th>\n",
       "      <th>Title</th>\n",
       "      <th>Year</th>\n",
       "      <th>Age</th>\n",
       "      <th>IMDb</th>\n",
       "      <th>Rotten Tomatoes</th>\n",
       "      <th>Netflix</th>\n",
       "      <th>Hulu</th>\n",
       "      <th>Prime Video</th>\n",
       "      <th>Disney+</th>\n",
       "      <th>Type</th>\n",
       "      <th>Directors</th>\n",
       "      <th>Genres</th>\n",
       "      <th>Country</th>\n",
       "      <th>Language</th>\n",
       "      <th>Runtime</th>\n",
       "    </tr>\n",
       "  </thead>\n",
       "  <tbody>\n",
       "    <tr>\n",
       "      <th>0</th>\n",
       "      <td>Inception</td>\n",
       "      <td>2010</td>\n",
       "      <td>13+</td>\n",
       "      <td>8.8</td>\n",
       "      <td>87%</td>\n",
       "      <td>1</td>\n",
       "      <td>0</td>\n",
       "      <td>0</td>\n",
       "      <td>0</td>\n",
       "      <td>0</td>\n",
       "      <td>Christopher Nolan</td>\n",
       "      <td>Action,Adventure,Sci-Fi,Thriller</td>\n",
       "      <td>United States,United Kingdom</td>\n",
       "      <td>English,Japanese,French</td>\n",
       "      <td>148.0</td>\n",
       "    </tr>\n",
       "    <tr>\n",
       "      <th>1</th>\n",
       "      <td>The Matrix</td>\n",
       "      <td>1999</td>\n",
       "      <td>18+</td>\n",
       "      <td>8.7</td>\n",
       "      <td>87%</td>\n",
       "      <td>1</td>\n",
       "      <td>0</td>\n",
       "      <td>0</td>\n",
       "      <td>0</td>\n",
       "      <td>0</td>\n",
       "      <td>Lana Wachowski,Lilly Wachowski</td>\n",
       "      <td>Action,Sci-Fi</td>\n",
       "      <td>United States</td>\n",
       "      <td>English</td>\n",
       "      <td>136.0</td>\n",
       "    </tr>\n",
       "    <tr>\n",
       "      <th>2</th>\n",
       "      <td>Avengers: Infinity War</td>\n",
       "      <td>2018</td>\n",
       "      <td>13+</td>\n",
       "      <td>8.5</td>\n",
       "      <td>84%</td>\n",
       "      <td>1</td>\n",
       "      <td>0</td>\n",
       "      <td>0</td>\n",
       "      <td>0</td>\n",
       "      <td>0</td>\n",
       "      <td>Anthony Russo,Joe Russo</td>\n",
       "      <td>Action,Adventure,Sci-Fi</td>\n",
       "      <td>United States</td>\n",
       "      <td>English</td>\n",
       "      <td>149.0</td>\n",
       "    </tr>\n",
       "    <tr>\n",
       "      <th>3</th>\n",
       "      <td>Back to the Future</td>\n",
       "      <td>1985</td>\n",
       "      <td>7+</td>\n",
       "      <td>8.5</td>\n",
       "      <td>96%</td>\n",
       "      <td>1</td>\n",
       "      <td>0</td>\n",
       "      <td>0</td>\n",
       "      <td>0</td>\n",
       "      <td>0</td>\n",
       "      <td>Robert Zemeckis</td>\n",
       "      <td>Adventure,Comedy,Sci-Fi</td>\n",
       "      <td>United States</td>\n",
       "      <td>English</td>\n",
       "      <td>116.0</td>\n",
       "    </tr>\n",
       "    <tr>\n",
       "      <th>4</th>\n",
       "      <td>The Good, the Bad and the Ugly</td>\n",
       "      <td>1966</td>\n",
       "      <td>18+</td>\n",
       "      <td>8.8</td>\n",
       "      <td>97%</td>\n",
       "      <td>1</td>\n",
       "      <td>0</td>\n",
       "      <td>1</td>\n",
       "      <td>0</td>\n",
       "      <td>0</td>\n",
       "      <td>Sergio Leone</td>\n",
       "      <td>Western</td>\n",
       "      <td>Italy,Spain,West Germany</td>\n",
       "      <td>Italian</td>\n",
       "      <td>161.0</td>\n",
       "    </tr>\n",
       "  </tbody>\n",
       "</table>\n",
       "</div>"
      ],
      "text/plain": [
       "                            Title  Year  Age  IMDb Rotten Tomatoes  Netflix  \\\n",
       "0                       Inception  2010  13+   8.8             87%        1   \n",
       "1                      The Matrix  1999  18+   8.7             87%        1   \n",
       "2          Avengers: Infinity War  2018  13+   8.5             84%        1   \n",
       "3              Back to the Future  1985   7+   8.5             96%        1   \n",
       "4  The Good, the Bad and the Ugly  1966  18+   8.8             97%        1   \n",
       "\n",
       "   Hulu  Prime Video  Disney+  Type                       Directors  \\\n",
       "0     0            0        0     0               Christopher Nolan   \n",
       "1     0            0        0     0  Lana Wachowski,Lilly Wachowski   \n",
       "2     0            0        0     0         Anthony Russo,Joe Russo   \n",
       "3     0            0        0     0                 Robert Zemeckis   \n",
       "4     0            1        0     0                    Sergio Leone   \n",
       "\n",
       "                             Genres                       Country  \\\n",
       "0  Action,Adventure,Sci-Fi,Thriller  United States,United Kingdom   \n",
       "1                     Action,Sci-Fi                 United States   \n",
       "2           Action,Adventure,Sci-Fi                 United States   \n",
       "3           Adventure,Comedy,Sci-Fi                 United States   \n",
       "4                           Western      Italy,Spain,West Germany   \n",
       "\n",
       "                  Language  Runtime  \n",
       "0  English,Japanese,French    148.0  \n",
       "1                  English    136.0  \n",
       "2                  English    149.0  \n",
       "3                  English    116.0  \n",
       "4                  Italian    161.0  "
      ]
     },
     "execution_count": 11,
     "metadata": {},
     "output_type": "execute_result"
    }
   ],
   "source": [
    "df_movies = df_movies.drop(['Unnamed: 0','ID'], axis = 1) \n",
    "df_movies.head(5)"
   ]
  },
  {
   "cell_type": "markdown",
   "metadata": {
    "papermill": {
     "duration": 0.048661,
     "end_time": "2020-12-18T12:14:27.909751",
     "exception": false,
     "start_time": "2020-12-18T12:14:27.861090",
     "status": "completed"
    },
    "tags": []
   },
   "source": [
    "<h3> Number of unique directors for movies </h3>"
   ]
  },
  {
   "cell_type": "code",
   "execution_count": 12,
   "metadata": {
    "execution": {
     "iopub.execute_input": "2020-12-18T12:14:28.019306Z",
     "iopub.status.busy": "2020-12-18T12:14:28.018236Z",
     "iopub.status.idle": "2020-12-18T12:14:28.023995Z",
     "shell.execute_reply": "2020-12-18T12:14:28.023460Z"
    },
    "papermill": {
     "duration": 0.065808,
     "end_time": "2020-12-18T12:14:28.024122",
     "exception": false,
     "start_time": "2020-12-18T12:14:27.958314",
     "status": "completed"
    },
    "tags": []
   },
   "outputs": [
    {
     "data": {
      "text/plain": [
       "11339"
      ]
     },
     "execution_count": 12,
     "metadata": {},
     "output_type": "execute_result"
    }
   ],
   "source": [
    "len(df_movies['Directors'].unique())"
   ]
  },
  {
   "cell_type": "markdown",
   "metadata": {
    "papermill": {
     "duration": 0.049759,
     "end_time": "2020-12-18T12:14:28.122277",
     "exception": false,
     "start_time": "2020-12-18T12:14:28.072518",
     "status": "completed"
    },
    "tags": []
   },
   "source": [
    "<h3>Number of unique genres for movies </h3>"
   ]
  },
  {
   "cell_type": "code",
   "execution_count": 13,
   "metadata": {
    "execution": {
     "iopub.execute_input": "2020-12-18T12:14:28.227744Z",
     "iopub.status.busy": "2020-12-18T12:14:28.226694Z",
     "iopub.status.idle": "2020-12-18T12:14:28.232067Z",
     "shell.execute_reply": "2020-12-18T12:14:28.231434Z"
    },
    "papermill": {
     "duration": 0.061571,
     "end_time": "2020-12-18T12:14:28.232182",
     "exception": false,
     "start_time": "2020-12-18T12:14:28.170611",
     "status": "completed"
    },
    "tags": []
   },
   "outputs": [
    {
     "data": {
      "text/plain": [
       "1910"
      ]
     },
     "execution_count": 13,
     "metadata": {},
     "output_type": "execute_result"
    }
   ],
   "source": [
    "len(df_movies['Genres'].unique())"
   ]
  },
  {
   "cell_type": "markdown",
   "metadata": {
    "papermill": {
     "duration": 0.047684,
     "end_time": "2020-12-18T12:14:28.328547",
     "exception": false,
     "start_time": "2020-12-18T12:14:28.280863",
     "status": "completed"
    },
    "tags": []
   },
   "source": [
    "<div class=\"alert alert-info\">  \n",
    "<h3><strong>Feature generation</strong></h3>\n",
    "</div>"
   ]
  },
  {
   "cell_type": "code",
   "execution_count": 14,
   "metadata": {
    "_kg_hide-input": true,
    "_kg_hide-output": true,
    "execution": {
     "iopub.execute_input": "2020-12-18T12:14:28.432658Z",
     "iopub.status.busy": "2020-12-18T12:14:28.431630Z",
     "iopub.status.idle": "2020-12-18T12:14:28.435519Z",
     "shell.execute_reply": "2020-12-18T12:14:28.434928Z"
    },
    "papermill": {
     "duration": 0.058461,
     "end_time": "2020-12-18T12:14:28.435632",
     "exception": false,
     "start_time": "2020-12-18T12:14:28.377171",
     "status": "completed"
    },
    "tags": []
   },
   "outputs": [],
   "source": [
    "def splitting(dataframe,col):\n",
    "    result = dataframe[col].str.get_dummies(',')\n",
    "    print('Done!')\n",
    "    return result"
   ]
  },
  {
   "cell_type": "code",
   "execution_count": 15,
   "metadata": {
    "_kg_hide-output": true,
    "execution": {
     "iopub.execute_input": "2020-12-18T12:14:28.544055Z",
     "iopub.status.busy": "2020-12-18T12:14:28.540368Z",
     "iopub.status.idle": "2020-12-18T12:14:33.925989Z",
     "shell.execute_reply": "2020-12-18T12:14:33.925404Z"
    },
    "papermill": {
     "duration": 5.441883,
     "end_time": "2020-12-18T12:14:33.926122",
     "exception": false,
     "start_time": "2020-12-18T12:14:28.484239",
     "status": "completed"
    },
    "tags": []
   },
   "outputs": [
    {
     "name": "stdout",
     "output_type": "stream",
     "text": [
      "Done!\n",
      "Done!\n"
     ]
    }
   ],
   "source": [
    "m_genres = splitting(df_movies,'Genres')\n",
    "m_lang = splitting(df_movies,'Language')"
   ]
  },
  {
   "cell_type": "markdown",
   "metadata": {
    "papermill": {
     "duration": 0.049995,
     "end_time": "2020-12-18T12:14:34.028797",
     "exception": false,
     "start_time": "2020-12-18T12:14:33.978802",
     "status": "completed"
    },
    "tags": []
   },
   "source": [
    "<div class=\"alert alert-info\">  \n",
    "<h3><strong>TV shows and Movies per platform</strong></h3>\n",
    "</div>"
   ]
  },
  {
   "cell_type": "code",
   "execution_count": 16,
   "metadata": {
    "execution": {
     "iopub.execute_input": "2020-12-18T12:14:34.134520Z",
     "iopub.status.busy": "2020-12-18T12:14:34.133825Z",
     "iopub.status.idle": "2020-12-18T12:14:34.137412Z",
     "shell.execute_reply": "2020-12-18T12:14:34.136787Z"
    },
    "papermill": {
     "duration": 0.059554,
     "end_time": "2020-12-18T12:14:34.137533",
     "exception": false,
     "start_time": "2020-12-18T12:14:34.077979",
     "status": "completed"
    },
    "tags": []
   },
   "outputs": [],
   "source": [
    "def val_sum(df,c):\n",
    "    return df[c].sum(axis=0)"
   ]
  },
  {
   "cell_type": "code",
   "execution_count": 17,
   "metadata": {
    "execution": {
     "iopub.execute_input": "2020-12-18T12:14:34.249735Z",
     "iopub.status.busy": "2020-12-18T12:14:34.248859Z",
     "iopub.status.idle": "2020-12-18T12:14:34.252409Z",
     "shell.execute_reply": "2020-12-18T12:14:34.251816Z"
    },
    "papermill": {
     "duration": 0.065759,
     "end_time": "2020-12-18T12:14:34.252538",
     "exception": false,
     "start_time": "2020-12-18T12:14:34.186779",
     "status": "completed"
    },
    "tags": []
   },
   "outputs": [],
   "source": [
    "val_counts = []\n",
    "dfs = [df_movies,df_tv]\n",
    "cols = ['Netflix','Hulu','Prime Video','Disney+']\n",
    "\n",
    "for x in dfs:\n",
    "    for y in cols:\n",
    "        val_counts.append(val_sum(x,y))"
   ]
  },
  {
   "cell_type": "code",
   "execution_count": 18,
   "metadata": {
    "_kg_hide-output": true,
    "execution": {
     "iopub.execute_input": "2020-12-18T12:14:34.359828Z",
     "iopub.status.busy": "2020-12-18T12:14:34.359142Z",
     "iopub.status.idle": "2020-12-18T12:14:34.363238Z",
     "shell.execute_reply": "2020-12-18T12:14:34.362604Z"
    },
    "papermill": {
     "duration": 0.060574,
     "end_time": "2020-12-18T12:14:34.363376",
     "exception": false,
     "start_time": "2020-12-18T12:14:34.302802",
     "status": "completed"
    },
    "tags": []
   },
   "outputs": [
    {
     "data": {
      "text/plain": [
       "[3560, 903, 12354, 564, 1931, 1754, 2144, 180]"
      ]
     },
     "execution_count": 18,
     "metadata": {},
     "output_type": "execute_result"
    }
   ],
   "source": [
    "val_counts"
   ]
  },
  {
   "cell_type": "code",
   "execution_count": 19,
   "metadata": {
    "_kg_hide-input": true,
    "execution": {
     "iopub.execute_input": "2020-12-18T12:14:34.475006Z",
     "iopub.status.busy": "2020-12-18T12:14:34.474234Z",
     "iopub.status.idle": "2020-12-18T12:14:34.477112Z",
     "shell.execute_reply": "2020-12-18T12:14:34.476569Z"
    },
    "papermill": {
     "duration": 0.063127,
     "end_time": "2020-12-18T12:14:34.477241",
     "exception": false,
     "start_time": "2020-12-18T12:14:34.414114",
     "status": "completed"
    },
    "tags": []
   },
   "outputs": [],
   "source": [
    "def donut(i,df,sizes,title):\n",
    "    plt.subplot(i)\n",
    "    plt.pie(sizes, explode=explode, labels=labels, colors=colors,\n",
    "                autopct='%1.1f%%', shadow=True)\n",
    "\n",
    "    centre_circle = plt.Circle((0,0),0.5,color='black', fc='white',linewidth=1.25)\n",
    "    fig = plt.gcf()\n",
    "    fig.gca().add_artist(centre_circle)\n",
    "    plt.title(title)\n",
    "    plt.axis('equal')"
   ]
  },
  {
   "cell_type": "code",
   "execution_count": 20,
   "metadata": {
    "_kg_hide-input": true,
    "execution": {
     "iopub.execute_input": "2020-12-18T12:14:34.600604Z",
     "iopub.status.busy": "2020-12-18T12:14:34.595896Z",
     "iopub.status.idle": "2020-12-18T12:14:34.782181Z",
     "shell.execute_reply": "2020-12-18T12:14:34.782696Z"
    },
    "papermill": {
     "duration": 0.255098,
     "end_time": "2020-12-18T12:14:34.782870",
     "exception": false,
     "start_time": "2020-12-18T12:14:34.527772",
     "status": "completed"
    },
    "tags": []
   },
   "outputs": [
    {
     "data": {
      "image/png": "[encoded data removed]",
      "text/plain": [
       "<Figure size 1152x576 with 2 Axes>"
      ]
     },
     "metadata": {},
     "output_type": "display_data"
    }
   ],
   "source": [
    "fig = plt.subplots(figsize=(16, 8))\n",
    "labels = 'Netflix', 'Hulu','Prime','Disney+'\n",
    "sizes1 = [val_counts[0], val_counts[1],val_counts[2],val_counts[3]]\n",
    "sizes2 = [val_counts[4], val_counts[5],val_counts[6],val_counts[7]]\n",
    "colors = custom_colors\n",
    "explode = (0, 0, 0, 0) \n",
    "\n",
    "donut(121,df_movies,sizes1,'Movies')\n",
    "donut(122,df_tv,sizes2,'TV shows')\n",
    "plt.show()"
   ]
  },
  {
   "cell_type": "markdown",
   "metadata": {
    "papermill": {
     "duration": 0.051963,
     "end_time": "2020-12-18T12:14:34.889511",
     "exception": false,
     "start_time": "2020-12-18T12:14:34.837548",
     "status": "completed"
    },
    "tags": []
   },
   "source": [
    "<div>  \n",
    "<h4><strong>📌 Prime has the maximum number of movies and tv shows!</strong></h4>\n",
    "</div>"
   ]
  },
  {
   "cell_type": "code",
   "execution_count": 21,
   "metadata": {
    "_kg_hide-input": true,
    "execution": {
     "iopub.execute_input": "2020-12-18T12:14:35.008028Z",
     "iopub.status.busy": "2020-12-18T12:14:35.007242Z",
     "iopub.status.idle": "2020-12-18T12:14:35.205864Z",
     "shell.execute_reply": "2020-12-18T12:14:35.206517Z"
    },
    "papermill": {
     "duration": 0.262549,
     "end_time": "2020-12-18T12:14:35.206673",
     "exception": false,
     "start_time": "2020-12-18T12:14:34.944124",
     "status": "completed"
    },
    "tags": []
   },
   "outputs": [
    {
     "data": {
      "text/html": [
       "        <script type=\"text/javascript\">\n",
       "        window.PlotlyConfig = {MathJaxConfig: 'local'};\n",
       "        if (window.MathJax) {MathJax.Hub.Config({SVG: {font: \"STIX-Web\"}});}\n",
       "        if (typeof require !== 'undefined') {\n",
       "        require.undef(\"plotly\");\n",
       "        requirejs.config({\n",
       "            paths: {\n",
       "                'plotly': ['https://cdn.plot.ly/plotly-latest.min']\n",
       "            }\n",
       "        });\n",
       "        require(['plotly'], function(Plotly) {\n",
       "            window._Plotly = Plotly;\n",
       "        });\n",
       "        }\n",
       "        </script>\n",
       "        "
      ]
     },
     "metadata": {},
     "output_type": "display_data"
    },
    {
     "data": {
      "text/html": [
       "<div>                            <div id=\"5661c221-7e35-40c4-a87e-8928a1be813b\" class=\"plotly-graph-div\" style=\"height:525px; width:100%;\"></div>            <script type=\"text/javascript\">                require([\"plotly\"], function(Plotly) {                    window.PLOTLYENV=window.PLOTLYENV || {};                                    if (document.getElementById(\"5661c221-7e35-40c4-a87e-8928a1be813b\")) {                    Plotly.newPlot(                        \"5661c221-7e35-40c4-a87e-8928a1be813b\",                        [{\"domain\": {\"x\": [0, 0.5], \"y\": [0.6, 1]}, \"mode\": \"number\", \"number\": {\"font\": {\"color\": \"#a2d2ff\", \"size\": 100}}, \"title\": {\"text\": \"Movies<br><span style='font-size:0.8em;color:gray'>On Prime Video</span>\"}, \"type\": \"indicator\", \"value\": 12354}, {\"domain\": {\"x\": [0.5, 1], \"y\": [0, 0.4]}, \"mode\": \"number\", \"number\": {\"font\": {\"color\": \"#a2d2ff\", \"size\": 100}}, \"title\": {\"text\": \"TV Shows<br><span style='font-size:0.8em;color:gray'>On Prime Video</span>\"}, \"type\": \"indicator\", \"value\": 2144}],                        {\"template\": {\"data\": {\"bar\": [{\"error_x\": {\"color\": \"#2a3f5f\"}, \"error_y\": {\"color\": \"#2a3f5f\"}, \"marker\": {\"line\": {\"color\": \"#E5ECF6\", \"width\": 0.5}}, \"type\": \"bar\"}], \"barpolar\": [{\"marker\": {\"line\": {\"color\": \"#E5ECF6\", \"width\": 0.5}}, \"type\": \"barpolar\"}], \"carpet\": [{\"aaxis\": {\"endlinecolor\": \"#2a3f5f\", \"gridcolor\": \"white\", \"linecolor\": \"white\", \"minorgridcolor\": \"white\", \"startlinecolor\": \"#2a3f5f\"}, \"baxis\": {\"endlinecolor\": \"#2a3f5f\", \"gridcolor\": \"white\", \"linecolor\": \"white\", \"minorgridcolor\": \"white\", \"startlinecolor\": \"#2a3f5f\"}, \"type\": \"carpet\"}], \"choropleth\": [{\"colorbar\": {\"outlinewidth\": 0, \"ticks\": \"\"}, \"type\": \"choropleth\"}], \"contour\": [{\"colorbar\": {\"outlinewidth\": 0, \"ticks\": \"\"}, \"colorscale\": [[0.0, \"#0d0887\"], [0.1111111111111111, \"#46039f\"], [0.2222222222222222, \"#7201a8\"], [0.3333333333333333, \"#9c179e\"], [0.4444444444444444, \"#bd3786\"], [0.5555555555555556, \"#d8576b\"], [0.6666666666666666, \"#ed7953\"], [0.7777777777777778, \"#fb9f3a\"], [0.8888888888888888, \"#fdca26\"], [1.0, \"#f0f921\"]], \"type\": \"contour\"}], \"contourcarpet\": [{\"colorbar\": {\"outlinewidth\": 0, \"ticks\": \"\"}, \"type\": \"contourcarpet\"}], \"heatmap\": [{\"colorbar\": {\"outlinewidth\": 0, \"ticks\": \"\"}, \"colorscale\": [[0.0, \"#0d0887\"], [0.1111111111111111, \"#46039f\"], [0.2222222222222222, \"#7201a8\"], [0.3333333333333333, \"#9c179e\"], [0.4444444444444444, \"#bd3786\"], [0.5555555555555556, \"#d8576b\"], [0.6666666666666666, \"#ed7953\"], [0.7777777777777778, \"#fb9f3a\"], [0.8888888888888888, \"#fdca26\"], [1.0, \"#f0f921\"]], \"type\": \"heatmap\"}], \"heatmapgl\": [{\"colorbar\": {\"outlinewidth\": 0, \"ticks\": \"\"}, \"colorscale\": [[0.0, \"#0d0887\"], [0.1111111111111111, \"#46039f\"], [0.2222222222222222, \"#7201a8\"], [0.3333333333333333, \"#9c179e\"], [0.4444444444444444, \"#bd3786\"], [0.5555555555555556, \"#d8576b\"], [0.6666666666666666, \"#ed7953\"], [0.7777777777777778, \"#fb9f3a\"], [0.8888888888888888, \"#fdca26\"], [1.0, \"#f0f921\"]], \"type\": \"heatmapgl\"}], \"histogram\": [{\"marker\": {\"colorbar\": {\"outlinewidth\": 0, \"ticks\": \"\"}}, \"type\": \"histogram\"}], \"histogram2d\": [{\"colorbar\": {\"outlinewidth\": 0, \"ticks\": \"\"}, \"colorscale\": [[0.0, \"#0d0887\"], [0.1111111111111111, \"#46039f\"], [0.2222222222222222, \"#7201a8\"], [0.3333333333333333, \"#9c179e\"], [0.4444444444444444, \"#bd3786\"], [0.5555555555555556, \"#d8576b\"], [0.6666666666666666, \"#ed7953\"], [0.7777777777777778, \"#fb9f3a\"], [0.8888888888888888, \"#fdca26\"], [1.0, \"#f0f921\"]], \"type\": \"histogram2d\"}], \"histogram2dcontour\": [{\"colorbar\": {\"outlinewidth\": 0, \"ticks\": \"\"}, \"colorscale\": [[0.0, \"#0d0887\"], [0.1111111111111111, \"#46039f\"], [0.2222222222222222, \"#7201a8\"], [0.3333333333333333, \"#9c179e\"], [0.4444444444444444, \"#bd3786\"], [0.5555555555555556, \"#d8576b\"], [0.6666666666666666, \"#ed7953\"], [0.7777777777777778, \"#fb9f3a\"], [0.8888888888888888, \"#fdca26\"], [1.0, \"#f0f921\"]], \"type\": \"histogram2dcontour\"}], \"mesh3d\": [{\"colorbar\": {\"outlinewidth\": 0, \"ticks\": \"\"}, \"type\": \"mesh3d\"}], \"parcoords\": [{\"line\": {\"colorbar\": {\"outlinewidth\": 0, \"ticks\": \"\"}}, \"type\": \"parcoords\"}], \"pie\": [{\"automargin\": true, \"type\": \"pie\"}], \"scatter\": [{\"marker\": {\"colorbar\": {\"outlinewidth\": 0, \"ticks\": \"\"}}, \"type\": \"scatter\"}], \"scatter3d\": [{\"line\": {\"colorbar\": {\"outlinewidth\": 0, \"ticks\": \"\"}}, \"marker\": {\"colorbar\": {\"outlinewidth\": 0, \"ticks\": \"\"}}, \"type\": \"scatter3d\"}], \"scattercarpet\": [{\"marker\": {\"colorbar\": {\"outlinewidth\": 0, \"ticks\": \"\"}}, \"type\": \"scattercarpet\"}], \"scattergeo\": [{\"marker\": {\"colorbar\": {\"outlinewidth\": 0, \"ticks\": \"\"}}, \"type\": \"scattergeo\"}], \"scattergl\": [{\"marker\": {\"colorbar\": {\"outlinewidth\": 0, \"ticks\": \"\"}}, \"type\": \"scattergl\"}], \"scattermapbox\": [{\"marker\": {\"colorbar\": {\"outlinewidth\": 0, \"ticks\": \"\"}}, \"type\": \"scattermapbox\"}], \"scatterpolar\": [{\"marker\": {\"colorbar\": {\"outlinewidth\": 0, \"ticks\": \"\"}}, \"type\": \"scatterpolar\"}], \"scatterpolargl\": [{\"marker\": {\"colorbar\": {\"outlinewidth\": 0, \"ticks\": \"\"}}, \"type\": \"scatterpolargl\"}], \"scatterternary\": [{\"marker\": {\"colorbar\": {\"outlinewidth\": 0, \"ticks\": \"\"}}, \"type\": \"scatterternary\"}], \"surface\": [{\"colorbar\": {\"outlinewidth\": 0, \"ticks\": \"\"}, \"colorscale\": [[0.0, \"#0d0887\"], [0.1111111111111111, \"#46039f\"], [0.2222222222222222, \"#7201a8\"], [0.3333333333333333, \"#9c179e\"], [0.4444444444444444, \"#bd3786\"], [0.5555555555555556, \"#d8576b\"], [0.6666666666666666, \"#ed7953\"], [0.7777777777777778, \"#fb9f3a\"], [0.8888888888888888, \"#fdca26\"], [1.0, \"#f0f921\"]], \"type\": \"surface\"}], \"table\": [{\"cells\": {\"fill\": {\"color\": \"#EBF0F8\"}, \"line\": {\"color\": \"white\"}}, \"header\": {\"fill\": {\"color\": \"#C8D4E3\"}, \"line\": {\"color\": \"white\"}}, \"type\": \"table\"}]}, \"layout\": {\"annotationdefaults\": {\"arrowcolor\": \"#2a3f5f\", \"arrowhead\": 0, \"arrowwidth\": 1}, \"coloraxis\": {\"colorbar\": {\"outlinewidth\": 0, \"ticks\": \"\"}}, \"colorscale\": {\"diverging\": [[0, \"#8e0152\"], [0.1, \"#c51b7d\"], [0.2, \"#de77ae\"], [0.3, \"#f1b6da\"], [0.4, \"#fde0ef\"], [0.5, \"#f7f7f7\"], [0.6, \"#e6f5d0\"], [0.7, \"#b8e186\"], [0.8, \"#7fbc41\"], [0.9, \"#4d9221\"], [1, \"#276419\"]], \"sequential\": [[0.0, \"#0d0887\"], [0.1111111111111111, \"#46039f\"], [0.2222222222222222, \"#7201a8\"], [0.3333333333333333, \"#9c179e\"], [0.4444444444444444, \"#bd3786\"], [0.5555555555555556, \"#d8576b\"], [0.6666666666666666, \"#ed7953\"], [0.7777777777777778, \"#fb9f3a\"], [0.8888888888888888, \"#fdca26\"], [1.0, \"#f0f921\"]], \"sequentialminus\": [[0.0, \"#0d0887\"], [0.1111111111111111, \"#46039f\"], [0.2222222222222222, \"#7201a8\"], [0.3333333333333333, \"#9c179e\"], [0.4444444444444444, \"#bd3786\"], [0.5555555555555556, \"#d8576b\"], [0.6666666666666666, \"#ed7953\"], [0.7777777777777778, \"#fb9f3a\"], [0.8888888888888888, \"#fdca26\"], [1.0, \"#f0f921\"]]}, \"colorway\": [\"#636efa\", \"#EF553B\", \"#00cc96\", \"#ab63fa\", \"#FFA15A\", \"#19d3f3\", \"#FF6692\", \"#B6E880\", \"#FF97FF\", \"#FECB52\"], \"font\": {\"color\": \"#2a3f5f\"}, \"geo\": {\"bgcolor\": \"white\", \"lakecolor\": \"white\", \"landcolor\": \"#E5ECF6\", \"showlakes\": true, \"showland\": true, \"subunitcolor\": \"white\"}, \"hoverlabel\": {\"align\": \"left\"}, \"hovermode\": \"closest\", \"mapbox\": {\"style\": \"light\"}, \"paper_bgcolor\": \"white\", \"plot_bgcolor\": \"#E5ECF6\", \"polar\": {\"angularaxis\": {\"gridcolor\": \"white\", \"linecolor\": \"white\", \"ticks\": \"\"}, \"bgcolor\": \"#E5ECF6\", \"radialaxis\": {\"gridcolor\": \"white\", \"linecolor\": \"white\", \"ticks\": \"\"}}, \"scene\": {\"xaxis\": {\"backgroundcolor\": \"#E5ECF6\", \"gridcolor\": \"white\", \"gridwidth\": 2, \"linecolor\": \"white\", \"showbackground\": true, \"ticks\": \"\", \"zerolinecolor\": \"white\"}, \"yaxis\": {\"backgroundcolor\": \"#E5ECF6\", \"gridcolor\": \"white\", \"gridwidth\": 2, \"linecolor\": \"white\", \"showbackground\": true, \"ticks\": \"\", \"zerolinecolor\": \"white\"}, \"zaxis\": {\"backgroundcolor\": \"#E5ECF6\", \"gridcolor\": \"white\", \"gridwidth\": 2, \"linecolor\": \"white\", \"showbackground\": true, \"ticks\": \"\", \"zerolinecolor\": \"white\"}}, \"shapedefaults\": {\"line\": {\"color\": \"#2a3f5f\"}}, \"ternary\": {\"aaxis\": {\"gridcolor\": \"white\", \"linecolor\": \"white\", \"ticks\": \"\"}, \"baxis\": {\"gridcolor\": \"white\", \"linecolor\": \"white\", \"ticks\": \"\"}, \"bgcolor\": \"#E5ECF6\", \"caxis\": {\"gridcolor\": \"white\", \"linecolor\": \"white\", \"ticks\": \"\"}}, \"title\": {\"x\": 0.05}, \"xaxis\": {\"automargin\": true, \"gridcolor\": \"white\", \"linecolor\": \"white\", \"ticks\": \"\", \"title\": {\"standoff\": 15}, \"zerolinecolor\": \"white\", \"zerolinewidth\": 2}, \"yaxis\": {\"automargin\": true, \"gridcolor\": \"white\", \"linecolor\": \"white\", \"ticks\": \"\", \"title\": {\"standoff\": 15}, \"zerolinecolor\": \"white\", \"zerolinewidth\": 2}}}, \"xaxis\": {\"anchor\": \"y\", \"domain\": [0.0, 0.45]}, \"xaxis2\": {\"anchor\": \"y2\", \"domain\": [0.55, 1.0]}, \"yaxis\": {\"anchor\": \"x\", \"domain\": [0.0, 1.0]}, \"yaxis2\": {\"anchor\": \"x2\", \"domain\": [0.0, 1.0]}},                        {\"responsive\": true}                    ).then(function(){\n",
       "                            \n",
       "var gd = document.getElementById('5661c221-7e35-40c4-a87e-8928a1be813b');\n",
       "var x = new MutationObserver(function (mutations, observer) {{\n",
       "        var display = window.getComputedStyle(gd).display;\n",
       "        if (!display || display === 'none') {{\n",
       "            console.log([gd, 'removed!']);\n",
       "            Plotly.purge(gd);\n",
       "            observer.disconnect();\n",
       "        }}\n",
       "}});\n",
       "\n",
       "// Listen for the removal of the full notebook cells\n",
       "var notebookContainer = gd.closest('#notebook-container');\n",
       "if (notebookContainer) {{\n",
       "    x.observe(notebookContainer, {childList: true});\n",
       "}}\n",
       "\n",
       "// Listen for the clearing of the current output cell\n",
       "var outputEl = gd.closest('.output');\n",
       "if (outputEl) {{\n",
       "    x.observe(outputEl, {childList: true});\n",
       "}}\n",
       "\n",
       "                        })                };                });            </script>        </div>"
      ]
     },
     "metadata": {},
     "output_type": "display_data"
    }
   ],
   "source": [
    "fig = make_subplots(rows=1, cols=2)\n",
    "\n",
    "fig.add_trace(go.Indicator(\n",
    "    mode = \"number\",\n",
    "    value = 12354,\n",
    "    number={'font':{'color': custom_colors[2],'size':100}},\n",
    "    title = {\"text\": \"Movies<br><span style='font-size:0.8em;color:gray'>On Prime Video</span>\"},\n",
    "    domain = {'x': [0, 0.5], 'y': [0.6, 1]}))\n",
    "\n",
    "fig.add_trace(go.Indicator(\n",
    "    mode = \"number\",\n",
    "    value = 2144,\n",
    "    number={'font':{'color': custom_colors[2],'size':100}},\n",
    "    title = {\"text\": \"TV Shows<br><span style='font-size:0.8em;color:gray'>On Prime Video</span>\"},\n",
    "    domain = {'x': [0.5, 1], 'y': [0, 0.4]}))\n",
    "\n",
    "fig.show()"
   ]
  },
  {
   "cell_type": "markdown",
   "metadata": {
    "papermill": {
     "duration": 0.05314,
     "end_time": "2020-12-18T12:14:35.313818",
     "exception": false,
     "start_time": "2020-12-18T12:14:35.260678",
     "status": "completed"
    },
    "tags": []
   },
   "source": [
    "<div class=\"alert alert-info\">  \n",
    "<h3><strong>Movies with the highest IMDb rating on each platform and genres</strong></h3>\n",
    "</div>"
   ]
  },
  {
   "cell_type": "code",
   "execution_count": 22,
   "metadata": {
    "_kg_hide-input": true,
    "execution": {
     "iopub.execute_input": "2020-12-18T12:14:35.425625Z",
     "iopub.status.busy": "2020-12-18T12:14:35.424657Z",
     "iopub.status.idle": "2020-12-18T12:14:35.432728Z",
     "shell.execute_reply": "2020-12-18T12:14:35.433322Z"
    },
    "papermill": {
     "duration": 0.065545,
     "end_time": "2020-12-18T12:14:35.433479",
     "exception": false,
     "start_time": "2020-12-18T12:14:35.367934",
     "status": "completed"
    },
    "tags": []
   },
   "outputs": [],
   "source": [
    "def sunburst(dataframe,platform,c):\n",
    "    dataframe=dataframe.loc[dataframe[platform] == 1]\n",
    "    dataframe=dataframe.sort_values(by='IMDb', ascending=False)\n",
    "    rating = dataframe[0:10]\n",
    "    fig =px.sunburst(\n",
    "    rating,\n",
    "    path=['Title','Genres'],\n",
    "    values='IMDb',\n",
    "    color='IMDb',\n",
    "    color_continuous_scale=c)\n",
    "    fig.show()"
   ]
  },
  {
   "cell_type": "code",
   "execution_count": 23,
   "metadata": {
    "_kg_hide-input": false,
    "execution": {
     "iopub.execute_input": "2020-12-18T12:14:35.604364Z",
     "iopub.status.busy": "2020-12-18T12:14:35.603331Z",
     "iopub.status.idle": "2020-12-18T12:14:36.740619Z",
     "shell.execute_reply": "2020-12-18T12:14:36.741103Z"
    },
    "papermill": {
     "duration": 1.195671,
     "end_time": "2020-12-18T12:14:36.741265",
     "exception": false,
     "start_time": "2020-12-18T12:14:35.545594",
     "status": "completed"
    },
    "tags": []
   },
   "outputs": [
    {
     "data": {
      "text/html": [
       "<div>                            <div id=\"6033cf96-d614-423f-9d44-17c32f6061ad\" class=\"plotly-graph-div\" style=\"height:525px; width:100%;\"></div>            <script type=\"text/javascript\">                require([\"plotly\"], function(Plotly) {                    window.PLOTLYENV=window.PLOTLYENV || {};                                    if (document.getElementById(\"6033cf96-d614-423f-9d44-17c32f6061ad\")) {                    Plotly.newPlot(                        \"6033cf96-d614-423f-9d44-17c32f6061ad\",                        [{\"branchvalues\": \"total\", \"customdata\": [[8.8], [8.7], [8.7], [8.7], [8.7], [8.7], [8.6], [9.1], [9.3], [8.8], [8.7], [8.7], [8.8], [8.6], [9.3], [9.1], [8.7], [8.8], [8.7], [8.7]], \"domain\": {\"x\": [0.0, 1.0], \"y\": [0.0, 1.0]}, \"hovertemplate\": \"labels=%{label}<br>IMDb_sum=%{value}<br>parent=%{parent}<br>id=%{id}<br>IMDb=%{color}<extra></extra>\", \"ids\": [\"Inception/Action,Adventure,Sci-Fi,Thriller\", \"The Matrix/Action,Sci-Fi\", \"Eh Janam Tumhare Lekhe/Biography\", \"Untamed Romania/Documentary\", \"Bill Hicks: Relentless/Documentary,Comedy\", \"One Heart: The A.R. Rahman Concert Film/Documentary,Music\", \"Merku Thodarchi Malai/Drama\", \"Natsamrat/Drama,Family\", \"My Next Guest with David Letterman and Shah Rukh Khan/Talk-Show\", \"The Good, the Bad and the Ugly/Western\", \"Bill Hicks: Relentless\", \"Eh Janam Tumhare Lekhe\", \"Inception\", \"Merku Thodarchi Malai\", \"My Next Guest with David Letterman and Shah Rukh Khan\", \"Natsamrat\", \"One Heart: The A.R. Rahman Concert Film\", \"The Good, the Bad and the Ugly\", \"The Matrix\", \"Untamed Romania\"], \"labels\": [\"Action,Adventure,Sci-Fi,Thriller\", \"Action,Sci-Fi\", \"Biography\", \"Documentary\", \"Documentary,Comedy\", \"Documentary,Music\", \"Drama\", \"Drama,Family\", \"Talk-Show\", \"Western\", \"Bill Hicks: Relentless\", \"Eh Janam Tumhare Lekhe\", \"Inception\", \"Merku Thodarchi Malai\", \"My Next Guest with David Letterman and Shah Rukh Khan\", \"Natsamrat\", \"One Heart: The A.R. Rahman Concert Film\", \"The Good, the Bad and the Ugly\", \"The Matrix\", \"Untamed Romania\"], \"marker\": {\"coloraxis\": \"coloraxis\", \"colors\": [8.8, 8.7, 8.7, 8.7, 8.7, 8.7, 8.6, 9.1, 9.3, 8.8, 8.7, 8.7, 8.8, 8.6, 9.3, 9.1, 8.7, 8.8, 8.7, 8.7]}, \"name\": \"\", \"parents\": [\"Inception\", \"The Matrix\", \"Eh Janam Tumhare Lekhe\", \"Untamed Romania\", \"Bill Hicks: Relentless\", \"One Heart: The A.R. Rahman Concert Film\", \"Merku Thodarchi Malai\", \"Natsamrat\", \"My Next Guest with David Letterman and Shah Rukh Khan\", \"The Good, the Bad and the Ugly\", \"\", \"\", \"\", \"\", \"\", \"\", \"\", \"\", \"\", \"\"], \"type\": \"sunburst\", \"values\": [8.8, 8.7, 8.7, 8.7, 8.7, 8.7, 8.6, 9.1, 9.3, 8.8, 8.7, 8.7, 8.8, 8.6, 9.3, 9.1, 8.7, 8.8, 8.7, 8.7]}],                        {\"coloraxis\": {\"colorbar\": {\"title\": {\"text\": \"IMDb\"}}, \"colorscale\": [[0.0, \"rgb(241, 236, 236)\"], [0.09090909090909091, \"rgb(230, 209, 203)\"], [0.18181818181818182, \"rgb(221, 182, 170)\"], [0.2727272727272727, \"rgb(213, 156, 137)\"], [0.36363636363636365, \"rgb(205, 129, 103)\"], [0.45454545454545453, \"rgb(196, 102, 73)\"], [0.5454545454545454, \"rgb(186, 74, 47)\"], [0.6363636363636364, \"rgb(172, 44, 36)\"], [0.7272727272727273, \"rgb(149, 19, 39)\"], [0.8181818181818182, \"rgb(120, 14, 40)\"], [0.9090909090909091, \"rgb(89, 13, 31)\"], [1.0, \"rgb(60, 9, 17)\"]]}, \"legend\": {\"tracegroupgap\": 0}, \"margin\": {\"t\": 60}, \"template\": {\"data\": {\"bar\": [{\"error_x\": {\"color\": \"#2a3f5f\"}, \"error_y\": {\"color\": \"#2a3f5f\"}, \"marker\": {\"line\": {\"color\": \"#E5ECF6\", \"width\": 0.5}}, \"type\": \"bar\"}], \"barpolar\": [{\"marker\": {\"line\": {\"color\": \"#E5ECF6\", \"width\": 0.5}}, \"type\": \"barpolar\"}], \"carpet\": [{\"aaxis\": {\"endlinecolor\": \"#2a3f5f\", \"gridcolor\": \"white\", \"linecolor\": \"white\", \"minorgridcolor\": \"white\", \"startlinecolor\": \"#2a3f5f\"}, \"baxis\": {\"endlinecolor\": \"#2a3f5f\", \"gridcolor\": \"white\", \"linecolor\": \"white\", \"minorgridcolor\": \"white\", \"startlinecolor\": \"#2a3f5f\"}, \"type\": \"carpet\"}], \"choropleth\": [{\"colorbar\": {\"outlinewidth\": 0, \"ticks\": \"\"}, \"type\": \"choropleth\"}], \"contour\": [{\"colorbar\": {\"outlinewidth\": 0, \"ticks\": \"\"}, \"colorscale\": [[0.0, \"#0d0887\"], [0.1111111111111111, \"#46039f\"], [0.2222222222222222, \"#7201a8\"], [0.3333333333333333, \"#9c179e\"], [0.4444444444444444, \"#bd3786\"], [0.5555555555555556, \"#d8576b\"], [0.6666666666666666, \"#ed7953\"], [0.7777777777777778, \"#fb9f3a\"], [0.8888888888888888, \"#fdca26\"], [1.0, \"#f0f921\"]], \"type\": \"contour\"}], \"contourcarpet\": [{\"colorbar\": {\"outlinewidth\": 0, \"ticks\": \"\"}, \"type\": \"contourcarpet\"}], \"heatmap\": [{\"colorbar\": {\"outlinewidth\": 0, \"ticks\": \"\"}, \"colorscale\": [[0.0, \"#0d0887\"], [0.1111111111111111, \"#46039f\"], [0.2222222222222222, \"#7201a8\"], [0.3333333333333333, \"#9c179e\"], [0.4444444444444444, \"#bd3786\"], [0.5555555555555556, \"#d8576b\"], [0.6666666666666666, \"#ed7953\"], [0.7777777777777778, \"#fb9f3a\"], [0.8888888888888888, \"#fdca26\"], [1.0, \"#f0f921\"]], \"type\": \"heatmap\"}], \"heatmapgl\": [{\"colorbar\": {\"outlinewidth\": 0, \"ticks\": \"\"}, \"colorscale\": [[0.0, \"#0d0887\"], [0.1111111111111111, \"#46039f\"], [0.2222222222222222, \"#7201a8\"], [0.3333333333333333, \"#9c179e\"], [0.4444444444444444, \"#bd3786\"], [0.5555555555555556, \"#d8576b\"], [0.6666666666666666, \"#ed7953\"], [0.7777777777777778, \"#fb9f3a\"], [0.8888888888888888, \"#fdca26\"], [1.0, \"#f0f921\"]], \"type\": \"heatmapgl\"}], \"histogram\": [{\"marker\": {\"colorbar\": {\"outlinewidth\": 0, \"ticks\": \"\"}}, \"type\": \"histogram\"}], \"histogram2d\": [{\"colorbar\": {\"outlinewidth\": 0, \"ticks\": \"\"}, \"colorscale\": [[0.0, \"#0d0887\"], [0.1111111111111111, \"#46039f\"], [0.2222222222222222, \"#7201a8\"], [0.3333333333333333, \"#9c179e\"], [0.4444444444444444, \"#bd3786\"], [0.5555555555555556, \"#d8576b\"], [0.6666666666666666, \"#ed7953\"], [0.7777777777777778, \"#fb9f3a\"], [0.8888888888888888, \"#fdca26\"], [1.0, \"#f0f921\"]], \"type\": \"histogram2d\"}], \"histogram2dcontour\": [{\"colorbar\": {\"outlinewidth\": 0, \"ticks\": \"\"}, \"colorscale\": [[0.0, \"#0d0887\"], [0.1111111111111111, \"#46039f\"], [0.2222222222222222, \"#7201a8\"], [0.3333333333333333, \"#9c179e\"], [0.4444444444444444, \"#bd3786\"], [0.5555555555555556, \"#d8576b\"], [0.6666666666666666, \"#ed7953\"], [0.7777777777777778, \"#fb9f3a\"], [0.8888888888888888, \"#fdca26\"], [1.0, \"#f0f921\"]], \"type\": \"histogram2dcontour\"}], \"mesh3d\": [{\"colorbar\": {\"outlinewidth\": 0, \"ticks\": \"\"}, \"type\": \"mesh3d\"}], \"parcoords\": [{\"line\": {\"colorbar\": {\"outlinewidth\": 0, \"ticks\": \"\"}}, \"type\": \"parcoords\"}], \"pie\": [{\"automargin\": true, \"type\": \"pie\"}], \"scatter\": [{\"marker\": {\"colorbar\": {\"outlinewidth\": 0, \"ticks\": \"\"}}, \"type\": \"scatter\"}], \"scatter3d\": [{\"line\": {\"colorbar\": {\"outlinewidth\": 0, \"ticks\": \"\"}}, \"marker\": {\"colorbar\": {\"outlinewidth\": 0, \"ticks\": \"\"}}, \"type\": \"scatter3d\"}], \"scattercarpet\": [{\"marker\": {\"colorbar\": {\"outlinewidth\": 0, \"ticks\": \"\"}}, \"type\": \"scattercarpet\"}], \"scattergeo\": [{\"marker\": {\"colorbar\": {\"outlinewidth\": 0, \"ticks\": \"\"}}, \"type\": \"scattergeo\"}], \"scattergl\": [{\"marker\": {\"colorbar\": {\"outlinewidth\": 0, \"ticks\": \"\"}}, \"type\": \"scattergl\"}], \"scattermapbox\": [{\"marker\": {\"colorbar\": {\"outlinewidth\": 0, \"ticks\": \"\"}}, \"type\": \"scattermapbox\"}], \"scatterpolar\": [{\"marker\": {\"colorbar\": {\"outlinewidth\": 0, \"ticks\": \"\"}}, \"type\": \"scatterpolar\"}], \"scatterpolargl\": [{\"marker\": {\"colorbar\": {\"outlinewidth\": 0, \"ticks\": \"\"}}, \"type\": \"scatterpolargl\"}], \"scatterternary\": [{\"marker\": {\"colorbar\": {\"outlinewidth\": 0, \"ticks\": \"\"}}, \"type\": \"scatterternary\"}], \"surface\": [{\"colorbar\": {\"outlinewidth\": 0, \"ticks\": \"\"}, \"colorscale\": [[0.0, \"#0d0887\"], [0.1111111111111111, \"#46039f\"], [0.2222222222222222, \"#7201a8\"], [0.3333333333333333, \"#9c179e\"], [0.4444444444444444, \"#bd3786\"], [0.5555555555555556, \"#d8576b\"], [0.6666666666666666, \"#ed7953\"], [0.7777777777777778, \"#fb9f3a\"], [0.8888888888888888, \"#fdca26\"], [1.0, \"#f0f921\"]], \"type\": \"surface\"}], \"table\": [{\"cells\": {\"fill\": {\"color\": \"#EBF0F8\"}, \"line\": {\"color\": \"white\"}}, \"header\": {\"fill\": {\"color\": \"#C8D4E3\"}, \"line\": {\"color\": \"white\"}}, \"type\": \"table\"}]}, \"layout\": {\"annotationdefaults\": {\"arrowcolor\": \"#2a3f5f\", \"arrowhead\": 0, \"arrowwidth\": 1}, \"coloraxis\": {\"colorbar\": {\"outlinewidth\": 0, \"ticks\": \"\"}}, \"colorscale\": {\"diverging\": [[0, \"#8e0152\"], [0.1, \"#c51b7d\"], [0.2, \"#de77ae\"], [0.3, \"#f1b6da\"], [0.4, \"#fde0ef\"], [0.5, \"#f7f7f7\"], [0.6, \"#e6f5d0\"], [0.7, \"#b8e186\"], [0.8, \"#7fbc41\"], [0.9, \"#4d9221\"], [1, \"#276419\"]], \"sequential\": [[0.0, \"#0d0887\"], [0.1111111111111111, \"#46039f\"], [0.2222222222222222, \"#7201a8\"], [0.3333333333333333, \"#9c179e\"], [0.4444444444444444, \"#bd3786\"], [0.5555555555555556, \"#d8576b\"], [0.6666666666666666, \"#ed7953\"], [0.7777777777777778, \"#fb9f3a\"], [0.8888888888888888, \"#fdca26\"], [1.0, \"#f0f921\"]], \"sequentialminus\": [[0.0, \"#0d0887\"], [0.1111111111111111, \"#46039f\"], [0.2222222222222222, \"#7201a8\"], [0.3333333333333333, \"#9c179e\"], [0.4444444444444444, \"#bd3786\"], [0.5555555555555556, \"#d8576b\"], [0.6666666666666666, \"#ed7953\"], [0.7777777777777778, \"#fb9f3a\"], [0.8888888888888888, \"#fdca26\"], [1.0, \"#f0f921\"]]}, \"colorway\": [\"#636efa\", \"#EF553B\", \"#00cc96\", \"#ab63fa\", \"#FFA15A\", \"#19d3f3\", \"#FF6692\", \"#B6E880\", \"#FF97FF\", \"#FECB52\"], \"font\": {\"color\": \"#2a3f5f\"}, \"geo\": {\"bgcolor\": \"white\", \"lakecolor\": \"white\", \"landcolor\": \"#E5ECF6\", \"showlakes\": true, \"showland\": true, \"subunitcolor\": \"white\"}, \"hoverlabel\": {\"align\": \"left\"}, \"hovermode\": \"closest\", \"mapbox\": {\"style\": \"light\"}, \"paper_bgcolor\": \"white\", \"plot_bgcolor\": \"#E5ECF6\", \"polar\": {\"angularaxis\": {\"gridcolor\": \"white\", \"linecolor\": \"white\", \"ticks\": \"\"}, \"bgcolor\": \"#E5ECF6\", \"radialaxis\": {\"gridcolor\": \"white\", \"linecolor\": \"white\", \"ticks\": \"\"}}, \"scene\": {\"xaxis\": {\"backgroundcolor\": \"#E5ECF6\", \"gridcolor\": \"white\", \"gridwidth\": 2, \"linecolor\": \"white\", \"showbackground\": true, \"ticks\": \"\", \"zerolinecolor\": \"white\"}, \"yaxis\": {\"backgroundcolor\": \"#E5ECF6\", \"gridcolor\": \"white\", \"gridwidth\": 2, \"linecolor\": \"white\", \"showbackground\": true, \"ticks\": \"\", \"zerolinecolor\": \"white\"}, \"zaxis\": {\"backgroundcolor\": \"#E5ECF6\", \"gridcolor\": \"white\", \"gridwidth\": 2, \"linecolor\": \"white\", \"showbackground\": true, \"ticks\": \"\", \"zerolinecolor\": \"white\"}}, \"shapedefaults\": {\"line\": {\"color\": \"#2a3f5f\"}}, \"ternary\": {\"aaxis\": {\"gridcolor\": \"white\", \"linecolor\": \"white\", \"ticks\": \"\"}, \"baxis\": {\"gridcolor\": \"white\", \"linecolor\": \"white\", \"ticks\": \"\"}, \"bgcolor\": \"#E5ECF6\", \"caxis\": {\"gridcolor\": \"white\", \"linecolor\": \"white\", \"ticks\": \"\"}}, \"title\": {\"x\": 0.05}, \"xaxis\": {\"automargin\": true, \"gridcolor\": \"white\", \"linecolor\": \"white\", \"ticks\": \"\", \"title\": {\"standoff\": 15}, \"zerolinecolor\": \"white\", \"zerolinewidth\": 2}, \"yaxis\": {\"automargin\": true, \"gridcolor\": \"white\", \"linecolor\": \"white\", \"ticks\": \"\", \"title\": {\"standoff\": 15}, \"zerolinecolor\": \"white\", \"zerolinewidth\": 2}}}},                        {\"responsive\": true}                    ).then(function(){\n",
       "                            \n",
       "var gd = document.getElementById('6033cf96-d614-423f-9d44-17c32f6061ad');\n",
       "var x = new MutationObserver(function (mutations, observer) {{\n",
       "        var display = window.getComputedStyle(gd).display;\n",
       "        if (!display || display === 'none') {{\n",
       "            console.log([gd, 'removed!']);\n",
       "            Plotly.purge(gd);\n",
       "            observer.disconnect();\n",
       "        }}\n",
       "}});\n",
       "\n",
       "// Listen for the removal of the full notebook cells\n",
       "var notebookContainer = gd.closest('#notebook-container');\n",
       "if (notebookContainer) {{\n",
       "    x.observe(notebookContainer, {childList: true});\n",
       "}}\n",
       "\n",
       "// Listen for the clearing of the current output cell\n",
       "var outputEl = gd.closest('.output');\n",
       "if (outputEl) {{\n",
       "    x.observe(outputEl, {childList: true});\n",
       "}}\n",
       "\n",
       "                        })                };                });            </script>        </div>"
      ]
     },
     "metadata": {},
     "output_type": "display_data"
    }
   ],
   "source": [
    "sunburst(df_movies,'Netflix','amp')"
   ]
  },
  {
   "cell_type": "code",
   "execution_count": 24,
   "metadata": {
    "_kg_hide-input": false,
    "execution": {
     "iopub.execute_input": "2020-12-18T12:14:36.857122Z",
     "iopub.status.busy": "2020-12-18T12:14:36.856044Z",
     "iopub.status.idle": "2020-12-18T12:14:36.966558Z",
     "shell.execute_reply": "2020-12-18T12:14:36.965853Z"
    },
    "papermill": {
     "duration": 0.169919,
     "end_time": "2020-12-18T12:14:36.966682",
     "exception": false,
     "start_time": "2020-12-18T12:14:36.796763",
     "status": "completed"
    },
    "tags": []
   },
   "outputs": [
    {
     "data": {
      "text/html": [
       "<div>                            <div id=\"c3644588-49bd-41a4-85ff-6543b4801c58\" class=\"plotly-graph-div\" style=\"height:525px; width:100%;\"></div>            <script type=\"text/javascript\">                require([\"plotly\"], function(Plotly) {                    window.PLOTLYENV=window.PLOTLYENV || {};                                    if (document.getElementById(\"c3644588-49bd-41a4-85ff-6543b4801c58\")) {                    Plotly.newPlot(                        \"c3644588-49bd-41a4-85ff-6543b4801c58\",                        [{\"branchvalues\": \"total\", \"customdata\": [[9.0], [8.5], [8.7], [8.6], [8.6], [8.3], [8.3], [8.3], [8.2], [8.5], [8.3], [8.5], [8.3], [8.7], [8.5], [8.3], [8.6], [8.2], [9.0], [8.6]], \"domain\": {\"x\": [0.0, 1.0], \"y\": [0.0, 1.0]}, \"hovertemplate\": \"labels=%{label}<br>IMDb_sum=%{value}<br>parent=%{parent}<br>id=%{id}<br>IMDb=%{color}<extra></extra>\", \"ids\": [\"The Dark Knight/Action,Crime,Drama,Thriller\", \"Grave of the Fireflies/Animation,Drama,War\", \"GoodFellas/Biography,Crime,Drama\", \"Parasite/Comedy,Drama,Thriller\", \"The Green Mile/Crime,Drama,Fantasy,Mystery\", \"Andy Irons: Kissed by God/Documentary\", \"Larger than Life: The Kevyn Aucoin Story/Documentary\", \"Good Will Hunting/Drama,Romance\", \"Portrait of a Lady on Fire/Drama,Romance\", \"Brad Paisley Thinks He's Special/Music\", \"Andy Irons: Kissed by God\", \"Brad Paisley Thinks He's Special\", \"Good Will Hunting\", \"GoodFellas\", \"Grave of the Fireflies\", \"Larger than Life: The Kevyn Aucoin Story\", \"Parasite\", \"Portrait of a Lady on Fire\", \"The Dark Knight\", \"The Green Mile\"], \"labels\": [\"Action,Crime,Drama,Thriller\", \"Animation,Drama,War\", \"Biography,Crime,Drama\", \"Comedy,Drama,Thriller\", \"Crime,Drama,Fantasy,Mystery\", \"Documentary\", \"Documentary\", \"Drama,Romance\", \"Drama,Romance\", \"Music\", \"Andy Irons: Kissed by God\", \"Brad Paisley Thinks He's Special\", \"Good Will Hunting\", \"GoodFellas\", \"Grave of the Fireflies\", \"Larger than Life: The Kevyn Aucoin Story\", \"Parasite\", \"Portrait of a Lady on Fire\", \"The Dark Knight\", \"The Green Mile\"], \"marker\": {\"coloraxis\": \"coloraxis\", \"colors\": [9.0, 8.5, 8.7, 8.6, 8.6, 8.3, 8.3, 8.3, 8.2, 8.5, 8.3, 8.5, 8.3, 8.7, 8.5, 8.3, 8.6, 8.2, 9.0, 8.6]}, \"name\": \"\", \"parents\": [\"The Dark Knight\", \"Grave of the Fireflies\", \"GoodFellas\", \"Parasite\", \"The Green Mile\", \"Andy Irons: Kissed by God\", \"Larger than Life: The Kevyn Aucoin Story\", \"Good Will Hunting\", \"Portrait of a Lady on Fire\", \"Brad Paisley Thinks He's Special\", \"\", \"\", \"\", \"\", \"\", \"\", \"\", \"\", \"\", \"\"], \"type\": \"sunburst\", \"values\": [9.0, 8.5, 8.7, 8.6, 8.6, 8.3, 8.3, 8.3, 8.2, 8.5, 8.3, 8.5, 8.3, 8.7, 8.5, 8.3, 8.6, 8.2, 9.0, 8.6]}],                        {\"coloraxis\": {\"colorbar\": {\"title\": {\"text\": \"IMDb\"}}, \"colorscale\": [[0.0, \"rgb(196, 230, 195)\"], [0.16666666666666666, \"rgb(150, 210, 164)\"], [0.3333333333333333, \"rgb(109, 188, 144)\"], [0.5, \"rgb(77, 162, 132)\"], [0.6666666666666666, \"rgb(54, 135, 122)\"], [0.8333333333333334, \"rgb(38, 107, 110)\"], [1.0, \"rgb(29, 79, 96)\"]]}, \"legend\": {\"tracegroupgap\": 0}, \"margin\": {\"t\": 60}, \"template\": {\"data\": {\"bar\": [{\"error_x\": {\"color\": \"#2a3f5f\"}, \"error_y\": {\"color\": \"#2a3f5f\"}, \"marker\": {\"line\": {\"color\": \"#E5ECF6\", \"width\": 0.5}}, \"type\": \"bar\"}], \"barpolar\": [{\"marker\": {\"line\": {\"color\": \"#E5ECF6\", \"width\": 0.5}}, \"type\": \"barpolar\"}], \"carpet\": [{\"aaxis\": {\"endlinecolor\": \"#2a3f5f\", \"gridcolor\": \"white\", \"linecolor\": \"white\", \"minorgridcolor\": \"white\", \"startlinecolor\": \"#2a3f5f\"}, \"baxis\": {\"endlinecolor\": \"#2a3f5f\", \"gridcolor\": \"white\", \"linecolor\": \"white\", \"minorgridcolor\": \"white\", \"startlinecolor\": \"#2a3f5f\"}, \"type\": \"carpet\"}], \"choropleth\": [{\"colorbar\": {\"outlinewidth\": 0, \"ticks\": \"\"}, \"type\": \"choropleth\"}], \"contour\": [{\"colorbar\": {\"outlinewidth\": 0, \"ticks\": \"\"}, \"colorscale\": [[0.0, \"#0d0887\"], [0.1111111111111111, \"#46039f\"], [0.2222222222222222, \"#7201a8\"], [0.3333333333333333, \"#9c179e\"], [0.4444444444444444, \"#bd3786\"], [0.5555555555555556, \"#d8576b\"], [0.6666666666666666, \"#ed7953\"], [0.7777777777777778, \"#fb9f3a\"], [0.8888888888888888, \"#fdca26\"], [1.0, \"#f0f921\"]], \"type\": \"contour\"}], \"contourcarpet\": [{\"colorbar\": {\"outlinewidth\": 0, \"ticks\": \"\"}, \"type\": \"contourcarpet\"}], \"heatmap\": [{\"colorbar\": {\"outlinewidth\": 0, \"ticks\": \"\"}, \"colorscale\": [[0.0, \"#0d0887\"], [0.1111111111111111, \"#46039f\"], [0.2222222222222222, \"#7201a8\"], [0.3333333333333333, \"#9c179e\"], [0.4444444444444444, \"#bd3786\"], [0.5555555555555556, \"#d8576b\"], [0.6666666666666666, \"#ed7953\"], [0.7777777777777778, \"#fb9f3a\"], [0.8888888888888888, \"#fdca26\"], [1.0, \"#f0f921\"]], \"type\": \"heatmap\"}], \"heatmapgl\": [{\"colorbar\": {\"outlinewidth\": 0, \"ticks\": \"\"}, \"colorscale\": [[0.0, \"#0d0887\"], [0.1111111111111111, \"#46039f\"], [0.2222222222222222, \"#7201a8\"], [0.3333333333333333, \"#9c179e\"], [0.4444444444444444, \"#bd3786\"], [0.5555555555555556, \"#d8576b\"], [0.6666666666666666, \"#ed7953\"], [0.7777777777777778, \"#fb9f3a\"], [0.8888888888888888, \"#fdca26\"], [1.0, \"#f0f921\"]], \"type\": \"heatmapgl\"}], \"histogram\": [{\"marker\": {\"colorbar\": {\"outlinewidth\": 0, \"ticks\": \"\"}}, \"type\": \"histogram\"}], \"histogram2d\": [{\"colorbar\": {\"outlinewidth\": 0, \"ticks\": \"\"}, \"colorscale\": [[0.0, \"#0d0887\"], [0.1111111111111111, \"#46039f\"], [0.2222222222222222, \"#7201a8\"], [0.3333333333333333, \"#9c179e\"], [0.4444444444444444, \"#bd3786\"], [0.5555555555555556, \"#d8576b\"], [0.6666666666666666, \"#ed7953\"], [0.7777777777777778, \"#fb9f3a\"], [0.8888888888888888, \"#fdca26\"], [1.0, \"#f0f921\"]], \"type\": \"histogram2d\"}], \"histogram2dcontour\": [{\"colorbar\": {\"outlinewidth\": 0, \"ticks\": \"\"}, \"colorscale\": [[0.0, \"#0d0887\"], [0.1111111111111111, \"#46039f\"], [0.2222222222222222, \"#7201a8\"], [0.3333333333333333, \"#9c179e\"], [0.4444444444444444, \"#bd3786\"], [0.5555555555555556, \"#d8576b\"], [0.6666666666666666, \"#ed7953\"], [0.7777777777777778, \"#fb9f3a\"], [0.8888888888888888, \"#fdca26\"], [1.0, \"#f0f921\"]], \"type\": \"histogram2dcontour\"}], \"mesh3d\": [{\"colorbar\": {\"outlinewidth\": 0, \"ticks\": \"\"}, \"type\": \"mesh3d\"}], \"parcoords\": [{\"line\": {\"colorbar\": {\"outlinewidth\": 0, \"ticks\": \"\"}}, \"type\": \"parcoords\"}], \"pie\": [{\"automargin\": true, \"type\": \"pie\"}], \"scatter\": [{\"marker\": {\"colorbar\": {\"outlinewidth\": 0, \"ticks\": \"\"}}, \"type\": \"scatter\"}], \"scatter3d\": [{\"line\": {\"colorbar\": {\"outlinewidth\": 0, \"ticks\": \"\"}}, \"marker\": {\"colorbar\": {\"outlinewidth\": 0, \"ticks\": \"\"}}, \"type\": \"scatter3d\"}], \"scattercarpet\": [{\"marker\": {\"colorbar\": {\"outlinewidth\": 0, \"ticks\": \"\"}}, \"type\": \"scattercarpet\"}], \"scattergeo\": [{\"marker\": {\"colorbar\": {\"outlinewidth\": 0, \"ticks\": \"\"}}, \"type\": \"scattergeo\"}], \"scattergl\": [{\"marker\": {\"colorbar\": {\"outlinewidth\": 0, \"ticks\": \"\"}}, \"type\": \"scattergl\"}], \"scattermapbox\": [{\"marker\": {\"colorbar\": {\"outlinewidth\": 0, \"ticks\": \"\"}}, \"type\": \"scattermapbox\"}], \"scatterpolar\": [{\"marker\": {\"colorbar\": {\"outlinewidth\": 0, \"ticks\": \"\"}}, \"type\": \"scatterpolar\"}], \"scatterpolargl\": [{\"marker\": {\"colorbar\": {\"outlinewidth\": 0, \"ticks\": \"\"}}, \"type\": \"scatterpolargl\"}], \"scatterternary\": [{\"marker\": {\"colorbar\": {\"outlinewidth\": 0, \"ticks\": \"\"}}, \"type\": \"scatterternary\"}], \"surface\": [{\"colorbar\": {\"outlinewidth\": 0, \"ticks\": \"\"}, \"colorscale\": [[0.0, \"#0d0887\"], [0.1111111111111111, \"#46039f\"], [0.2222222222222222, \"#7201a8\"], [0.3333333333333333, \"#9c179e\"], [0.4444444444444444, \"#bd3786\"], [0.5555555555555556, \"#d8576b\"], [0.6666666666666666, \"#ed7953\"], [0.7777777777777778, \"#fb9f3a\"], [0.8888888888888888, \"#fdca26\"], [1.0, \"#f0f921\"]], \"type\": \"surface\"}], \"table\": [{\"cells\": {\"fill\": {\"color\": \"#EBF0F8\"}, \"line\": {\"color\": \"white\"}}, \"header\": {\"fill\": {\"color\": \"#C8D4E3\"}, \"line\": {\"color\": \"white\"}}, \"type\": \"table\"}]}, \"layout\": {\"annotationdefaults\": {\"arrowcolor\": \"#2a3f5f\", \"arrowhead\": 0, \"arrowwidth\": 1}, \"coloraxis\": {\"colorbar\": {\"outlinewidth\": 0, \"ticks\": \"\"}}, \"colorscale\": {\"diverging\": [[0, \"#8e0152\"], [0.1, \"#c51b7d\"], [0.2, \"#de77ae\"], [0.3, \"#f1b6da\"], [0.4, \"#fde0ef\"], [0.5, \"#f7f7f7\"], [0.6, \"#e6f5d0\"], [0.7, \"#b8e186\"], [0.8, \"#7fbc41\"], [0.9, \"#4d9221\"], [1, \"#276419\"]], \"sequential\": [[0.0, \"#0d0887\"], [0.1111111111111111, \"#46039f\"], [0.2222222222222222, \"#7201a8\"], [0.3333333333333333, \"#9c179e\"], [0.4444444444444444, \"#bd3786\"], [0.5555555555555556, \"#d8576b\"], [0.6666666666666666, \"#ed7953\"], [0.7777777777777778, \"#fb9f3a\"], [0.8888888888888888, \"#fdca26\"], [1.0, \"#f0f921\"]], \"sequentialminus\": [[0.0, \"#0d0887\"], [0.1111111111111111, \"#46039f\"], [0.2222222222222222, \"#7201a8\"], [0.3333333333333333, \"#9c179e\"], [0.4444444444444444, \"#bd3786\"], [0.5555555555555556, \"#d8576b\"], [0.6666666666666666, \"#ed7953\"], [0.7777777777777778, \"#fb9f3a\"], [0.8888888888888888, \"#fdca26\"], [1.0, \"#f0f921\"]]}, \"colorway\": [\"#636efa\", \"#EF553B\", \"#00cc96\", \"#ab63fa\", \"#FFA15A\", \"#19d3f3\", \"#FF6692\", \"#B6E880\", \"#FF97FF\", \"#FECB52\"], \"font\": {\"color\": \"#2a3f5f\"}, \"geo\": {\"bgcolor\": \"white\", \"lakecolor\": \"white\", \"landcolor\": \"#E5ECF6\", \"showlakes\": true, \"showland\": true, \"subunitcolor\": \"white\"}, \"hoverlabel\": {\"align\": \"left\"}, \"hovermode\": \"closest\", \"mapbox\": {\"style\": \"light\"}, \"paper_bgcolor\": \"white\", \"plot_bgcolor\": \"#E5ECF6\", \"polar\": {\"angularaxis\": {\"gridcolor\": \"white\", \"linecolor\": \"white\", \"ticks\": \"\"}, \"bgcolor\": \"#E5ECF6\", \"radialaxis\": {\"gridcolor\": \"white\", \"linecolor\": \"white\", \"ticks\": \"\"}}, \"scene\": {\"xaxis\": {\"backgroundcolor\": \"#E5ECF6\", \"gridcolor\": \"white\", \"gridwidth\": 2, \"linecolor\": \"white\", \"showbackground\": true, \"ticks\": \"\", \"zerolinecolor\": \"white\"}, \"yaxis\": {\"backgroundcolor\": \"#E5ECF6\", \"gridcolor\": \"white\", \"gridwidth\": 2, \"linecolor\": \"white\", \"showbackground\": true, \"ticks\": \"\", \"zerolinecolor\": \"white\"}, \"zaxis\": {\"backgroundcolor\": \"#E5ECF6\", \"gridcolor\": \"white\", \"gridwidth\": 2, \"linecolor\": \"white\", \"showbackground\": true, \"ticks\": \"\", \"zerolinecolor\": \"white\"}}, \"shapedefaults\": {\"line\": {\"color\": \"#2a3f5f\"}}, \"ternary\": {\"aaxis\": {\"gridcolor\": \"white\", \"linecolor\": \"white\", \"ticks\": \"\"}, \"baxis\": {\"gridcolor\": \"white\", \"linecolor\": \"white\", \"ticks\": \"\"}, \"bgcolor\": \"#E5ECF6\", \"caxis\": {\"gridcolor\": \"white\", \"linecolor\": \"white\", \"ticks\": \"\"}}, \"title\": {\"x\": 0.05}, \"xaxis\": {\"automargin\": true, \"gridcolor\": \"white\", \"linecolor\": \"white\", \"ticks\": \"\", \"title\": {\"standoff\": 15}, \"zerolinecolor\": \"white\", \"zerolinewidth\": 2}, \"yaxis\": {\"automargin\": true, \"gridcolor\": \"white\", \"linecolor\": \"white\", \"ticks\": \"\", \"title\": {\"standoff\": 15}, \"zerolinecolor\": \"white\", \"zerolinewidth\": 2}}}},                        {\"responsive\": true}                    ).then(function(){\n",
       "                            \n",
       "var gd = document.getElementById('c3644588-49bd-41a4-85ff-6543b4801c58');\n",
       "var x = new MutationObserver(function (mutations, observer) {{\n",
       "        var display = window.getComputedStyle(gd).display;\n",
       "        if (!display || display === 'none') {{\n",
       "            console.log([gd, 'removed!']);\n",
       "            Plotly.purge(gd);\n",
       "            observer.disconnect();\n",
       "        }}\n",
       "}});\n",
       "\n",
       "// Listen for the removal of the full notebook cells\n",
       "var notebookContainer = gd.closest('#notebook-container');\n",
       "if (notebookContainer) {{\n",
       "    x.observe(notebookContainer, {childList: true});\n",
       "}}\n",
       "\n",
       "// Listen for the clearing of the current output cell\n",
       "var outputEl = gd.closest('.output');\n",
       "if (outputEl) {{\n",
       "    x.observe(outputEl, {childList: true});\n",
       "}}\n",
       "\n",
       "                        })                };                });            </script>        </div>"
      ]
     },
     "metadata": {},
     "output_type": "display_data"
    }
   ],
   "source": [
    "sunburst(df_movies,'Hulu','Blugrn')"
   ]
  },
  {
   "cell_type": "code",
   "execution_count": 25,
   "metadata": {
    "_kg_hide-input": false,
    "execution": {
     "iopub.execute_input": "2020-12-18T12:14:37.086810Z",
     "iopub.status.busy": "2020-12-18T12:14:37.086104Z",
     "iopub.status.idle": "2020-12-18T12:14:37.196688Z",
     "shell.execute_reply": "2020-12-18T12:14:37.197224Z"
    },
    "papermill": {
     "duration": 0.174662,
     "end_time": "2020-12-18T12:14:37.197724",
     "exception": false,
     "start_time": "2020-12-18T12:14:37.023062",
     "status": "completed"
    },
    "tags": []
   },
   "outputs": [
    {
     "data": {
      "text/html": [
       "<div>                            <div id=\"5bc2964b-086b-4fa3-b911-002084852174\" class=\"plotly-graph-div\" style=\"height:525px; width:100%;\"></div>            <script type=\"text/javascript\">                require([\"plotly\"], function(Plotly) {                    window.PLOTLYENV=window.PLOTLYENV || {};                                    if (document.getElementById(\"5bc2964b-086b-4fa3-b911-002084852174\")) {                    Plotly.newPlot(                        \"5bc2964b-086b-4fa3-b911-002084852174\",                        [{\"branchvalues\": \"total\", \"customdata\": [[9.3], [9.3], [9.3], [9.0], [9.1], [9.0], [9.3], [9.1], [8.9], [9.3], [9.0], [9.3], [9.3], [9.0], [9.1], [9.3], [9.3], [9.3], [8.9], [9.1]], \"domain\": {\"x\": [0.0, 1.0], \"y\": [0.0, 1.0]}, \"hovertemplate\": \"labels=%{label}<br>IMDb_sum=%{value}<br>parent=%{parent}<br>id=%{id}<br>IMDb=%{color}<extra></extra>\", \"ids\": [\"Bounty/Adventure,Drama,History,Romance\", \"Steven Banks: Home Entertainment Center/Comedy\", \"Love on a Leash/Comedy,Drama,Fantasy,Romance\", \"Escape from Firebase Kate/Documentary\", \"Where's Daddy?/Documentary\", \"A Dog Named Gucci/Documentary,Biography,Drama,News\", \"Square One/Documentary,Drama,Music\", \"Finding Family/Documentary,Family,History,War\", \"The Creators/Documentary,History,Music,News\", \"Down, But Not Out!/Documentary,Sport\", \"A Dog Named Gucci\", \"Bounty\", \"Down, But Not Out!\", \"Escape from Firebase Kate\", \"Finding Family\", \"Love on a Leash\", \"Square One\", \"Steven Banks: Home Entertainment Center\", \"The Creators\", \"Where's Daddy?\"], \"labels\": [\"Adventure,Drama,History,Romance\", \"Comedy\", \"Comedy,Drama,Fantasy,Romance\", \"Documentary\", \"Documentary\", \"Documentary,Biography,Drama,News\", \"Documentary,Drama,Music\", \"Documentary,Family,History,War\", \"Documentary,History,Music,News\", \"Documentary,Sport\", \"A Dog Named Gucci\", \"Bounty\", \"Down, But Not Out!\", \"Escape from Firebase Kate\", \"Finding Family\", \"Love on a Leash\", \"Square One\", \"Steven Banks: Home Entertainment Center\", \"The Creators\", \"Where's Daddy?\"], \"marker\": {\"coloraxis\": \"coloraxis\", \"colors\": [9.3, 9.3, 9.3, 9.0, 9.1, 9.0, 9.3, 9.1, 8.9, 9.3, 9.0, 9.3, 9.3, 9.0, 9.1, 9.3, 9.3, 9.3, 8.9, 9.1]}, \"name\": \"\", \"parents\": [\"Bounty\", \"Steven Banks: Home Entertainment Center\", \"Love on a Leash\", \"Escape from Firebase Kate\", \"Where's Daddy?\", \"A Dog Named Gucci\", \"Square One\", \"Finding Family\", \"The Creators\", \"Down, But Not Out!\", \"\", \"\", \"\", \"\", \"\", \"\", \"\", \"\", \"\", \"\"], \"type\": \"sunburst\", \"values\": [9.3, 9.3, 9.3, 9.0, 9.1, 9.0, 9.3, 9.1, 8.9, 9.3, 9.0, 9.3, 9.3, 9.0, 9.1, 9.3, 9.3, 9.3, 8.9, 9.1]}],                        {\"coloraxis\": {\"colorbar\": {\"title\": {\"text\": \"IMDb\"}}, \"colorscale\": [[0.0, \"rgb(41, 24, 107)\"], [0.09090909090909091, \"rgb(42, 35, 160)\"], [0.18181818181818182, \"rgb(15, 71, 153)\"], [0.2727272727272727, \"rgb(18, 95, 142)\"], [0.36363636363636365, \"rgb(38, 116, 137)\"], [0.45454545454545453, \"rgb(53, 136, 136)\"], [0.5454545454545454, \"rgb(65, 157, 133)\"], [0.6363636363636364, \"rgb(81, 178, 124)\"], [0.7272727272727273, \"rgb(111, 198, 107)\"], [0.8181818181818182, \"rgb(160, 214, 91)\"], [0.9090909090909091, \"rgb(212, 225, 112)\"], [1.0, \"rgb(253, 238, 153)\"]]}, \"legend\": {\"tracegroupgap\": 0}, \"margin\": {\"t\": 60}, \"template\": {\"data\": {\"bar\": [{\"error_x\": {\"color\": \"#2a3f5f\"}, \"error_y\": {\"color\": \"#2a3f5f\"}, \"marker\": {\"line\": {\"color\": \"#E5ECF6\", \"width\": 0.5}}, \"type\": \"bar\"}], \"barpolar\": [{\"marker\": {\"line\": {\"color\": \"#E5ECF6\", \"width\": 0.5}}, \"type\": \"barpolar\"}], \"carpet\": [{\"aaxis\": {\"endlinecolor\": \"#2a3f5f\", \"gridcolor\": \"white\", \"linecolor\": \"white\", \"minorgridcolor\": \"white\", \"startlinecolor\": \"#2a3f5f\"}, \"baxis\": {\"endlinecolor\": \"#2a3f5f\", \"gridcolor\": \"white\", \"linecolor\": \"white\", \"minorgridcolor\": \"white\", \"startlinecolor\": \"#2a3f5f\"}, \"type\": \"carpet\"}], \"choropleth\": [{\"colorbar\": {\"outlinewidth\": 0, \"ticks\": \"\"}, \"type\": \"choropleth\"}], \"contour\": [{\"colorbar\": {\"outlinewidth\": 0, \"ticks\": \"\"}, \"colorscale\": [[0.0, \"#0d0887\"], [0.1111111111111111, \"#46039f\"], [0.2222222222222222, \"#7201a8\"], [0.3333333333333333, \"#9c179e\"], [0.4444444444444444, \"#bd3786\"], [0.5555555555555556, \"#d8576b\"], [0.6666666666666666, \"#ed7953\"], [0.7777777777777778, \"#fb9f3a\"], [0.8888888888888888, \"#fdca26\"], [1.0, \"#f0f921\"]], \"type\": \"contour\"}], \"contourcarpet\": [{\"colorbar\": {\"outlinewidth\": 0, \"ticks\": \"\"}, \"type\": \"contourcarpet\"}], \"heatmap\": [{\"colorbar\": {\"outlinewidth\": 0, \"ticks\": \"\"}, \"colorscale\": [[0.0, \"#0d0887\"], [0.1111111111111111, \"#46039f\"], [0.2222222222222222, \"#7201a8\"], [0.3333333333333333, \"#9c179e\"], [0.4444444444444444, \"#bd3786\"], [0.5555555555555556, \"#d8576b\"], [0.6666666666666666, \"#ed7953\"], [0.7777777777777778, \"#fb9f3a\"], [0.8888888888888888, \"#fdca26\"], [1.0, \"#f0f921\"]], \"type\": \"heatmap\"}], \"heatmapgl\": [{\"colorbar\": {\"outlinewidth\": 0, \"ticks\": \"\"}, \"colorscale\": [[0.0, \"#0d0887\"], [0.1111111111111111, \"#46039f\"], [0.2222222222222222, \"#7201a8\"], [0.3333333333333333, \"#9c179e\"], [0.4444444444444444, \"#bd3786\"], [0.5555555555555556, \"#d8576b\"], [0.6666666666666666, \"#ed7953\"], [0.7777777777777778, \"#fb9f3a\"], [0.8888888888888888, \"#fdca26\"], [1.0, \"#f0f921\"]], \"type\": \"heatmapgl\"}], \"histogram\": [{\"marker\": {\"colorbar\": {\"outlinewidth\": 0, \"ticks\": \"\"}}, \"type\": \"histogram\"}], \"histogram2d\": [{\"colorbar\": {\"outlinewidth\": 0, \"ticks\": \"\"}, \"colorscale\": [[0.0, \"#0d0887\"], [0.1111111111111111, \"#46039f\"], [0.2222222222222222, \"#7201a8\"], [0.3333333333333333, \"#9c179e\"], [0.4444444444444444, \"#bd3786\"], [0.5555555555555556, \"#d8576b\"], [0.6666666666666666, \"#ed7953\"], [0.7777777777777778, \"#fb9f3a\"], [0.8888888888888888, \"#fdca26\"], [1.0, \"#f0f921\"]], \"type\": \"histogram2d\"}], \"histogram2dcontour\": [{\"colorbar\": {\"outlinewidth\": 0, \"ticks\": \"\"}, \"colorscale\": [[0.0, \"#0d0887\"], [0.1111111111111111, \"#46039f\"], [0.2222222222222222, \"#7201a8\"], [0.3333333333333333, \"#9c179e\"], [0.4444444444444444, \"#bd3786\"], [0.5555555555555556, \"#d8576b\"], [0.6666666666666666, \"#ed7953\"], [0.7777777777777778, \"#fb9f3a\"], [0.8888888888888888, \"#fdca26\"], [1.0, \"#f0f921\"]], \"type\": \"histogram2dcontour\"}], \"mesh3d\": [{\"colorbar\": {\"outlinewidth\": 0, \"ticks\": \"\"}, \"type\": \"mesh3d\"}], \"parcoords\": [{\"line\": {\"colorbar\": {\"outlinewidth\": 0, \"ticks\": \"\"}}, \"type\": \"parcoords\"}], \"pie\": [{\"automargin\": true, \"type\": \"pie\"}], \"scatter\": [{\"marker\": {\"colorbar\": {\"outlinewidth\": 0, \"ticks\": \"\"}}, \"type\": \"scatter\"}], \"scatter3d\": [{\"line\": {\"colorbar\": {\"outlinewidth\": 0, \"ticks\": \"\"}}, \"marker\": {\"colorbar\": {\"outlinewidth\": 0, \"ticks\": \"\"}}, \"type\": \"scatter3d\"}], \"scattercarpet\": [{\"marker\": {\"colorbar\": {\"outlinewidth\": 0, \"ticks\": \"\"}}, \"type\": \"scattercarpet\"}], \"scattergeo\": [{\"marker\": {\"colorbar\": {\"outlinewidth\": 0, \"ticks\": \"\"}}, \"type\": \"scattergeo\"}], \"scattergl\": [{\"marker\": {\"colorbar\": {\"outlinewidth\": 0, \"ticks\": \"\"}}, \"type\": \"scattergl\"}], \"scattermapbox\": [{\"marker\": {\"colorbar\": {\"outlinewidth\": 0, \"ticks\": \"\"}}, \"type\": \"scattermapbox\"}], \"scatterpolar\": [{\"marker\": {\"colorbar\": {\"outlinewidth\": 0, \"ticks\": \"\"}}, \"type\": \"scatterpolar\"}], \"scatterpolargl\": [{\"marker\": {\"colorbar\": {\"outlinewidth\": 0, \"ticks\": \"\"}}, \"type\": \"scatterpolargl\"}], \"scatterternary\": [{\"marker\": {\"colorbar\": {\"outlinewidth\": 0, \"ticks\": \"\"}}, \"type\": \"scatterternary\"}], \"surface\": [{\"colorbar\": {\"outlinewidth\": 0, \"ticks\": \"\"}, \"colorscale\": [[0.0, \"#0d0887\"], [0.1111111111111111, \"#46039f\"], [0.2222222222222222, \"#7201a8\"], [0.3333333333333333, \"#9c179e\"], [0.4444444444444444, \"#bd3786\"], [0.5555555555555556, \"#d8576b\"], [0.6666666666666666, \"#ed7953\"], [0.7777777777777778, \"#fb9f3a\"], [0.8888888888888888, \"#fdca26\"], [1.0, \"#f0f921\"]], \"type\": \"surface\"}], \"table\": [{\"cells\": {\"fill\": {\"color\": \"#EBF0F8\"}, \"line\": {\"color\": \"white\"}}, \"header\": {\"fill\": {\"color\": \"#C8D4E3\"}, \"line\": {\"color\": \"white\"}}, \"type\": \"table\"}]}, \"layout\": {\"annotationdefaults\": {\"arrowcolor\": \"#2a3f5f\", \"arrowhead\": 0, \"arrowwidth\": 1}, \"coloraxis\": {\"colorbar\": {\"outlinewidth\": 0, \"ticks\": \"\"}}, \"colorscale\": {\"diverging\": [[0, \"#8e0152\"], [0.1, \"#c51b7d\"], [0.2, \"#de77ae\"], [0.3, \"#f1b6da\"], [0.4, \"#fde0ef\"], [0.5, \"#f7f7f7\"], [0.6, \"#e6f5d0\"], [0.7, \"#b8e186\"], [0.8, \"#7fbc41\"], [0.9, \"#4d9221\"], [1, \"#276419\"]], \"sequential\": [[0.0, \"#0d0887\"], [0.1111111111111111, \"#46039f\"], [0.2222222222222222, \"#7201a8\"], [0.3333333333333333, \"#9c179e\"], [0.4444444444444444, \"#bd3786\"], [0.5555555555555556, \"#d8576b\"], [0.6666666666666666, \"#ed7953\"], [0.7777777777777778, \"#fb9f3a\"], [0.8888888888888888, \"#fdca26\"], [1.0, \"#f0f921\"]], \"sequentialminus\": [[0.0, \"#0d0887\"], [0.1111111111111111, \"#46039f\"], [0.2222222222222222, \"#7201a8\"], [0.3333333333333333, \"#9c179e\"], [0.4444444444444444, \"#bd3786\"], [0.5555555555555556, \"#d8576b\"], [0.6666666666666666, \"#ed7953\"], [0.7777777777777778, \"#fb9f3a\"], [0.8888888888888888, \"#fdca26\"], [1.0, \"#f0f921\"]]}, \"colorway\": [\"#636efa\", \"#EF553B\", \"#00cc96\", \"#ab63fa\", \"#FFA15A\", \"#19d3f3\", \"#FF6692\", \"#B6E880\", \"#FF97FF\", \"#FECB52\"], \"font\": {\"color\": \"#2a3f5f\"}, \"geo\": {\"bgcolor\": \"white\", \"lakecolor\": \"white\", \"landcolor\": \"#E5ECF6\", \"showlakes\": true, \"showland\": true, \"subunitcolor\": \"white\"}, \"hoverlabel\": {\"align\": \"left\"}, \"hovermode\": \"closest\", \"mapbox\": {\"style\": \"light\"}, \"paper_bgcolor\": \"white\", \"plot_bgcolor\": \"#E5ECF6\", \"polar\": {\"angularaxis\": {\"gridcolor\": \"white\", \"linecolor\": \"white\", \"ticks\": \"\"}, \"bgcolor\": \"#E5ECF6\", \"radialaxis\": {\"gridcolor\": \"white\", \"linecolor\": \"white\", \"ticks\": \"\"}}, \"scene\": {\"xaxis\": {\"backgroundcolor\": \"#E5ECF6\", \"gridcolor\": \"white\", \"gridwidth\": 2, \"linecolor\": \"white\", \"showbackground\": true, \"ticks\": \"\", \"zerolinecolor\": \"white\"}, \"yaxis\": {\"backgroundcolor\": \"#E5ECF6\", \"gridcolor\": \"white\", \"gridwidth\": 2, \"linecolor\": \"white\", \"showbackground\": true, \"ticks\": \"\", \"zerolinecolor\": \"white\"}, \"zaxis\": {\"backgroundcolor\": \"#E5ECF6\", \"gridcolor\": \"white\", \"gridwidth\": 2, \"linecolor\": \"white\", \"showbackground\": true, \"ticks\": \"\", \"zerolinecolor\": \"white\"}}, \"shapedefaults\": {\"line\": {\"color\": \"#2a3f5f\"}}, \"ternary\": {\"aaxis\": {\"gridcolor\": \"white\", \"linecolor\": \"white\", \"ticks\": \"\"}, \"baxis\": {\"gridcolor\": \"white\", \"linecolor\": \"white\", \"ticks\": \"\"}, \"bgcolor\": \"#E5ECF6\", \"caxis\": {\"gridcolor\": \"white\", \"linecolor\": \"white\", \"ticks\": \"\"}}, \"title\": {\"x\": 0.05}, \"xaxis\": {\"automargin\": true, \"gridcolor\": \"white\", \"linecolor\": \"white\", \"ticks\": \"\", \"title\": {\"standoff\": 15}, \"zerolinecolor\": \"white\", \"zerolinewidth\": 2}, \"yaxis\": {\"automargin\": true, \"gridcolor\": \"white\", \"linecolor\": \"white\", \"ticks\": \"\", \"title\": {\"standoff\": 15}, \"zerolinecolor\": \"white\", \"zerolinewidth\": 2}}}},                        {\"responsive\": true}                    ).then(function(){\n",
       "                            \n",
       "var gd = document.getElementById('5bc2964b-086b-4fa3-b911-002084852174');\n",
       "var x = new MutationObserver(function (mutations, observer) {{\n",
       "        var display = window.getComputedStyle(gd).display;\n",
       "        if (!display || display === 'none') {{\n",
       "            console.log([gd, 'removed!']);\n",
       "            Plotly.purge(gd);\n",
       "            observer.disconnect();\n",
       "        }}\n",
       "}});\n",
       "\n",
       "// Listen for the removal of the full notebook cells\n",
       "var notebookContainer = gd.closest('#notebook-container');\n",
       "if (notebookContainer) {{\n",
       "    x.observe(notebookContainer, {childList: true});\n",
       "}}\n",
       "\n",
       "// Listen for the clearing of the current output cell\n",
       "var outputEl = gd.closest('.output');\n",
       "if (outputEl) {{\n",
       "    x.observe(outputEl, {childList: true});\n",
       "}}\n",
       "\n",
       "                        })                };                });            </script>        </div>"
      ]
     },
     "metadata": {},
     "output_type": "display_data"
    }
   ],
   "source": [
    "sunburst(df_movies,'Prime Video','haline')"
   ]
  },
  {
   "cell_type": "code",
   "execution_count": 26,
   "metadata": {
    "_kg_hide-input": false,
    "execution": {
     "iopub.execute_input": "2020-12-18T12:14:37.356848Z",
     "iopub.status.busy": "2020-12-18T12:14:37.355619Z",
     "iopub.status.idle": "2020-12-18T12:14:37.463815Z",
     "shell.execute_reply": "2020-12-18T12:14:37.462839Z"
    },
    "papermill": {
     "duration": 0.190226,
     "end_time": "2020-12-18T12:14:37.464004",
     "exception": false,
     "start_time": "2020-12-18T12:14:37.273778",
     "status": "completed"
    },
    "tags": []
   },
   "outputs": [
    {
     "data": {
      "text/html": [
       "<div>                            <div id=\"eccb8901-79f4-457a-868e-1cf5f97774ee\" class=\"plotly-graph-div\" style=\"height:525px; width:100%;\"></div>            <script type=\"text/javascript\">                require([\"plotly\"], function(Plotly) {                    window.PLOTLYENV=window.PLOTLYENV || {};                                    if (document.getElementById(\"eccb8901-79f4-457a-868e-1cf5f97774ee\")) {                    Plotly.newPlot(                        \"eccb8901-79f4-457a-868e-1cf5f97774ee\",                        [{\"branchvalues\": \"total\", \"customdata\": [[8.4], [8.6], [8.3], [8.7], [8.3], [8.5], [8.4], [8.4], [8.3], [8.5], [8.4], [8.3], [8.4], [8.5], [8.3], [8.6], [8.3], [8.7], [8.5], [8.4]], \"domain\": {\"x\": [0.0, 1.0], \"y\": [0.0, 1.0]}, \"hovertemplate\": \"labels=%{label}<br>IMDb_sum=%{value}<br>parent=%{parent}<br>id=%{id}<br>IMDb=%{color}<extra></extra>\", \"ids\": [\"Avengers: Endgame/Action,Adventure,Drama,Sci-Fi\", \"Star Wars: A New Hope/Action,Adventure,Fantasy,Sci-Fi\", \"Star Wars: Return of the Jedi/Action,Adventure,Fantasy,Sci-Fi\", \"Star Wars: The Empire Strikes Back/Action,Adventure,Fantasy,Sci-Fi\", \"Phineas and Ferb: Mission Marvel/Animation,Action,Comedy,Family,Musical,Sci-Fi\", \"The Lion King/Animation,Adventure,Drama,Family,Musical\", \"Coco/Animation,Adventure,Family,Fantasy,Music,Mystery\", \"WALL\\u00b7E/Animation,Adventure,Family,Sci-Fi\", \"Before the Flood/Documentary\", \"Newsies: The Broadway Musical/Musical\", \"Avengers: Endgame\", \"Before the Flood\", \"Coco\", \"Newsies: The Broadway Musical\", \"Phineas and Ferb: Mission Marvel\", \"Star Wars: A New Hope\", \"Star Wars: Return of the Jedi\", \"Star Wars: The Empire Strikes Back\", \"The Lion King\", \"WALL\\u00b7E\"], \"labels\": [\"Action,Adventure,Drama,Sci-Fi\", \"Action,Adventure,Fantasy,Sci-Fi\", \"Action,Adventure,Fantasy,Sci-Fi\", \"Action,Adventure,Fantasy,Sci-Fi\", \"Animation,Action,Comedy,Family,Musical,Sci-Fi\", \"Animation,Adventure,Drama,Family,Musical\", \"Animation,Adventure,Family,Fantasy,Music,Mystery\", \"Animation,Adventure,Family,Sci-Fi\", \"Documentary\", \"Musical\", \"Avengers: Endgame\", \"Before the Flood\", \"Coco\", \"Newsies: The Broadway Musical\", \"Phineas and Ferb: Mission Marvel\", \"Star Wars: A New Hope\", \"Star Wars: Return of the Jedi\", \"Star Wars: The Empire Strikes Back\", \"The Lion King\", \"WALL\\u00b7E\"], \"marker\": {\"coloraxis\": \"coloraxis\", \"colors\": [8.4, 8.6, 8.3, 8.7, 8.3, 8.5, 8.4, 8.4, 8.3, 8.5, 8.4, 8.3, 8.4, 8.5, 8.3, 8.6, 8.3, 8.7, 8.5, 8.4]}, \"name\": \"\", \"parents\": [\"Avengers: Endgame\", \"Star Wars: A New Hope\", \"Star Wars: Return of the Jedi\", \"Star Wars: The Empire Strikes Back\", \"Phineas and Ferb: Mission Marvel\", \"The Lion King\", \"Coco\", \"WALL\\u00b7E\", \"Before the Flood\", \"Newsies: The Broadway Musical\", \"\", \"\", \"\", \"\", \"\", \"\", \"\", \"\", \"\", \"\"], \"type\": \"sunburst\", \"values\": [8.4, 8.6, 8.3, 8.7, 8.3, 8.5, 8.4, 8.4, 8.3, 8.5, 8.4, 8.3, 8.4, 8.5, 8.3, 8.6, 8.3, 8.7, 8.5, 8.4]}],                        {\"coloraxis\": {\"colorbar\": {\"title\": {\"text\": \"IMDb\"}}, \"colorscale\": [[0.0, \"rgb(230, 240, 240)\"], [0.09090909090909091, \"rgb(191, 221, 229)\"], [0.18181818181818182, \"rgb(156, 201, 226)\"], [0.2727272727272727, \"rgb(129, 180, 227)\"], [0.36363636363636365, \"rgb(115, 154, 228)\"], [0.45454545454545453, \"rgb(117, 127, 221)\"], [0.5454545454545454, \"rgb(120, 100, 202)\"], [0.6363636363636364, \"rgb(119, 74, 175)\"], [0.7272727272727273, \"rgb(113, 50, 141)\"], [0.8181818181818182, \"rgb(100, 31, 104)\"], [0.9090909090909091, \"rgb(80, 20, 66)\"], [1.0, \"rgb(54, 14, 36)\"]]}, \"legend\": {\"tracegroupgap\": 0}, \"margin\": {\"t\": 60}, \"template\": {\"data\": {\"bar\": [{\"error_x\": {\"color\": \"#2a3f5f\"}, \"error_y\": {\"color\": \"#2a3f5f\"}, \"marker\": {\"line\": {\"color\": \"#E5ECF6\", \"width\": 0.5}}, \"type\": \"bar\"}], \"barpolar\": [{\"marker\": {\"line\": {\"color\": \"#E5ECF6\", \"width\": 0.5}}, \"type\": \"barpolar\"}], \"carpet\": [{\"aaxis\": {\"endlinecolor\": \"#2a3f5f\", \"gridcolor\": \"white\", \"linecolor\": \"white\", \"minorgridcolor\": \"white\", \"startlinecolor\": \"#2a3f5f\"}, \"baxis\": {\"endlinecolor\": \"#2a3f5f\", \"gridcolor\": \"white\", \"linecolor\": \"white\", \"minorgridcolor\": \"white\", \"startlinecolor\": \"#2a3f5f\"}, \"type\": \"carpet\"}], \"choropleth\": [{\"colorbar\": {\"outlinewidth\": 0, \"ticks\": \"\"}, \"type\": \"choropleth\"}], \"contour\": [{\"colorbar\": {\"outlinewidth\": 0, \"ticks\": \"\"}, \"colorscale\": [[0.0, \"#0d0887\"], [0.1111111111111111, \"#46039f\"], [0.2222222222222222, \"#7201a8\"], [0.3333333333333333, \"#9c179e\"], [0.4444444444444444, \"#bd3786\"], [0.5555555555555556, \"#d8576b\"], [0.6666666666666666, \"#ed7953\"], [0.7777777777777778, \"#fb9f3a\"], [0.8888888888888888, \"#fdca26\"], [1.0, \"#f0f921\"]], \"type\": \"contour\"}], \"contourcarpet\": [{\"colorbar\": {\"outlinewidth\": 0, \"ticks\": \"\"}, \"type\": \"contourcarpet\"}], \"heatmap\": [{\"colorbar\": {\"outlinewidth\": 0, \"ticks\": \"\"}, \"colorscale\": [[0.0, \"#0d0887\"], [0.1111111111111111, \"#46039f\"], [0.2222222222222222, \"#7201a8\"], [0.3333333333333333, \"#9c179e\"], [0.4444444444444444, \"#bd3786\"], [0.5555555555555556, \"#d8576b\"], [0.6666666666666666, \"#ed7953\"], [0.7777777777777778, \"#fb9f3a\"], [0.8888888888888888, \"#fdca26\"], [1.0, \"#f0f921\"]], \"type\": \"heatmap\"}], \"heatmapgl\": [{\"colorbar\": {\"outlinewidth\": 0, \"ticks\": \"\"}, \"colorscale\": [[0.0, \"#0d0887\"], [0.1111111111111111, \"#46039f\"], [0.2222222222222222, \"#7201a8\"], [0.3333333333333333, \"#9c179e\"], [0.4444444444444444, \"#bd3786\"], [0.5555555555555556, \"#d8576b\"], [0.6666666666666666, \"#ed7953\"], [0.7777777777777778, \"#fb9f3a\"], [0.8888888888888888, \"#fdca26\"], [1.0, \"#f0f921\"]], \"type\": \"heatmapgl\"}], \"histogram\": [{\"marker\": {\"colorbar\": {\"outlinewidth\": 0, \"ticks\": \"\"}}, \"type\": \"histogram\"}], \"histogram2d\": [{\"colorbar\": {\"outlinewidth\": 0, \"ticks\": \"\"}, \"colorscale\": [[0.0, \"#0d0887\"], [0.1111111111111111, \"#46039f\"], [0.2222222222222222, \"#7201a8\"], [0.3333333333333333, \"#9c179e\"], [0.4444444444444444, \"#bd3786\"], [0.5555555555555556, \"#d8576b\"], [0.6666666666666666, \"#ed7953\"], [0.7777777777777778, \"#fb9f3a\"], [0.8888888888888888, \"#fdca26\"], [1.0, \"#f0f921\"]], \"type\": \"histogram2d\"}], \"histogram2dcontour\": [{\"colorbar\": {\"outlinewidth\": 0, \"ticks\": \"\"}, \"colorscale\": [[0.0, \"#0d0887\"], [0.1111111111111111, \"#46039f\"], [0.2222222222222222, \"#7201a8\"], [0.3333333333333333, \"#9c179e\"], [0.4444444444444444, \"#bd3786\"], [0.5555555555555556, \"#d8576b\"], [0.6666666666666666, \"#ed7953\"], [0.7777777777777778, \"#fb9f3a\"], [0.8888888888888888, \"#fdca26\"], [1.0, \"#f0f921\"]], \"type\": \"histogram2dcontour\"}], \"mesh3d\": [{\"colorbar\": {\"outlinewidth\": 0, \"ticks\": \"\"}, \"type\": \"mesh3d\"}], \"parcoords\": [{\"line\": {\"colorbar\": {\"outlinewidth\": 0, \"ticks\": \"\"}}, \"type\": \"parcoords\"}], \"pie\": [{\"automargin\": true, \"type\": \"pie\"}], \"scatter\": [{\"marker\": {\"colorbar\": {\"outlinewidth\": 0, \"ticks\": \"\"}}, \"type\": \"scatter\"}], \"scatter3d\": [{\"line\": {\"colorbar\": {\"outlinewidth\": 0, \"ticks\": \"\"}}, \"marker\": {\"colorbar\": {\"outlinewidth\": 0, \"ticks\": \"\"}}, \"type\": \"scatter3d\"}], \"scattercarpet\": [{\"marker\": {\"colorbar\": {\"outlinewidth\": 0, \"ticks\": \"\"}}, \"type\": \"scattercarpet\"}], \"scattergeo\": [{\"marker\": {\"colorbar\": {\"outlinewidth\": 0, \"ticks\": \"\"}}, \"type\": \"scattergeo\"}], \"scattergl\": [{\"marker\": {\"colorbar\": {\"outlinewidth\": 0, \"ticks\": \"\"}}, \"type\": \"scattergl\"}], \"scattermapbox\": [{\"marker\": {\"colorbar\": {\"outlinewidth\": 0, \"ticks\": \"\"}}, \"type\": \"scattermapbox\"}], \"scatterpolar\": [{\"marker\": {\"colorbar\": {\"outlinewidth\": 0, \"ticks\": \"\"}}, \"type\": \"scatterpolar\"}], \"scatterpolargl\": [{\"marker\": {\"colorbar\": {\"outlinewidth\": 0, \"ticks\": \"\"}}, \"type\": \"scatterpolargl\"}], \"scatterternary\": [{\"marker\": {\"colorbar\": {\"outlinewidth\": 0, \"ticks\": \"\"}}, \"type\": \"scatterternary\"}], \"surface\": [{\"colorbar\": {\"outlinewidth\": 0, \"ticks\": \"\"}, \"colorscale\": [[0.0, \"#0d0887\"], [0.1111111111111111, \"#46039f\"], [0.2222222222222222, \"#7201a8\"], [0.3333333333333333, \"#9c179e\"], [0.4444444444444444, \"#bd3786\"], [0.5555555555555556, \"#d8576b\"], [0.6666666666666666, \"#ed7953\"], [0.7777777777777778, \"#fb9f3a\"], [0.8888888888888888, \"#fdca26\"], [1.0, \"#f0f921\"]], \"type\": \"surface\"}], \"table\": [{\"cells\": {\"fill\": {\"color\": \"#EBF0F8\"}, \"line\": {\"color\": \"white\"}}, \"header\": {\"fill\": {\"color\": \"#C8D4E3\"}, \"line\": {\"color\": \"white\"}}, \"type\": \"table\"}]}, \"layout\": {\"annotationdefaults\": {\"arrowcolor\": \"#2a3f5f\", \"arrowhead\": 0, \"arrowwidth\": 1}, \"coloraxis\": {\"colorbar\": {\"outlinewidth\": 0, \"ticks\": \"\"}}, \"colorscale\": {\"diverging\": [[0, \"#8e0152\"], [0.1, \"#c51b7d\"], [0.2, \"#de77ae\"], [0.3, \"#f1b6da\"], [0.4, \"#fde0ef\"], [0.5, \"#f7f7f7\"], [0.6, \"#e6f5d0\"], [0.7, \"#b8e186\"], [0.8, \"#7fbc41\"], [0.9, \"#4d9221\"], [1, \"#276419\"]], \"sequential\": [[0.0, \"#0d0887\"], [0.1111111111111111, \"#46039f\"], [0.2222222222222222, \"#7201a8\"], [0.3333333333333333, \"#9c179e\"], [0.4444444444444444, \"#bd3786\"], [0.5555555555555556, \"#d8576b\"], [0.6666666666666666, \"#ed7953\"], [0.7777777777777778, \"#fb9f3a\"], [0.8888888888888888, \"#fdca26\"], [1.0, \"#f0f921\"]], \"sequentialminus\": [[0.0, \"#0d0887\"], [0.1111111111111111, \"#46039f\"], [0.2222222222222222, \"#7201a8\"], [0.3333333333333333, \"#9c179e\"], [0.4444444444444444, \"#bd3786\"], [0.5555555555555556, \"#d8576b\"], [0.6666666666666666, \"#ed7953\"], [0.7777777777777778, \"#fb9f3a\"], [0.8888888888888888, \"#fdca26\"], [1.0, \"#f0f921\"]]}, \"colorway\": [\"#636efa\", \"#EF553B\", \"#00cc96\", \"#ab63fa\", \"#FFA15A\", \"#19d3f3\", \"#FF6692\", \"#B6E880\", \"#FF97FF\", \"#FECB52\"], \"font\": {\"color\": \"#2a3f5f\"}, \"geo\": {\"bgcolor\": \"white\", \"lakecolor\": \"white\", \"landcolor\": \"#E5ECF6\", \"showlakes\": true, \"showland\": true, \"subunitcolor\": \"white\"}, \"hoverlabel\": {\"align\": \"left\"}, \"hovermode\": \"closest\", \"mapbox\": {\"style\": \"light\"}, \"paper_bgcolor\": \"white\", \"plot_bgcolor\": \"#E5ECF6\", \"polar\": {\"angularaxis\": {\"gridcolor\": \"white\", \"linecolor\": \"white\", \"ticks\": \"\"}, \"bgcolor\": \"#E5ECF6\", \"radialaxis\": {\"gridcolor\": \"white\", \"linecolor\": \"white\", \"ticks\": \"\"}}, \"scene\": {\"xaxis\": {\"backgroundcolor\": \"#E5ECF6\", \"gridcolor\": \"white\", \"gridwidth\": 2, \"linecolor\": \"white\", \"showbackground\": true, \"ticks\": \"\", \"zerolinecolor\": \"white\"}, \"yaxis\": {\"backgroundcolor\": \"#E5ECF6\", \"gridcolor\": \"white\", \"gridwidth\": 2, \"linecolor\": \"white\", \"showbackground\": true, \"ticks\": \"\", \"zerolinecolor\": \"white\"}, \"zaxis\": {\"backgroundcolor\": \"#E5ECF6\", \"gridcolor\": \"white\", \"gridwidth\": 2, \"linecolor\": \"white\", \"showbackground\": true, \"ticks\": \"\", \"zerolinecolor\": \"white\"}}, \"shapedefaults\": {\"line\": {\"color\": \"#2a3f5f\"}}, \"ternary\": {\"aaxis\": {\"gridcolor\": \"white\", \"linecolor\": \"white\", \"ticks\": \"\"}, \"baxis\": {\"gridcolor\": \"white\", \"linecolor\": \"white\", \"ticks\": \"\"}, \"bgcolor\": \"#E5ECF6\", \"caxis\": {\"gridcolor\": \"white\", \"linecolor\": \"white\", \"ticks\": \"\"}}, \"title\": {\"x\": 0.05}, \"xaxis\": {\"automargin\": true, \"gridcolor\": \"white\", \"linecolor\": \"white\", \"ticks\": \"\", \"title\": {\"standoff\": 15}, \"zerolinecolor\": \"white\", \"zerolinewidth\": 2}, \"yaxis\": {\"automargin\": true, \"gridcolor\": \"white\", \"linecolor\": \"white\", \"ticks\": \"\", \"title\": {\"standoff\": 15}, \"zerolinecolor\": \"white\", \"zerolinewidth\": 2}}}},                        {\"responsive\": true}                    ).then(function(){\n",
       "                            \n",
       "var gd = document.getElementById('eccb8901-79f4-457a-868e-1cf5f97774ee');\n",
       "var x = new MutationObserver(function (mutations, observer) {{\n",
       "        var display = window.getComputedStyle(gd).display;\n",
       "        if (!display || display === 'none') {{\n",
       "            console.log([gd, 'removed!']);\n",
       "            Plotly.purge(gd);\n",
       "            observer.disconnect();\n",
       "        }}\n",
       "}});\n",
       "\n",
       "// Listen for the removal of the full notebook cells\n",
       "var notebookContainer = gd.closest('#notebook-container');\n",
       "if (notebookContainer) {{\n",
       "    x.observe(notebookContainer, {childList: true});\n",
       "}}\n",
       "\n",
       "// Listen for the clearing of the current output cell\n",
       "var outputEl = gd.closest('.output');\n",
       "if (outputEl) {{\n",
       "    x.observe(outputEl, {childList: true});\n",
       "}}\n",
       "\n",
       "                        })                };                });            </script>        </div>"
      ]
     },
     "metadata": {},
     "output_type": "display_data"
    }
   ],
   "source": [
    "sunburst(df_movies,'Disney+','dense')"
   ]
  },
  {
   "cell_type": "markdown",
   "metadata": {
    "papermill": {
     "duration": 0.058066,
     "end_time": "2020-12-18T12:14:37.580438",
     "exception": false,
     "start_time": "2020-12-18T12:14:37.522372",
     "status": "completed"
    },
    "tags": []
   },
   "source": [
    "<div class=\"alert alert-info\">  \n",
    "<h3><strong>Distribution of runtime and release year of movies</strong></h3>\n",
    "</div>"
   ]
  },
  {
   "cell_type": "code",
   "execution_count": 27,
   "metadata": {
    "_kg_hide-input": true,
    "execution": {
     "iopub.execute_input": "2020-12-18T12:14:37.708279Z",
     "iopub.status.busy": "2020-12-18T12:14:37.707312Z",
     "iopub.status.idle": "2020-12-18T12:14:37.711736Z",
     "shell.execute_reply": "2020-12-18T12:14:37.711075Z"
    },
    "papermill": {
     "duration": 0.0728,
     "end_time": "2020-12-18T12:14:37.711876",
     "exception": false,
     "start_time": "2020-12-18T12:14:37.639076",
     "status": "completed"
    },
    "tags": []
   },
   "outputs": [],
   "source": [
    "def kde(i,dataframe,platform,c):\n",
    "    plt.subplot(i)\n",
    "    dataframe=dataframe.loc[dataframe[platform] == 1]\n",
    "    sns.kdeplot(data=dataframe['Runtime'], color=custom_colors[c],shade=True)\n",
    "    plt.xlabel('Runtime in minutes', fontsize = 15)\n",
    "    plt.legend(fontsize = 15);\n",
    "    plt.subplot(i+1)\n",
    "    sns.kdeplot(data=dataframe['Year'], color=custom_colors[c],shade=True)\n",
    "    plt.xlabel('Release Year', fontsize = 15)\n",
    "    plt.legend(fontsize = 15);"
   ]
  },
  {
   "cell_type": "code",
   "execution_count": 28,
   "metadata": {
    "_kg_hide-input": false,
    "execution": {
     "iopub.execute_input": "2020-12-18T12:14:37.834066Z",
     "iopub.status.busy": "2020-12-18T12:14:37.833039Z",
     "iopub.status.idle": "2020-12-18T12:14:39.150498Z",
     "shell.execute_reply": "2020-12-18T12:14:39.149933Z"
    },
    "papermill": {
     "duration": 1.38017,
     "end_time": "2020-12-18T12:14:39.150628",
     "exception": false,
     "start_time": "2020-12-18T12:14:37.770458",
     "status": "completed"
    },
    "tags": []
   },
   "outputs": [
    {
     "data": {
      "image/png": "[encoded data removed]",
      "text/plain": [
       "<Figure size 1152x576 with 8 Axes>"
      ]
     },
     "metadata": {
      "needs_background": "light"
     },
     "output_type": "display_data"
    }
   ],
   "source": [
    "plt.figure(figsize = (16, 8))\n",
    "\n",
    "kde(421,df_movies,'Netflix',0)\n",
    "kde(423,df_movies,'Hulu',1)\n",
    "kde(425,df_movies,'Prime Video',2)\n",
    "kde(427,df_movies,'Disney+',3)"
   ]
  },
  {
   "cell_type": "markdown",
   "metadata": {
    "papermill": {
     "duration": 0.061608,
     "end_time": "2020-12-18T12:14:39.273248",
     "exception": false,
     "start_time": "2020-12-18T12:14:39.211640",
     "status": "completed"
    },
    "tags": []
   },
   "source": [
    "<div class=\"alert alert-info\">  \n",
    "<h3><strong>TV shows with minimum age requirement on each platform</strong></h3>\n",
    "</div>"
   ]
  },
  {
   "cell_type": "code",
   "execution_count": 29,
   "metadata": {
    "execution": {
     "iopub.execute_input": "2020-12-18T12:14:39.403856Z",
     "iopub.status.busy": "2020-12-18T12:14:39.403151Z",
     "iopub.status.idle": "2020-12-18T12:14:39.410112Z",
     "shell.execute_reply": "2020-12-18T12:14:39.409331Z"
    },
    "papermill": {
     "duration": 0.075131,
     "end_time": "2020-12-18T12:14:39.410250",
     "exception": false,
     "start_time": "2020-12-18T12:14:39.335119",
     "status": "completed"
    },
    "tags": []
   },
   "outputs": [],
   "source": [
    "df_t = df_tv.copy()\n",
    "df_t = df_t[df_t['Age'].notna()]"
   ]
  },
  {
   "cell_type": "code",
   "execution_count": 30,
   "metadata": {
    "execution": {
     "iopub.execute_input": "2020-12-18T12:14:39.549437Z",
     "iopub.status.busy": "2020-12-18T12:14:39.548685Z",
     "iopub.status.idle": "2020-12-18T12:14:39.552382Z",
     "shell.execute_reply": "2020-12-18T12:14:39.551716Z"
    },
    "papermill": {
     "duration": 0.081546,
     "end_time": "2020-12-18T12:14:39.552514",
     "exception": false,
     "start_time": "2020-12-18T12:14:39.470968",
     "status": "completed"
    },
    "tags": []
   },
   "outputs": [],
   "source": [
    "df_t['Age']=df_t['Age'].str.replace('+','')\n",
    "df_t['Age']=df_t['Age'].str.replace('all','0')\n",
    "df_t['Age']=df_t['Age'].astype(str).astype(int)"
   ]
  },
  {
   "cell_type": "code",
   "execution_count": 31,
   "metadata": {
    "_kg_hide-input": false,
    "execution": {
     "iopub.execute_input": "2020-12-18T12:14:39.678685Z",
     "iopub.status.busy": "2020-12-18T12:14:39.677619Z",
     "iopub.status.idle": "2020-12-18T12:14:39.685910Z",
     "shell.execute_reply": "2020-12-18T12:14:39.686507Z"
    },
    "papermill": {
     "duration": 0.07314,
     "end_time": "2020-12-18T12:14:39.686655",
     "exception": false,
     "start_time": "2020-12-18T12:14:39.613515",
     "status": "completed"
    },
    "tags": []
   },
   "outputs": [],
   "source": [
    "def barplot(i,dataframe,platform,p):\n",
    "    plt.subplot(i)\n",
    "    dataframe=dataframe.loc[dataframe[platform] == 1]\n",
    "    dataframe = dataframe['Age'].value_counts().reset_index()\n",
    "    dataframe.columns=['age','count']\n",
    "    sns.barplot(x=\"age\", y=\"count\", data=dataframe,palette=p)\n",
    "    plt.xlabel('Age', fontsize = 15)\n",
    "    plt.ylabel(platform, fontsize = 15)"
   ]
  },
  {
   "cell_type": "code",
   "execution_count": 32,
   "metadata": {
    "_kg_hide-input": true,
    "execution": {
     "iopub.execute_input": "2020-12-18T12:14:39.818499Z",
     "iopub.status.busy": "2020-12-18T12:14:39.817470Z",
     "iopub.status.idle": "2020-12-18T12:14:40.349207Z",
     "shell.execute_reply": "2020-12-18T12:14:40.349738Z"
    },
    "papermill": {
     "duration": 0.601347,
     "end_time": "2020-12-18T12:14:40.350055",
     "exception": false,
     "start_time": "2020-12-18T12:14:39.748708",
     "status": "completed"
    },
    "tags": []
   },
   "outputs": [
    {
     "data": {
      "image/png": "[encoded data removed]",
      "text/plain": [
       "<Figure size 1440x1440 with 4 Axes>"
      ]
     },
     "metadata": {
      "needs_background": "light"
     },
     "output_type": "display_data"
    }
   ],
   "source": [
    "plt.figure(figsize = (20, 20))\n",
    "\n",
    "barplot(421,df_t,'Netflix',netflix_p)\n",
    "barplot(423,df_t,'Hulu',hulu_p)\n",
    "barplot(425,df_t,'Prime Video',prime_p)\n",
    "barplot(427,df_t,'Disney+',disney_p)"
   ]
  },
  {
   "cell_type": "markdown",
   "metadata": {
    "papermill": {
     "duration": 0.062343,
     "end_time": "2020-12-18T12:14:40.475183",
     "exception": false,
     "start_time": "2020-12-18T12:14:40.412840",
     "status": "completed"
    },
    "tags": []
   },
   "source": [
    "<div class=\"alert alert-info\">  \n",
    "<h3><strong>TV shows with the highest IMDb rating vs availability</strong></h3>\n",
    "</div>"
   ]
  },
  {
   "cell_type": "code",
   "execution_count": 33,
   "metadata": {
    "execution": {
     "iopub.execute_input": "2020-12-18T12:14:40.605240Z",
     "iopub.status.busy": "2020-12-18T12:14:40.604523Z",
     "iopub.status.idle": "2020-12-18T12:14:40.822018Z",
     "shell.execute_reply": "2020-12-18T12:14:40.821253Z"
    },
    "papermill": {
     "duration": 0.283938,
     "end_time": "2020-12-18T12:14:40.822147",
     "exception": false,
     "start_time": "2020-12-18T12:14:40.538209",
     "status": "completed"
    },
    "tags": []
   },
   "outputs": [
    {
     "data": {
      "text/html": [
       "<style  type=\"text/css\" >\n",
       "#T_9ae4038e_412a_11eb_8f60_0242ac130202row0_col1{\n",
       "            width:  10em;\n",
       "             height:  80%;\n",
       "            background:  linear-gradient(90deg,# 100.0%, transparent 100.0%);\n",
       "            background-color:  #3f007d;\n",
       "            color:  #f1f1f1;\n",
       "        }#T_9ae4038e_412a_11eb_8f60_0242ac130202row0_col2,#T_9ae4038e_412a_11eb_8f60_0242ac130202row0_col4,#T_9ae4038e_412a_11eb_8f60_0242ac130202row0_col5,#T_9ae4038e_412a_11eb_8f60_0242ac130202row1_col3,#T_9ae4038e_412a_11eb_8f60_0242ac130202row1_col4,#T_9ae4038e_412a_11eb_8f60_0242ac130202row1_col5,#T_9ae4038e_412a_11eb_8f60_0242ac130202row2_col2,#T_9ae4038e_412a_11eb_8f60_0242ac130202row2_col3,#T_9ae4038e_412a_11eb_8f60_0242ac130202row2_col5,#T_9ae4038e_412a_11eb_8f60_0242ac130202row3_col2,#T_9ae4038e_412a_11eb_8f60_0242ac130202row3_col4,#T_9ae4038e_412a_11eb_8f60_0242ac130202row3_col5,#T_9ae4038e_412a_11eb_8f60_0242ac130202row4_col2,#T_9ae4038e_412a_11eb_8f60_0242ac130202row4_col3,#T_9ae4038e_412a_11eb_8f60_0242ac130202row4_col5,#T_9ae4038e_412a_11eb_8f60_0242ac130202row5_col2,#T_9ae4038e_412a_11eb_8f60_0242ac130202row5_col5,#T_9ae4038e_412a_11eb_8f60_0242ac130202row6_col2,#T_9ae4038e_412a_11eb_8f60_0242ac130202row6_col3,#T_9ae4038e_412a_11eb_8f60_0242ac130202row6_col5,#T_9ae4038e_412a_11eb_8f60_0242ac130202row7_col3,#T_9ae4038e_412a_11eb_8f60_0242ac130202row7_col4,#T_9ae4038e_412a_11eb_8f60_0242ac130202row7_col5,#T_9ae4038e_412a_11eb_8f60_0242ac130202row8_col2,#T_9ae4038e_412a_11eb_8f60_0242ac130202row8_col3,#T_9ae4038e_412a_11eb_8f60_0242ac130202row8_col5,#T_9ae4038e_412a_11eb_8f60_0242ac130202row9_col3,#T_9ae4038e_412a_11eb_8f60_0242ac130202row9_col4,#T_9ae4038e_412a_11eb_8f60_0242ac130202row9_col5,#T_9ae4038e_412a_11eb_8f60_0242ac130202row10_col2,#T_9ae4038e_412a_11eb_8f60_0242ac130202row10_col4,#T_9ae4038e_412a_11eb_8f60_0242ac130202row10_col5,#T_9ae4038e_412a_11eb_8f60_0242ac130202row11_col2,#T_9ae4038e_412a_11eb_8f60_0242ac130202row11_col3,#T_9ae4038e_412a_11eb_8f60_0242ac130202row11_col5,#T_9ae4038e_412a_11eb_8f60_0242ac130202row12_col2,#T_9ae4038e_412a_11eb_8f60_0242ac130202row12_col3,#T_9ae4038e_412a_11eb_8f60_0242ac130202row12_col5,#T_9ae4038e_412a_11eb_8f60_0242ac130202row13_col3,#T_9ae4038e_412a_11eb_8f60_0242ac130202row13_col4,#T_9ae4038e_412a_11eb_8f60_0242ac130202row13_col5,#T_9ae4038e_412a_11eb_8f60_0242ac130202row14_col2,#T_9ae4038e_412a_11eb_8f60_0242ac130202row14_col3,#T_9ae4038e_412a_11eb_8f60_0242ac130202row14_col5,#T_9ae4038e_412a_11eb_8f60_0242ac130202row15_col2,#T_9ae4038e_412a_11eb_8f60_0242ac130202row15_col3,#T_9ae4038e_412a_11eb_8f60_0242ac130202row15_col5,#T_9ae4038e_412a_11eb_8f60_0242ac130202row16_col2,#T_9ae4038e_412a_11eb_8f60_0242ac130202row16_col3,#T_9ae4038e_412a_11eb_8f60_0242ac130202row16_col5,#T_9ae4038e_412a_11eb_8f60_0242ac130202row17_col2,#T_9ae4038e_412a_11eb_8f60_0242ac130202row17_col3,#T_9ae4038e_412a_11eb_8f60_0242ac130202row17_col5,#T_9ae4038e_412a_11eb_8f60_0242ac130202row18_col3,#T_9ae4038e_412a_11eb_8f60_0242ac130202row18_col4,#T_9ae4038e_412a_11eb_8f60_0242ac130202row18_col5,#T_9ae4038e_412a_11eb_8f60_0242ac130202row19_col1,#T_9ae4038e_412a_11eb_8f60_0242ac130202row19_col4,#T_9ae4038e_412a_11eb_8f60_0242ac130202row19_col5{\n",
       "            width:  10em;\n",
       "             height:  80%;\n",
       "            background-color:  #fcfbfd;\n",
       "            color:  #000000;\n",
       "        }#T_9ae4038e_412a_11eb_8f60_0242ac130202row0_col3,#T_9ae4038e_412a_11eb_8f60_0242ac130202row3_col3,#T_9ae4038e_412a_11eb_8f60_0242ac130202row5_col3,#T_9ae4038e_412a_11eb_8f60_0242ac130202row10_col3,#T_9ae4038e_412a_11eb_8f60_0242ac130202row19_col3{\n",
       "            width:  10em;\n",
       "             height:  80%;\n",
       "            background:  linear-gradient(90deg,#95d5b2 100.0%, transparent 100.0%);\n",
       "            background-color:  #3f007d;\n",
       "            color:  #f1f1f1;\n",
       "        }#T_9ae4038e_412a_11eb_8f60_0242ac130202row1_col1,#T_9ae4038e_412a_11eb_8f60_0242ac130202row2_col1,#T_9ae4038e_412a_11eb_8f60_0242ac130202row3_col1{\n",
       "            width:  10em;\n",
       "             height:  80%;\n",
       "            background:  linear-gradient(90deg,# 80.0%, transparent 80.0%);\n",
       "            background-color:  #61409b;\n",
       "            color:  #f1f1f1;\n",
       "        }#T_9ae4038e_412a_11eb_8f60_0242ac130202row1_col2,#T_9ae4038e_412a_11eb_8f60_0242ac130202row7_col2,#T_9ae4038e_412a_11eb_8f60_0242ac130202row9_col2,#T_9ae4038e_412a_11eb_8f60_0242ac130202row13_col2,#T_9ae4038e_412a_11eb_8f60_0242ac130202row18_col2,#T_9ae4038e_412a_11eb_8f60_0242ac130202row19_col2{\n",
       "            width:  10em;\n",
       "             height:  80%;\n",
       "            background:  linear-gradient(90deg,#ff6b6b 100.0%, transparent 100.0%);\n",
       "            background-color:  #3f007d;\n",
       "            color:  #f1f1f1;\n",
       "        }#T_9ae4038e_412a_11eb_8f60_0242ac130202row2_col4,#T_9ae4038e_412a_11eb_8f60_0242ac130202row4_col4,#T_9ae4038e_412a_11eb_8f60_0242ac130202row5_col4,#T_9ae4038e_412a_11eb_8f60_0242ac130202row6_col4,#T_9ae4038e_412a_11eb_8f60_0242ac130202row8_col4,#T_9ae4038e_412a_11eb_8f60_0242ac130202row11_col4,#T_9ae4038e_412a_11eb_8f60_0242ac130202row12_col4,#T_9ae4038e_412a_11eb_8f60_0242ac130202row14_col4,#T_9ae4038e_412a_11eb_8f60_0242ac130202row15_col4,#T_9ae4038e_412a_11eb_8f60_0242ac130202row16_col4,#T_9ae4038e_412a_11eb_8f60_0242ac130202row17_col4{\n",
       "            width:  10em;\n",
       "             height:  80%;\n",
       "            background:  linear-gradient(90deg,#a2d2ff 100.0%, transparent 100.0%);\n",
       "            background-color:  #3f007d;\n",
       "            color:  #f1f1f1;\n",
       "        }#T_9ae4038e_412a_11eb_8f60_0242ac130202row4_col1,#T_9ae4038e_412a_11eb_8f60_0242ac130202row5_col1{\n",
       "            width:  10em;\n",
       "             height:  80%;\n",
       "            background:  linear-gradient(90deg,# 60.0%, transparent 60.0%);\n",
       "            background-color:  #8683bd;\n",
       "            color:  #000000;\n",
       "        }#T_9ae4038e_412a_11eb_8f60_0242ac130202row6_col1,#T_9ae4038e_412a_11eb_8f60_0242ac130202row7_col1,#T_9ae4038e_412a_11eb_8f60_0242ac130202row8_col1,#T_9ae4038e_412a_11eb_8f60_0242ac130202row9_col1{\n",
       "            width:  10em;\n",
       "             height:  80%;\n",
       "            background:  linear-gradient(90deg,# 40.0%, transparent 40.0%);\n",
       "            background-color:  #b6b6d8;\n",
       "            color:  #000000;\n",
       "        }#T_9ae4038e_412a_11eb_8f60_0242ac130202row10_col1,#T_9ae4038e_412a_11eb_8f60_0242ac130202row11_col1,#T_9ae4038e_412a_11eb_8f60_0242ac130202row12_col1,#T_9ae4038e_412a_11eb_8f60_0242ac130202row13_col1,#T_9ae4038e_412a_11eb_8f60_0242ac130202row14_col1,#T_9ae4038e_412a_11eb_8f60_0242ac130202row15_col1,#T_9ae4038e_412a_11eb_8f60_0242ac130202row16_col1,#T_9ae4038e_412a_11eb_8f60_0242ac130202row17_col1,#T_9ae4038e_412a_11eb_8f60_0242ac130202row18_col1{\n",
       "            width:  10em;\n",
       "             height:  80%;\n",
       "            background:  linear-gradient(90deg,# 20.0%, transparent 20.0%);\n",
       "            background-color:  #e2e2ef;\n",
       "            color:  #000000;\n",
       "        }</style><table id=\"T_9ae4038e_412a_11eb_8f60_0242ac130202\" ><thead>    <tr>        <th class=\"blank level0\" ></th>        <th class=\"col_heading level0 col0\" >Title</th>        <th class=\"col_heading level0 col1\" >IMDb</th>        <th class=\"col_heading level0 col2\" >Netflix</th>        <th class=\"col_heading level0 col3\" >Hulu</th>        <th class=\"col_heading level0 col4\" >Prime Video</th>        <th class=\"col_heading level0 col5\" >Disney+</th>    </tr></thead><tbody>\n",
       "                <tr>\n",
       "                        <th id=\"T_9ae4038e_412a_11eb_8f60_0242ac130202level0_row0\" class=\"row_heading level0 row0\" >3023</th>\n",
       "                        <td id=\"T_9ae4038e_412a_11eb_8f60_0242ac130202row0_col0\" class=\"data row0 col0\" >Destiny</td>\n",
       "                        <td id=\"T_9ae4038e_412a_11eb_8f60_0242ac130202row0_col1\" class=\"data row0 col1\" >9.600000</td>\n",
       "                        <td id=\"T_9ae4038e_412a_11eb_8f60_0242ac130202row0_col2\" class=\"data row0 col2\" >0</td>\n",
       "                        <td id=\"T_9ae4038e_412a_11eb_8f60_0242ac130202row0_col3\" class=\"data row0 col3\" >1</td>\n",
       "                        <td id=\"T_9ae4038e_412a_11eb_8f60_0242ac130202row0_col4\" class=\"data row0 col4\" >0</td>\n",
       "                        <td id=\"T_9ae4038e_412a_11eb_8f60_0242ac130202row0_col5\" class=\"data row0 col5\" >0</td>\n",
       "            </tr>\n",
       "            <tr>\n",
       "                        <th id=\"T_9ae4038e_412a_11eb_8f60_0242ac130202level0_row1\" class=\"row_heading level0 row1\" >0</th>\n",
       "                        <td id=\"T_9ae4038e_412a_11eb_8f60_0242ac130202row1_col0\" class=\"data row1 col0\" >Breaking Bad</td>\n",
       "                        <td id=\"T_9ae4038e_412a_11eb_8f60_0242ac130202row1_col1\" class=\"data row1 col1\" >9.500000</td>\n",
       "                        <td id=\"T_9ae4038e_412a_11eb_8f60_0242ac130202row1_col2\" class=\"data row1 col2\" >1</td>\n",
       "                        <td id=\"T_9ae4038e_412a_11eb_8f60_0242ac130202row1_col3\" class=\"data row1 col3\" >0</td>\n",
       "                        <td id=\"T_9ae4038e_412a_11eb_8f60_0242ac130202row1_col4\" class=\"data row1 col4\" >0</td>\n",
       "                        <td id=\"T_9ae4038e_412a_11eb_8f60_0242ac130202row1_col5\" class=\"data row1 col5\" >0</td>\n",
       "            </tr>\n",
       "            <tr>\n",
       "                        <th id=\"T_9ae4038e_412a_11eb_8f60_0242ac130202level0_row2\" class=\"row_heading level0 row2\" >3747</th>\n",
       "                        <td id=\"T_9ae4038e_412a_11eb_8f60_0242ac130202row2_col0\" class=\"data row2 col0\" >Malgudi Days</td>\n",
       "                        <td id=\"T_9ae4038e_412a_11eb_8f60_0242ac130202row2_col1\" class=\"data row2 col1\" >9.500000</td>\n",
       "                        <td id=\"T_9ae4038e_412a_11eb_8f60_0242ac130202row2_col2\" class=\"data row2 col2\" >0</td>\n",
       "                        <td id=\"T_9ae4038e_412a_11eb_8f60_0242ac130202row2_col3\" class=\"data row2 col3\" >0</td>\n",
       "                        <td id=\"T_9ae4038e_412a_11eb_8f60_0242ac130202row2_col4\" class=\"data row2 col4\" >1</td>\n",
       "                        <td id=\"T_9ae4038e_412a_11eb_8f60_0242ac130202row2_col5\" class=\"data row2 col5\" >0</td>\n",
       "            </tr>\n",
       "            <tr>\n",
       "                        <th id=\"T_9ae4038e_412a_11eb_8f60_0242ac130202level0_row3\" class=\"row_heading level0 row3\" >3177</th>\n",
       "                        <td id=\"T_9ae4038e_412a_11eb_8f60_0242ac130202row3_col0\" class=\"data row3 col0\" >Hungry Henry</td>\n",
       "                        <td id=\"T_9ae4038e_412a_11eb_8f60_0242ac130202row3_col1\" class=\"data row3 col1\" >9.500000</td>\n",
       "                        <td id=\"T_9ae4038e_412a_11eb_8f60_0242ac130202row3_col2\" class=\"data row3 col2\" >0</td>\n",
       "                        <td id=\"T_9ae4038e_412a_11eb_8f60_0242ac130202row3_col3\" class=\"data row3 col3\" >1</td>\n",
       "                        <td id=\"T_9ae4038e_412a_11eb_8f60_0242ac130202row3_col4\" class=\"data row3 col4\" >0</td>\n",
       "                        <td id=\"T_9ae4038e_412a_11eb_8f60_0242ac130202row3_col5\" class=\"data row3 col5\" >0</td>\n",
       "            </tr>\n",
       "            <tr>\n",
       "                        <th id=\"T_9ae4038e_412a_11eb_8f60_0242ac130202level0_row4\" class=\"row_heading level0 row4\" >3567</th>\n",
       "                        <td id=\"T_9ae4038e_412a_11eb_8f60_0242ac130202row4_col0\" class=\"data row4 col0\" >Band of Brothers</td>\n",
       "                        <td id=\"T_9ae4038e_412a_11eb_8f60_0242ac130202row4_col1\" class=\"data row4 col1\" >9.400000</td>\n",
       "                        <td id=\"T_9ae4038e_412a_11eb_8f60_0242ac130202row4_col2\" class=\"data row4 col2\" >0</td>\n",
       "                        <td id=\"T_9ae4038e_412a_11eb_8f60_0242ac130202row4_col3\" class=\"data row4 col3\" >0</td>\n",
       "                        <td id=\"T_9ae4038e_412a_11eb_8f60_0242ac130202row4_col4\" class=\"data row4 col4\" >1</td>\n",
       "                        <td id=\"T_9ae4038e_412a_11eb_8f60_0242ac130202row4_col5\" class=\"data row4 col5\" >0</td>\n",
       "            </tr>\n",
       "            <tr>\n",
       "                        <th id=\"T_9ae4038e_412a_11eb_8f60_0242ac130202level0_row5\" class=\"row_heading level0 row5\" >2365</th>\n",
       "                        <td id=\"T_9ae4038e_412a_11eb_8f60_0242ac130202row5_col0\" class=\"data row5 col0\" >The Joy of Painting</td>\n",
       "                        <td id=\"T_9ae4038e_412a_11eb_8f60_0242ac130202row5_col1\" class=\"data row5 col1\" >9.400000</td>\n",
       "                        <td id=\"T_9ae4038e_412a_11eb_8f60_0242ac130202row5_col2\" class=\"data row5 col2\" >0</td>\n",
       "                        <td id=\"T_9ae4038e_412a_11eb_8f60_0242ac130202row5_col3\" class=\"data row5 col3\" >1</td>\n",
       "                        <td id=\"T_9ae4038e_412a_11eb_8f60_0242ac130202row5_col4\" class=\"data row5 col4\" >1</td>\n",
       "                        <td id=\"T_9ae4038e_412a_11eb_8f60_0242ac130202row5_col5\" class=\"data row5 col5\" >0</td>\n",
       "            </tr>\n",
       "            <tr>\n",
       "                        <th id=\"T_9ae4038e_412a_11eb_8f60_0242ac130202level0_row6\" class=\"row_heading level0 row6\" >4128</th>\n",
       "                        <td id=\"T_9ae4038e_412a_11eb_8f60_0242ac130202row6_col0\" class=\"data row6 col0\" >Green Paradise</td>\n",
       "                        <td id=\"T_9ae4038e_412a_11eb_8f60_0242ac130202row6_col1\" class=\"data row6 col1\" >9.300000</td>\n",
       "                        <td id=\"T_9ae4038e_412a_11eb_8f60_0242ac130202row6_col2\" class=\"data row6 col2\" >0</td>\n",
       "                        <td id=\"T_9ae4038e_412a_11eb_8f60_0242ac130202row6_col3\" class=\"data row6 col3\" >0</td>\n",
       "                        <td id=\"T_9ae4038e_412a_11eb_8f60_0242ac130202row6_col4\" class=\"data row6 col4\" >1</td>\n",
       "                        <td id=\"T_9ae4038e_412a_11eb_8f60_0242ac130202row6_col5\" class=\"data row6 col5\" >0</td>\n",
       "            </tr>\n",
       "            <tr>\n",
       "                        <th id=\"T_9ae4038e_412a_11eb_8f60_0242ac130202level0_row7\" class=\"row_heading level0 row7\" >91</th>\n",
       "                        <td id=\"T_9ae4038e_412a_11eb_8f60_0242ac130202row7_col0\" class=\"data row7 col0\" >Our Planet</td>\n",
       "                        <td id=\"T_9ae4038e_412a_11eb_8f60_0242ac130202row7_col1\" class=\"data row7 col1\" >9.300000</td>\n",
       "                        <td id=\"T_9ae4038e_412a_11eb_8f60_0242ac130202row7_col2\" class=\"data row7 col2\" >1</td>\n",
       "                        <td id=\"T_9ae4038e_412a_11eb_8f60_0242ac130202row7_col3\" class=\"data row7 col3\" >0</td>\n",
       "                        <td id=\"T_9ae4038e_412a_11eb_8f60_0242ac130202row7_col4\" class=\"data row7 col4\" >0</td>\n",
       "                        <td id=\"T_9ae4038e_412a_11eb_8f60_0242ac130202row7_col5\" class=\"data row7 col5\" >0</td>\n",
       "            </tr>\n",
       "            <tr>\n",
       "                        <th id=\"T_9ae4038e_412a_11eb_8f60_0242ac130202level0_row8\" class=\"row_heading level0 row8\" >3566</th>\n",
       "                        <td id=\"T_9ae4038e_412a_11eb_8f60_0242ac130202row8_col0\" class=\"data row8 col0\" >The Wire</td>\n",
       "                        <td id=\"T_9ae4038e_412a_11eb_8f60_0242ac130202row8_col1\" class=\"data row8 col1\" >9.300000</td>\n",
       "                        <td id=\"T_9ae4038e_412a_11eb_8f60_0242ac130202row8_col2\" class=\"data row8 col2\" >0</td>\n",
       "                        <td id=\"T_9ae4038e_412a_11eb_8f60_0242ac130202row8_col3\" class=\"data row8 col3\" >0</td>\n",
       "                        <td id=\"T_9ae4038e_412a_11eb_8f60_0242ac130202row8_col4\" class=\"data row8 col4\" >1</td>\n",
       "                        <td id=\"T_9ae4038e_412a_11eb_8f60_0242ac130202row8_col5\" class=\"data row8 col5\" >0</td>\n",
       "            </tr>\n",
       "            <tr>\n",
       "                        <th id=\"T_9ae4038e_412a_11eb_8f60_0242ac130202level0_row9\" class=\"row_heading level0 row9\" >325</th>\n",
       "                        <td id=\"T_9ae4038e_412a_11eb_8f60_0242ac130202row9_col0\" class=\"data row9 col0\" >Ramayan</td>\n",
       "                        <td id=\"T_9ae4038e_412a_11eb_8f60_0242ac130202row9_col1\" class=\"data row9 col1\" >9.300000</td>\n",
       "                        <td id=\"T_9ae4038e_412a_11eb_8f60_0242ac130202row9_col2\" class=\"data row9 col2\" >1</td>\n",
       "                        <td id=\"T_9ae4038e_412a_11eb_8f60_0242ac130202row9_col3\" class=\"data row9 col3\" >0</td>\n",
       "                        <td id=\"T_9ae4038e_412a_11eb_8f60_0242ac130202row9_col4\" class=\"data row9 col4\" >0</td>\n",
       "                        <td id=\"T_9ae4038e_412a_11eb_8f60_0242ac130202row9_col5\" class=\"data row9 col5\" >0</td>\n",
       "            </tr>\n",
       "            <tr>\n",
       "                        <th id=\"T_9ae4038e_412a_11eb_8f60_0242ac130202level0_row10\" class=\"row_heading level0 row10\" >1931</th>\n",
       "                        <td id=\"T_9ae4038e_412a_11eb_8f60_0242ac130202row10_col0\" class=\"data row10 col0\" >Rick and Morty</td>\n",
       "                        <td id=\"T_9ae4038e_412a_11eb_8f60_0242ac130202row10_col1\" class=\"data row10 col1\" >9.200000</td>\n",
       "                        <td id=\"T_9ae4038e_412a_11eb_8f60_0242ac130202row10_col2\" class=\"data row10 col2\" >0</td>\n",
       "                        <td id=\"T_9ae4038e_412a_11eb_8f60_0242ac130202row10_col3\" class=\"data row10 col3\" >1</td>\n",
       "                        <td id=\"T_9ae4038e_412a_11eb_8f60_0242ac130202row10_col4\" class=\"data row10 col4\" >0</td>\n",
       "                        <td id=\"T_9ae4038e_412a_11eb_8f60_0242ac130202row10_col5\" class=\"data row10 col5\" >0</td>\n",
       "            </tr>\n",
       "            <tr>\n",
       "                        <th id=\"T_9ae4038e_412a_11eb_8f60_0242ac130202level0_row11\" class=\"row_heading level0 row11\" >4041</th>\n",
       "                        <td id=\"T_9ae4038e_412a_11eb_8f60_0242ac130202row11_col0\" class=\"data row11 col0\" >Everyday Driver</td>\n",
       "                        <td id=\"T_9ae4038e_412a_11eb_8f60_0242ac130202row11_col1\" class=\"data row11 col1\" >9.200000</td>\n",
       "                        <td id=\"T_9ae4038e_412a_11eb_8f60_0242ac130202row11_col2\" class=\"data row11 col2\" >0</td>\n",
       "                        <td id=\"T_9ae4038e_412a_11eb_8f60_0242ac130202row11_col3\" class=\"data row11 col3\" >0</td>\n",
       "                        <td id=\"T_9ae4038e_412a_11eb_8f60_0242ac130202row11_col4\" class=\"data row11 col4\" >1</td>\n",
       "                        <td id=\"T_9ae4038e_412a_11eb_8f60_0242ac130202row11_col5\" class=\"data row11 col5\" >0</td>\n",
       "            </tr>\n",
       "            <tr>\n",
       "                        <th id=\"T_9ae4038e_412a_11eb_8f60_0242ac130202level0_row12\" class=\"row_heading level0 row12\" >3701</th>\n",
       "                        <td id=\"T_9ae4038e_412a_11eb_8f60_0242ac130202row12_col0\" class=\"data row12 col0\" >Baseball</td>\n",
       "                        <td id=\"T_9ae4038e_412a_11eb_8f60_0242ac130202row12_col1\" class=\"data row12 col1\" >9.200000</td>\n",
       "                        <td id=\"T_9ae4038e_412a_11eb_8f60_0242ac130202row12_col2\" class=\"data row12 col2\" >0</td>\n",
       "                        <td id=\"T_9ae4038e_412a_11eb_8f60_0242ac130202row12_col3\" class=\"data row12 col3\" >0</td>\n",
       "                        <td id=\"T_9ae4038e_412a_11eb_8f60_0242ac130202row12_col4\" class=\"data row12 col4\" >1</td>\n",
       "                        <td id=\"T_9ae4038e_412a_11eb_8f60_0242ac130202row12_col5\" class=\"data row12 col5\" >0</td>\n",
       "            </tr>\n",
       "            <tr>\n",
       "                        <th id=\"T_9ae4038e_412a_11eb_8f60_0242ac130202level0_row13\" class=\"row_heading level0 row13\" >282</th>\n",
       "                        <td id=\"T_9ae4038e_412a_11eb_8f60_0242ac130202row13_col0\" class=\"data row13 col0\" >Yeh Meri Family</td>\n",
       "                        <td id=\"T_9ae4038e_412a_11eb_8f60_0242ac130202row13_col1\" class=\"data row13 col1\" >9.200000</td>\n",
       "                        <td id=\"T_9ae4038e_412a_11eb_8f60_0242ac130202row13_col2\" class=\"data row13 col2\" >1</td>\n",
       "                        <td id=\"T_9ae4038e_412a_11eb_8f60_0242ac130202row13_col3\" class=\"data row13 col3\" >0</td>\n",
       "                        <td id=\"T_9ae4038e_412a_11eb_8f60_0242ac130202row13_col4\" class=\"data row13 col4\" >0</td>\n",
       "                        <td id=\"T_9ae4038e_412a_11eb_8f60_0242ac130202row13_col5\" class=\"data row13 col5\" >0</td>\n",
       "            </tr>\n",
       "            <tr>\n",
       "                        <th id=\"T_9ae4038e_412a_11eb_8f60_0242ac130202level0_row14\" class=\"row_heading level0 row14\" >3798</th>\n",
       "                        <td id=\"T_9ae4038e_412a_11eb_8f60_0242ac130202row14_col0\" class=\"data row14 col0\" >The Bay</td>\n",
       "                        <td id=\"T_9ae4038e_412a_11eb_8f60_0242ac130202row14_col1\" class=\"data row14 col1\" >9.200000</td>\n",
       "                        <td id=\"T_9ae4038e_412a_11eb_8f60_0242ac130202row14_col2\" class=\"data row14 col2\" >0</td>\n",
       "                        <td id=\"T_9ae4038e_412a_11eb_8f60_0242ac130202row14_col3\" class=\"data row14 col3\" >0</td>\n",
       "                        <td id=\"T_9ae4038e_412a_11eb_8f60_0242ac130202row14_col4\" class=\"data row14 col4\" >1</td>\n",
       "                        <td id=\"T_9ae4038e_412a_11eb_8f60_0242ac130202row14_col5\" class=\"data row14 col5\" >0</td>\n",
       "            </tr>\n",
       "            <tr>\n",
       "                        <th id=\"T_9ae4038e_412a_11eb_8f60_0242ac130202level0_row15\" class=\"row_heading level0 row15\" >4257</th>\n",
       "                        <td id=\"T_9ae4038e_412a_11eb_8f60_0242ac130202row15_col0\" class=\"data row15 col0\" >Single and Anxious</td>\n",
       "                        <td id=\"T_9ae4038e_412a_11eb_8f60_0242ac130202row15_col1\" class=\"data row15 col1\" >9.200000</td>\n",
       "                        <td id=\"T_9ae4038e_412a_11eb_8f60_0242ac130202row15_col2\" class=\"data row15 col2\" >0</td>\n",
       "                        <td id=\"T_9ae4038e_412a_11eb_8f60_0242ac130202row15_col3\" class=\"data row15 col3\" >0</td>\n",
       "                        <td id=\"T_9ae4038e_412a_11eb_8f60_0242ac130202row15_col4\" class=\"data row15 col4\" >1</td>\n",
       "                        <td id=\"T_9ae4038e_412a_11eb_8f60_0242ac130202row15_col5\" class=\"data row15 col5\" >0</td>\n",
       "            </tr>\n",
       "            <tr>\n",
       "                        <th id=\"T_9ae4038e_412a_11eb_8f60_0242ac130202level0_row16\" class=\"row_heading level0 row16\" >3568</th>\n",
       "                        <td id=\"T_9ae4038e_412a_11eb_8f60_0242ac130202row16_col0\" class=\"data row16 col0\" >The Sopranos</td>\n",
       "                        <td id=\"T_9ae4038e_412a_11eb_8f60_0242ac130202row16_col1\" class=\"data row16 col1\" >9.200000</td>\n",
       "                        <td id=\"T_9ae4038e_412a_11eb_8f60_0242ac130202row16_col2\" class=\"data row16 col2\" >0</td>\n",
       "                        <td id=\"T_9ae4038e_412a_11eb_8f60_0242ac130202row16_col3\" class=\"data row16 col3\" >0</td>\n",
       "                        <td id=\"T_9ae4038e_412a_11eb_8f60_0242ac130202row16_col4\" class=\"data row16 col4\" >1</td>\n",
       "                        <td id=\"T_9ae4038e_412a_11eb_8f60_0242ac130202row16_col5\" class=\"data row16 col5\" >0</td>\n",
       "            </tr>\n",
       "            <tr>\n",
       "                        <th id=\"T_9ae4038e_412a_11eb_8f60_0242ac130202level0_row17\" class=\"row_heading level0 row17\" >4029</th>\n",
       "                        <td id=\"T_9ae4038e_412a_11eb_8f60_0242ac130202row17_col0\" class=\"data row17 col0\" >Harmony with A R Rahman</td>\n",
       "                        <td id=\"T_9ae4038e_412a_11eb_8f60_0242ac130202row17_col1\" class=\"data row17 col1\" >9.200000</td>\n",
       "                        <td id=\"T_9ae4038e_412a_11eb_8f60_0242ac130202row17_col2\" class=\"data row17 col2\" >0</td>\n",
       "                        <td id=\"T_9ae4038e_412a_11eb_8f60_0242ac130202row17_col3\" class=\"data row17 col3\" >0</td>\n",
       "                        <td id=\"T_9ae4038e_412a_11eb_8f60_0242ac130202row17_col4\" class=\"data row17 col4\" >1</td>\n",
       "                        <td id=\"T_9ae4038e_412a_11eb_8f60_0242ac130202row17_col5\" class=\"data row17 col5\" >0</td>\n",
       "            </tr>\n",
       "            <tr>\n",
       "                        <th id=\"T_9ae4038e_412a_11eb_8f60_0242ac130202level0_row18\" class=\"row_heading level0 row18\" >9</th>\n",
       "                        <td id=\"T_9ae4038e_412a_11eb_8f60_0242ac130202row18_col0\" class=\"data row18 col0\" >Avatar: The Last Airbender</td>\n",
       "                        <td id=\"T_9ae4038e_412a_11eb_8f60_0242ac130202row18_col1\" class=\"data row18 col1\" >9.200000</td>\n",
       "                        <td id=\"T_9ae4038e_412a_11eb_8f60_0242ac130202row18_col2\" class=\"data row18 col2\" >1</td>\n",
       "                        <td id=\"T_9ae4038e_412a_11eb_8f60_0242ac130202row18_col3\" class=\"data row18 col3\" >0</td>\n",
       "                        <td id=\"T_9ae4038e_412a_11eb_8f60_0242ac130202row18_col4\" class=\"data row18 col4\" >0</td>\n",
       "                        <td id=\"T_9ae4038e_412a_11eb_8f60_0242ac130202row18_col5\" class=\"data row18 col5\" >0</td>\n",
       "            </tr>\n",
       "            <tr>\n",
       "                        <th id=\"T_9ae4038e_412a_11eb_8f60_0242ac130202level0_row19\" class=\"row_heading level0 row19\" >15</th>\n",
       "                        <td id=\"T_9ae4038e_412a_11eb_8f60_0242ac130202row19_col0\" class=\"data row19 col0\" >Fullmetal Alchemist: Brotherhood</td>\n",
       "                        <td id=\"T_9ae4038e_412a_11eb_8f60_0242ac130202row19_col1\" class=\"data row19 col1\" >9.100000</td>\n",
       "                        <td id=\"T_9ae4038e_412a_11eb_8f60_0242ac130202row19_col2\" class=\"data row19 col2\" >1</td>\n",
       "                        <td id=\"T_9ae4038e_412a_11eb_8f60_0242ac130202row19_col3\" class=\"data row19 col3\" >1</td>\n",
       "                        <td id=\"T_9ae4038e_412a_11eb_8f60_0242ac130202row19_col4\" class=\"data row19 col4\" >0</td>\n",
       "                        <td id=\"T_9ae4038e_412a_11eb_8f60_0242ac130202row19_col5\" class=\"data row19 col5\" >0</td>\n",
       "            </tr>\n",
       "    </tbody></table>"
      ],
      "text/plain": [
       "<pandas.io.formats.style.Styler at 0x7fc60653ddd0>"
      ]
     },
     "execution_count": 33,
     "metadata": {},
     "output_type": "execute_result"
    }
   ],
   "source": [
    "r = df_tv.sort_values(by='IMDb', ascending=False)\n",
    "r = r[0:20]\n",
    "r = r[['Title','IMDb','Netflix','Hulu','Prime Video','Disney+']]\n",
    "r.style.bar(subset=[\"Netflix\",], color='#ff6b6b')\\\n",
    "                 .bar(subset=[\"Hulu\"], color='#95d5b2')\\\n",
    "                 .bar(subset=[\"Prime Video\"], color='#a2d2ff')\\\n",
    "                 .bar(subset=[\"Disney+\"], color='#72efdd')\\\n",
    "                 .bar(subset=[\"IMDb\"],color='#').background_gradient(cmap='Purples')"
   ]
  },
  {
   "cell_type": "markdown",
   "metadata": {
    "papermill": {
     "duration": 0.064853,
     "end_time": "2020-12-18T12:14:40.952616",
     "exception": false,
     "start_time": "2020-12-18T12:14:40.887763",
     "status": "completed"
    },
    "tags": []
   },
   "source": [
    "<div class=\"alert alert-info\">  \n",
    "<h3><strong>Movies with the highest IMDb rating, genres and languages</strong></h3>\n",
    "</div>"
   ]
  },
  {
   "cell_type": "code",
   "execution_count": 34,
   "metadata": {
    "execution": {
     "iopub.execute_input": "2020-12-18T12:14:41.089863Z",
     "iopub.status.busy": "2020-12-18T12:14:41.088798Z",
     "iopub.status.idle": "2020-12-18T12:14:41.297921Z",
     "shell.execute_reply": "2020-12-18T12:14:41.297159Z"
    },
    "papermill": {
     "duration": 0.280969,
     "end_time": "2020-12-18T12:14:41.298046",
     "exception": false,
     "start_time": "2020-12-18T12:14:41.017077",
     "status": "completed"
    },
    "tags": []
   },
   "outputs": [
    {
     "data": {
      "text/html": [
       "<div>                            <div id=\"27226a27-b53b-4f06-9c6b-fa8487f4c95f\" class=\"plotly-graph-div\" style=\"height:525px; width:100%;\"></div>            <script type=\"text/javascript\">                require([\"plotly\"], function(Plotly) {                    window.PLOTLYENV=window.PLOTLYENV || {};                                    if (document.getElementById(\"27226a27-b53b-4f06-9c6b-fa8487f4c95f\")) {                    Plotly.newPlot(                        \"27226a27-b53b-4f06-9c6b-fa8487f4c95f\",                        [{\"branchvalues\": \"total\", \"customdata\": [[9.1], [9.3], [9.3], [9.1], [9.0], [9.3], [9.1], [9.3], [9.3], [9.3], [9.3], [9.1], [9.0], [9.3], [9.1], [9.3], [9.1], [9.3], [9.0], [9.3], [9.3], [9.1], [9.3], [9.3], [9.1], [9.3], [9.3], [9.1], [9.211400651465798]], \"domain\": {\"x\": [0.0, 1.0], \"y\": [0.0, 1.0]}, \"hovertemplate\": \"labels=%{label}<br>IMDb_sum=%{value}<br>parent=%{parent}<br>id=%{id}<br>IMDb=%{color}<extra></extra>\", \"ids\": [\"Movies/Finding Family/Documentary,Family,History,War/Bosnian,English\", \"Movies/Bounty/Adventure,Drama,History,Romance/English\", \"Movies/Steven Banks: Home Entertainment Center/Comedy/English\", \"Movies/Where's Daddy?/Documentary/English\", \"Movies/A Dog Named Gucci/Documentary,Biography,Drama,News/English\", \"Movies/Square One/Documentary,Drama,Music/English\", \"Movies/Natsamrat/Drama,Family/Marathi\", \"Movies/Down, But Not Out!/Documentary,Sport/Polish\", \"Movies/Bounty/Adventure,Drama,History,Romance\", \"Movies/Steven Banks: Home Entertainment Center/Comedy\", \"Movies/Love on a Leash/Comedy,Drama,Fantasy,Romance\", \"Movies/Where's Daddy?/Documentary\", \"Movies/A Dog Named Gucci/Documentary,Biography,Drama,News\", \"Movies/Square One/Documentary,Drama,Music\", \"Movies/Finding Family/Documentary,Family,History,War\", \"Movies/Down, But Not Out!/Documentary,Sport\", \"Movies/Natsamrat/Drama,Family\", \"Movies/My Next Guest with David Letterman and Shah Rukh Khan/Talk-Show\", \"Movies/A Dog Named Gucci\", \"Movies/Bounty\", \"Movies/Down, But Not Out!\", \"Movies/Finding Family\", \"Movies/Love on a Leash\", \"Movies/My Next Guest with David Letterman and Shah Rukh Khan\", \"Movies/Natsamrat\", \"Movies/Square One\", \"Movies/Steven Banks: Home Entertainment Center\", \"Movies/Where's Daddy?\", \"Movies\"], \"labels\": [\"Bosnian,English\", \"English\", \"English\", \"English\", \"English\", \"English\", \"Marathi\", \"Polish\", \"Adventure,Drama,History,Romance\", \"Comedy\", \"Comedy,Drama,Fantasy,Romance\", \"Documentary\", \"Documentary,Biography,Drama,News\", \"Documentary,Drama,Music\", \"Documentary,Family,History,War\", \"Documentary,Sport\", \"Drama,Family\", \"Talk-Show\", \"A Dog Named Gucci\", \"Bounty\", \"Down, But Not Out!\", \"Finding Family\", \"Love on a Leash\", \"My Next Guest with David Letterman and Shah Rukh Khan\", \"Natsamrat\", \"Square One\", \"Steven Banks: Home Entertainment Center\", \"Where's Daddy?\", \"Movies\"], \"marker\": {\"coloraxis\": \"coloraxis\", \"colors\": [9.1, 9.3, 9.3, 9.1, 9.0, 9.3, 9.1, 9.3, 9.3, 9.3, 9.3, 9.1, 9.0, 9.3, 9.1, 9.3, 9.1, 9.3, 9.0, 9.3, 9.3, 9.1, 9.3, 9.3, 9.1, 9.3, 9.3, 9.1, 9.211400651465798]}, \"name\": \"\", \"parents\": [\"Movies/Finding Family/Documentary,Family,History,War\", \"Movies/Bounty/Adventure,Drama,History,Romance\", \"Movies/Steven Banks: Home Entertainment Center/Comedy\", \"Movies/Where's Daddy?/Documentary\", \"Movies/A Dog Named Gucci/Documentary,Biography,Drama,News\", \"Movies/Square One/Documentary,Drama,Music\", \"Movies/Natsamrat/Drama,Family\", \"Movies/Down, But Not Out!/Documentary,Sport\", \"Movies/Bounty\", \"Movies/Steven Banks: Home Entertainment Center\", \"Movies/Love on a Leash\", \"Movies/Where's Daddy?\", \"Movies/A Dog Named Gucci\", \"Movies/Square One\", \"Movies/Finding Family\", \"Movies/Down, But Not Out!\", \"Movies/Natsamrat\", \"Movies/My Next Guest with David Letterman and Shah Rukh Khan\", \"Movies\", \"Movies\", \"Movies\", \"Movies\", \"Movies\", \"Movies\", \"Movies\", \"Movies\", \"Movies\", \"Movies\", \"\"], \"type\": \"treemap\", \"values\": [9.1, 9.3, 9.3, 9.1, 9.0, 9.3, 9.1, 9.3, 9.3, 9.3, 9.3, 9.1, 9.0, 9.3, 9.1, 9.3, 9.1, 9.3, 9.0, 9.3, 9.3, 9.1, 9.3, 9.3, 9.1, 9.3, 9.3, 9.1, 92.09999999999998]}],                        {\"coloraxis\": {\"colorbar\": {\"title\": {\"text\": \"IMDb\"}}, \"colorscale\": [[0.0, \"rgb(243, 224, 247)\"], [0.16666666666666666, \"rgb(228, 199, 241)\"], [0.3333333333333333, \"rgb(209, 175, 232)\"], [0.5, \"rgb(185, 152, 221)\"], [0.6666666666666666, \"rgb(159, 130, 206)\"], [0.8333333333333334, \"rgb(130, 109, 186)\"], [1.0, \"rgb(99, 88, 159)\"]]}, \"legend\": {\"tracegroupgap\": 0}, \"margin\": {\"t\": 60}, \"template\": {\"data\": {\"bar\": [{\"error_x\": {\"color\": \"#2a3f5f\"}, \"error_y\": {\"color\": \"#2a3f5f\"}, \"marker\": {\"line\": {\"color\": \"#E5ECF6\", \"width\": 0.5}}, \"type\": \"bar\"}], \"barpolar\": [{\"marker\": {\"line\": {\"color\": \"#E5ECF6\", \"width\": 0.5}}, \"type\": \"barpolar\"}], \"carpet\": [{\"aaxis\": {\"endlinecolor\": \"#2a3f5f\", \"gridcolor\": \"white\", \"linecolor\": \"white\", \"minorgridcolor\": \"white\", \"startlinecolor\": \"#2a3f5f\"}, \"baxis\": {\"endlinecolor\": \"#2a3f5f\", \"gridcolor\": \"white\", \"linecolor\": \"white\", \"minorgridcolor\": \"white\", \"startlinecolor\": \"#2a3f5f\"}, \"type\": \"carpet\"}], \"choropleth\": [{\"colorbar\": {\"outlinewidth\": 0, \"ticks\": \"\"}, \"type\": \"choropleth\"}], \"contour\": [{\"colorbar\": {\"outlinewidth\": 0, \"ticks\": \"\"}, \"colorscale\": [[0.0, \"#0d0887\"], [0.1111111111111111, \"#46039f\"], [0.2222222222222222, \"#7201a8\"], [0.3333333333333333, \"#9c179e\"], [0.4444444444444444, \"#bd3786\"], [0.5555555555555556, \"#d8576b\"], [0.6666666666666666, \"#ed7953\"], [0.7777777777777778, \"#fb9f3a\"], [0.8888888888888888, \"#fdca26\"], [1.0, \"#f0f921\"]], \"type\": \"contour\"}], \"contourcarpet\": [{\"colorbar\": {\"outlinewidth\": 0, \"ticks\": \"\"}, \"type\": \"contourcarpet\"}], \"heatmap\": [{\"colorbar\": {\"outlinewidth\": 0, \"ticks\": \"\"}, \"colorscale\": [[0.0, \"#0d0887\"], [0.1111111111111111, \"#46039f\"], [0.2222222222222222, \"#7201a8\"], [0.3333333333333333, \"#9c179e\"], [0.4444444444444444, \"#bd3786\"], [0.5555555555555556, \"#d8576b\"], [0.6666666666666666, \"#ed7953\"], [0.7777777777777778, \"#fb9f3a\"], [0.8888888888888888, \"#fdca26\"], [1.0, \"#f0f921\"]], \"type\": \"heatmap\"}], \"heatmapgl\": [{\"colorbar\": {\"outlinewidth\": 0, \"ticks\": \"\"}, \"colorscale\": [[0.0, \"#0d0887\"], [0.1111111111111111, \"#46039f\"], [0.2222222222222222, \"#7201a8\"], [0.3333333333333333, \"#9c179e\"], [0.4444444444444444, \"#bd3786\"], [0.5555555555555556, \"#d8576b\"], [0.6666666666666666, \"#ed7953\"], [0.7777777777777778, \"#fb9f3a\"], [0.8888888888888888, \"#fdca26\"], [1.0, \"#f0f921\"]], \"type\": \"heatmapgl\"}], \"histogram\": [{\"marker\": {\"colorbar\": {\"outlinewidth\": 0, \"ticks\": \"\"}}, \"type\": \"histogram\"}], \"histogram2d\": [{\"colorbar\": {\"outlinewidth\": 0, \"ticks\": \"\"}, \"colorscale\": [[0.0, \"#0d0887\"], [0.1111111111111111, \"#46039f\"], [0.2222222222222222, \"#7201a8\"], [0.3333333333333333, \"#9c179e\"], [0.4444444444444444, \"#bd3786\"], [0.5555555555555556, \"#d8576b\"], [0.6666666666666666, \"#ed7953\"], [0.7777777777777778, \"#fb9f3a\"], [0.8888888888888888, \"#fdca26\"], [1.0, \"#f0f921\"]], \"type\": \"histogram2d\"}], \"histogram2dcontour\": [{\"colorbar\": {\"outlinewidth\": 0, \"ticks\": \"\"}, \"colorscale\": [[0.0, \"#0d0887\"], [0.1111111111111111, \"#46039f\"], [0.2222222222222222, \"#7201a8\"], [0.3333333333333333, \"#9c179e\"], [0.4444444444444444, \"#bd3786\"], [0.5555555555555556, \"#d8576b\"], [0.6666666666666666, \"#ed7953\"], [0.7777777777777778, \"#fb9f3a\"], [0.8888888888888888, \"#fdca26\"], [1.0, \"#f0f921\"]], \"type\": \"histogram2dcontour\"}], \"mesh3d\": [{\"colorbar\": {\"outlinewidth\": 0, \"ticks\": \"\"}, \"type\": \"mesh3d\"}], \"parcoords\": [{\"line\": {\"colorbar\": {\"outlinewidth\": 0, \"ticks\": \"\"}}, \"type\": \"parcoords\"}], \"pie\": [{\"automargin\": true, \"type\": \"pie\"}], \"scatter\": [{\"marker\": {\"colorbar\": {\"outlinewidth\": 0, \"ticks\": \"\"}}, \"type\": \"scatter\"}], \"scatter3d\": [{\"line\": {\"colorbar\": {\"outlinewidth\": 0, \"ticks\": \"\"}}, \"marker\": {\"colorbar\": {\"outlinewidth\": 0, \"ticks\": \"\"}}, \"type\": \"scatter3d\"}], \"scattercarpet\": [{\"marker\": {\"colorbar\": {\"outlinewidth\": 0, \"ticks\": \"\"}}, \"type\": \"scattercarpet\"}], \"scattergeo\": [{\"marker\": {\"colorbar\": {\"outlinewidth\": 0, \"ticks\": \"\"}}, \"type\": \"scattergeo\"}], \"scattergl\": [{\"marker\": {\"colorbar\": {\"outlinewidth\": 0, \"ticks\": \"\"}}, \"type\": \"scattergl\"}], \"scattermapbox\": [{\"marker\": {\"colorbar\": {\"outlinewidth\": 0, \"ticks\": \"\"}}, \"type\": \"scattermapbox\"}], \"scatterpolar\": [{\"marker\": {\"colorbar\": {\"outlinewidth\": 0, \"ticks\": \"\"}}, \"type\": \"scatterpolar\"}], \"scatterpolargl\": [{\"marker\": {\"colorbar\": {\"outlinewidth\": 0, \"ticks\": \"\"}}, \"type\": \"scatterpolargl\"}], \"scatterternary\": [{\"marker\": {\"colorbar\": {\"outlinewidth\": 0, \"ticks\": \"\"}}, \"type\": \"scatterternary\"}], \"surface\": [{\"colorbar\": {\"outlinewidth\": 0, \"ticks\": \"\"}, \"colorscale\": [[0.0, \"#0d0887\"], [0.1111111111111111, \"#46039f\"], [0.2222222222222222, \"#7201a8\"], [0.3333333333333333, \"#9c179e\"], [0.4444444444444444, \"#bd3786\"], [0.5555555555555556, \"#d8576b\"], [0.6666666666666666, \"#ed7953\"], [0.7777777777777778, \"#fb9f3a\"], [0.8888888888888888, \"#fdca26\"], [1.0, \"#f0f921\"]], \"type\": \"surface\"}], \"table\": [{\"cells\": {\"fill\": {\"color\": \"#EBF0F8\"}, \"line\": {\"color\": \"white\"}}, \"header\": {\"fill\": {\"color\": \"#C8D4E3\"}, \"line\": {\"color\": \"white\"}}, \"type\": \"table\"}]}, \"layout\": {\"annotationdefaults\": {\"arrowcolor\": \"#2a3f5f\", \"arrowhead\": 0, \"arrowwidth\": 1}, \"coloraxis\": {\"colorbar\": {\"outlinewidth\": 0, \"ticks\": \"\"}}, \"colorscale\": {\"diverging\": [[0, \"#8e0152\"], [0.1, \"#c51b7d\"], [0.2, \"#de77ae\"], [0.3, \"#f1b6da\"], [0.4, \"#fde0ef\"], [0.5, \"#f7f7f7\"], [0.6, \"#e6f5d0\"], [0.7, \"#b8e186\"], [0.8, \"#7fbc41\"], [0.9, \"#4d9221\"], [1, \"#276419\"]], \"sequential\": [[0.0, \"#0d0887\"], [0.1111111111111111, \"#46039f\"], [0.2222222222222222, \"#7201a8\"], [0.3333333333333333, \"#9c179e\"], [0.4444444444444444, \"#bd3786\"], [0.5555555555555556, \"#d8576b\"], [0.6666666666666666, \"#ed7953\"], [0.7777777777777778, \"#fb9f3a\"], [0.8888888888888888, \"#fdca26\"], [1.0, \"#f0f921\"]], \"sequentialminus\": [[0.0, \"#0d0887\"], [0.1111111111111111, \"#46039f\"], [0.2222222222222222, \"#7201a8\"], [0.3333333333333333, \"#9c179e\"], [0.4444444444444444, \"#bd3786\"], [0.5555555555555556, \"#d8576b\"], [0.6666666666666666, \"#ed7953\"], [0.7777777777777778, \"#fb9f3a\"], [0.8888888888888888, \"#fdca26\"], [1.0, \"#f0f921\"]]}, \"colorway\": [\"#636efa\", \"#EF553B\", \"#00cc96\", \"#ab63fa\", \"#FFA15A\", \"#19d3f3\", \"#FF6692\", \"#B6E880\", \"#FF97FF\", \"#FECB52\"], \"font\": {\"color\": \"#2a3f5f\"}, \"geo\": {\"bgcolor\": \"white\", \"lakecolor\": \"white\", \"landcolor\": \"#E5ECF6\", \"showlakes\": true, \"showland\": true, \"subunitcolor\": \"white\"}, \"hoverlabel\": {\"align\": \"left\"}, \"hovermode\": \"closest\", \"mapbox\": {\"style\": \"light\"}, \"paper_bgcolor\": \"white\", \"plot_bgcolor\": \"#E5ECF6\", \"polar\": {\"angularaxis\": {\"gridcolor\": \"white\", \"linecolor\": \"white\", \"ticks\": \"\"}, \"bgcolor\": \"#E5ECF6\", \"radialaxis\": {\"gridcolor\": \"white\", \"linecolor\": \"white\", \"ticks\": \"\"}}, \"scene\": {\"xaxis\": {\"backgroundcolor\": \"#E5ECF6\", \"gridcolor\": \"white\", \"gridwidth\": 2, \"linecolor\": \"white\", \"showbackground\": true, \"ticks\": \"\", \"zerolinecolor\": \"white\"}, \"yaxis\": {\"backgroundcolor\": \"#E5ECF6\", \"gridcolor\": \"white\", \"gridwidth\": 2, \"linecolor\": \"white\", \"showbackground\": true, \"ticks\": \"\", \"zerolinecolor\": \"white\"}, \"zaxis\": {\"backgroundcolor\": \"#E5ECF6\", \"gridcolor\": \"white\", \"gridwidth\": 2, \"linecolor\": \"white\", \"showbackground\": true, \"ticks\": \"\", \"zerolinecolor\": \"white\"}}, \"shapedefaults\": {\"line\": {\"color\": \"#2a3f5f\"}}, \"ternary\": {\"aaxis\": {\"gridcolor\": \"white\", \"linecolor\": \"white\", \"ticks\": \"\"}, \"baxis\": {\"gridcolor\": \"white\", \"linecolor\": \"white\", \"ticks\": \"\"}, \"bgcolor\": \"#E5ECF6\", \"caxis\": {\"gridcolor\": \"white\", \"linecolor\": \"white\", \"ticks\": \"\"}}, \"title\": {\"x\": 0.05}, \"xaxis\": {\"automargin\": true, \"gridcolor\": \"white\", \"linecolor\": \"white\", \"ticks\": \"\", \"title\": {\"standoff\": 15}, \"zerolinecolor\": \"white\", \"zerolinewidth\": 2}, \"yaxis\": {\"automargin\": true, \"gridcolor\": \"white\", \"linecolor\": \"white\", \"ticks\": \"\", \"title\": {\"standoff\": 15}, \"zerolinecolor\": \"white\", \"zerolinewidth\": 2}}}},                        {\"responsive\": true}                    ).then(function(){\n",
       "                            \n",
       "var gd = document.getElementById('27226a27-b53b-4f06-9c6b-fa8487f4c95f');\n",
       "var x = new MutationObserver(function (mutations, observer) {{\n",
       "        var display = window.getComputedStyle(gd).display;\n",
       "        if (!display || display === 'none') {{\n",
       "            console.log([gd, 'removed!']);\n",
       "            Plotly.purge(gd);\n",
       "            observer.disconnect();\n",
       "        }}\n",
       "}});\n",
       "\n",
       "// Listen for the removal of the full notebook cells\n",
       "var notebookContainer = gd.closest('#notebook-container');\n",
       "if (notebookContainer) {{\n",
       "    x.observe(notebookContainer, {childList: true});\n",
       "}}\n",
       "\n",
       "// Listen for the clearing of the current output cell\n",
       "var outputEl = gd.closest('.output');\n",
       "if (outputEl) {{\n",
       "    x.observe(outputEl, {childList: true});\n",
       "}}\n",
       "\n",
       "                        })                };                });            </script>        </div>"
      ]
     },
     "metadata": {},
     "output_type": "display_data"
    }
   ],
   "source": [
    "r1 = df_movies.sort_values(by='IMDb', ascending=False)\n",
    "r1 = r1[0:10]\n",
    "r1['Movies']='Movies'\n",
    "fig = px.treemap(r1, path=['Movies','Title', 'Genres','Language'], values='IMDb',color='IMDb',color_continuous_scale='Purp')\n",
    "fig.show()"
   ]
  },
  {
   "cell_type": "markdown",
   "metadata": {
    "papermill": {
     "duration": 0.065693,
     "end_time": "2020-12-18T12:14:41.431789",
     "exception": false,
     "start_time": "2020-12-18T12:14:41.366096",
     "status": "completed"
    },
    "tags": []
   },
   "source": [
    "<div class=\"alert alert-info\">  \n",
    "<h3><strong>Movies with the highest Rotten Tomatoes rating vs directors</strong></h3>\n",
    "</div>"
   ]
  },
  {
   "cell_type": "code",
   "execution_count": 35,
   "metadata": {
    "execution": {
     "iopub.execute_input": "2020-12-18T12:14:41.572738Z",
     "iopub.status.busy": "2020-12-18T12:14:41.571746Z",
     "iopub.status.idle": "2020-12-18T12:14:41.602512Z",
     "shell.execute_reply": "2020-12-18T12:14:41.601946Z"
    },
    "papermill": {
     "duration": 0.105643,
     "end_time": "2020-12-18T12:14:41.602646",
     "exception": false,
     "start_time": "2020-12-18T12:14:41.497003",
     "status": "completed"
    },
    "tags": []
   },
   "outputs": [],
   "source": [
    "df_m = df_movies.copy()\n",
    "df_m = df_m.dropna()\n",
    "\n",
    "df_m['Rotten Tomatoes']=df_m['Rotten Tomatoes'].str.replace('%','')\n",
    "df_m['Rotten Tomatoes']=df_m['Rotten Tomatoes'].astype(str).astype(int)\n",
    "df_m['Directors']=df_m['Directors'].astype('str')"
   ]
  },
  {
   "cell_type": "code",
   "execution_count": 36,
   "metadata": {
    "execution": {
     "iopub.execute_input": "2020-12-18T12:14:41.744862Z",
     "iopub.status.busy": "2020-12-18T12:14:41.744122Z",
     "iopub.status.idle": "2020-12-18T12:14:42.122968Z",
     "shell.execute_reply": "2020-12-18T12:14:42.123868Z"
    },
    "papermill": {
     "duration": 0.454188,
     "end_time": "2020-12-18T12:14:42.124119",
     "exception": false,
     "start_time": "2020-12-18T12:14:41.669931",
     "status": "completed"
    },
    "tags": []
   },
   "outputs": [
    {
     "data": {
      "image/png": "[encoded data removed]",
      "text/plain": [
       "<Figure size 504x504 with 1 Axes>"
      ]
     },
     "metadata": {
      "needs_background": "light"
     },
     "output_type": "display_data"
    }
   ],
   "source": [
    "df_m=df_m.sort_values(by='Rotten Tomatoes', ascending=False)\n",
    "rating = df_m[0:20]\n",
    "sns.catplot(x=\"Rotten Tomatoes\", y=\"Directors\",data=rating, palette=netflix_p,height=7,kind=\"point\");"
   ]
  },
  {
   "cell_type": "markdown",
   "metadata": {
    "papermill": {
     "duration": 0.077541,
     "end_time": "2020-12-18T12:14:42.280324",
     "exception": false,
     "start_time": "2020-12-18T12:14:42.202783",
     "status": "completed"
    },
    "tags": []
   },
   "source": [
    "<div class=\"alert alert-info\">  \n",
    "<h3><strong>Distribution of IMDb and Rotten Tomatoes ratings of movies on all platforms</strong></h3>\n",
    "</div>"
   ]
  },
  {
   "cell_type": "code",
   "execution_count": 37,
   "metadata": {
    "execution": {
     "iopub.execute_input": "2020-12-18T12:14:42.430515Z",
     "iopub.status.busy": "2020-12-18T12:14:42.429612Z",
     "iopub.status.idle": "2020-12-18T12:14:42.433129Z",
     "shell.execute_reply": "2020-12-18T12:14:42.432437Z"
    },
    "papermill": {
     "duration": 0.084626,
     "end_time": "2020-12-18T12:14:42.433256",
     "exception": false,
     "start_time": "2020-12-18T12:14:42.348630",
     "status": "completed"
    },
    "tags": []
   },
   "outputs": [],
   "source": [
    "def dist(i,dataframe,platform,c):\n",
    "    plt.subplot(i)\n",
    "    dataframe=dataframe.loc[dataframe[platform] == 1]\n",
    "    sns.distplot(dataframe['IMDb'], color=custom_colors[c],vertical=True)\n",
    "    \n",
    "    plt.ylabel('IMDb rating, '+platform, fontsize = 15)\n",
    "    plt.subplot(i+1)\n",
    "    sns.distplot(dataframe['Rotten Tomatoes'], color=custom_colors[c],vertical=True)\n",
    "    plt.ylabel('Rotten Tomatoes, '+platform, fontsize = 15)"
   ]
  },
  {
   "cell_type": "code",
   "execution_count": 38,
   "metadata": {
    "execution": {
     "iopub.execute_input": "2020-12-18T12:14:42.573779Z",
     "iopub.status.busy": "2020-12-18T12:14:42.572753Z",
     "iopub.status.idle": "2020-12-18T12:14:44.141112Z",
     "shell.execute_reply": "2020-12-18T12:14:44.141638Z"
    },
    "papermill": {
     "duration": 1.640203,
     "end_time": "2020-12-18T12:14:44.141829",
     "exception": false,
     "start_time": "2020-12-18T12:14:42.501626",
     "status": "completed"
    },
    "tags": []
   },
   "outputs": [
    {
     "data": {
      "image/png": "[encoded data removed]",
      "text/plain": [
       "<Figure size 1440x1440 with 8 Axes>"
      ]
     },
     "metadata": {
      "needs_background": "light"
     },
     "output_type": "display_data"
    }
   ],
   "source": [
    "plt.figure(figsize = (20, 20))\n",
    "\n",
    "dist(421,df_m,'Netflix',0)\n",
    "dist(423,df_m,'Hulu',1)\n",
    "dist(425,df_m,'Prime Video',2)\n",
    "dist(427,df_m,'Disney+',3)"
   ]
  },
  {
   "cell_type": "markdown",
   "metadata": {
    "papermill": {
     "duration": 0.070733,
     "end_time": "2020-12-18T12:14:44.285942",
     "exception": false,
     "start_time": "2020-12-18T12:14:44.215209",
     "status": "completed"
    },
    "tags": []
   },
   "source": [
    "<div class=\"alert alert-info\">  \n",
    "<h3><strong>Languages and genres of movies on all platforms</strong></h3>\n",
    "</div>"
   ]
  },
  {
   "cell_type": "code",
   "execution_count": 39,
   "metadata": {
    "execution": {
     "iopub.execute_input": "2020-12-18T12:14:44.442090Z",
     "iopub.status.busy": "2020-12-18T12:14:44.441308Z",
     "iopub.status.idle": "2020-12-18T12:14:44.467961Z",
     "shell.execute_reply": "2020-12-18T12:14:44.467248Z"
    },
    "papermill": {
     "duration": 0.110729,
     "end_time": "2020-12-18T12:14:44.468138",
     "exception": false,
     "start_time": "2020-12-18T12:14:44.357409",
     "status": "completed"
    },
    "tags": []
   },
   "outputs": [],
   "source": [
    "df_l_merged = pd.concat([df_movies, m_lang], axis = 1, sort = False)\n",
    "df_g_merged = pd.concat([df_movies, m_genres], axis = 1, sort = False)"
   ]
  },
  {
   "cell_type": "code",
   "execution_count": 40,
   "metadata": {
    "_kg_hide-input": true,
    "execution": {
     "iopub.execute_input": "2020-12-18T12:14:44.626375Z",
     "iopub.status.busy": "2020-12-18T12:14:44.625622Z",
     "iopub.status.idle": "2020-12-18T12:14:44.629716Z",
     "shell.execute_reply": "2020-12-18T12:14:44.629000Z"
    },
    "papermill": {
     "duration": 0.086933,
     "end_time": "2020-12-18T12:14:44.629854",
     "exception": false,
     "start_time": "2020-12-18T12:14:44.542921",
     "status": "completed"
    },
    "tags": []
   },
   "outputs": [],
   "source": [
    "def bar(dataframe,platform,c):\n",
    "    dataframe=dataframe.loc[dataframe[platform] == 1]\n",
    "    val_counts = dataframe.iloc[:,15:].sum(axis=0).sort_values(ascending=False)\n",
    "    val_counts2 = pd.DataFrame(val_counts,columns=['Number of movies'])\n",
    "    return val_counts2[0:20].style.bar(subset=[\"Number of movies\",], color=c)"
   ]
  },
  {
   "cell_type": "markdown",
   "metadata": {
    "papermill": {
     "duration": 0.075691,
     "end_time": "2020-12-18T12:14:44.779492",
     "exception": false,
     "start_time": "2020-12-18T12:14:44.703801",
     "status": "completed"
    },
    "tags": []
   },
   "source": [
    "<div>\n",
    "<img src=\"https://download.logo.wine/logo/Netflix/Netflix-Logo.wine.png\" width=\"350\"/>\n",
    "</div>"
   ]
  },
  {
   "cell_type": "code",
   "execution_count": 41,
   "metadata": {
    "_kg_hide-input": true,
    "execution": {
     "iopub.execute_input": "2020-12-18T12:14:44.935802Z",
     "iopub.status.busy": "2020-12-18T12:14:44.935036Z",
     "iopub.status.idle": "2020-12-18T12:14:45.002150Z",
     "shell.execute_reply": "2020-12-18T12:14:45.002708Z"
    },
    "papermill": {
     "duration": 0.149137,
     "end_time": "2020-12-18T12:14:45.002889",
     "exception": false,
     "start_time": "2020-12-18T12:14:44.853752",
     "status": "completed"
    },
    "tags": []
   },
   "outputs": [
    {
     "data": {
      "text/html": [
       "<style  type=\"text/css\" >\n",
       "#T_9d639c64_412a_11eb_8f60_0242ac130202row0_col0{\n",
       "            width:  10em;\n",
       "             height:  80%;\n",
       "            background:  linear-gradient(90deg,#ff6b6b 100.0%, transparent 100.0%);\n",
       "        }#T_9d639c64_412a_11eb_8f60_0242ac130202row1_col0{\n",
       "            width:  10em;\n",
       "             height:  80%;\n",
       "            background:  linear-gradient(90deg,#ff6b6b 15.3%, transparent 15.3%);\n",
       "        }#T_9d639c64_412a_11eb_8f60_0242ac130202row2_col0{\n",
       "            width:  10em;\n",
       "             height:  80%;\n",
       "            background:  linear-gradient(90deg,#ff6b6b 13.3%, transparent 13.3%);\n",
       "        }#T_9d639c64_412a_11eb_8f60_0242ac130202row3_col0{\n",
       "            width:  10em;\n",
       "             height:  80%;\n",
       "            background:  linear-gradient(90deg,#ff6b6b 7.9%, transparent 7.9%);\n",
       "        }#T_9d639c64_412a_11eb_8f60_0242ac130202row4_col0{\n",
       "            width:  10em;\n",
       "             height:  80%;\n",
       "            background:  linear-gradient(90deg,#ff6b6b 3.1%, transparent 3.1%);\n",
       "        }#T_9d639c64_412a_11eb_8f60_0242ac130202row5_col0{\n",
       "            width:  10em;\n",
       "             height:  80%;\n",
       "            background:  linear-gradient(90deg,#ff6b6b 2.5%, transparent 2.5%);\n",
       "        }#T_9d639c64_412a_11eb_8f60_0242ac130202row6_col0{\n",
       "            width:  10em;\n",
       "             height:  80%;\n",
       "            background:  linear-gradient(90deg,#ff6b6b 2.4%, transparent 2.4%);\n",
       "        }#T_9d639c64_412a_11eb_8f60_0242ac130202row7_col0{\n",
       "            width:  10em;\n",
       "             height:  80%;\n",
       "            background:  linear-gradient(90deg,#ff6b6b 2.1%, transparent 2.1%);\n",
       "        }#T_9d639c64_412a_11eb_8f60_0242ac130202row8_col0{\n",
       "            width:  10em;\n",
       "             height:  80%;\n",
       "            background:  linear-gradient(90deg,#ff6b6b 1.4%, transparent 1.4%);\n",
       "        }#T_9d639c64_412a_11eb_8f60_0242ac130202row9_col0{\n",
       "            width:  10em;\n",
       "             height:  80%;\n",
       "            background:  linear-gradient(90deg,#ff6b6b 1.0%, transparent 1.0%);\n",
       "        }#T_9d639c64_412a_11eb_8f60_0242ac130202row10_col0{\n",
       "            width:  10em;\n",
       "             height:  80%;\n",
       "            background:  linear-gradient(90deg,#ff6b6b 0.9%, transparent 0.9%);\n",
       "        }#T_9d639c64_412a_11eb_8f60_0242ac130202row11_col0{\n",
       "            width:  10em;\n",
       "             height:  80%;\n",
       "            background:  linear-gradient(90deg,#ff6b6b 0.8%, transparent 0.8%);\n",
       "        }#T_9d639c64_412a_11eb_8f60_0242ac130202row12_col0{\n",
       "            width:  10em;\n",
       "             height:  80%;\n",
       "            background:  linear-gradient(90deg,#ff6b6b 0.7%, transparent 0.7%);\n",
       "        }#T_9d639c64_412a_11eb_8f60_0242ac130202row13_col0{\n",
       "            width:  10em;\n",
       "             height:  80%;\n",
       "            background:  linear-gradient(90deg,#ff6b6b 0.5%, transparent 0.5%);\n",
       "        }#T_9d639c64_412a_11eb_8f60_0242ac130202row14_col0{\n",
       "            width:  10em;\n",
       "             height:  80%;\n",
       "            background:  linear-gradient(90deg,#ff6b6b 0.4%, transparent 0.4%);\n",
       "        }#T_9d639c64_412a_11eb_8f60_0242ac130202row15_col0,#T_9d639c64_412a_11eb_8f60_0242ac130202row16_col0{\n",
       "            width:  10em;\n",
       "             height:  80%;\n",
       "            background:  linear-gradient(90deg,#ff6b6b 0.3%, transparent 0.3%);\n",
       "        }#T_9d639c64_412a_11eb_8f60_0242ac130202row17_col0{\n",
       "            width:  10em;\n",
       "             height:  80%;\n",
       "            background:  linear-gradient(90deg,#ff6b6b 0.2%, transparent 0.2%);\n",
       "        }#T_9d639c64_412a_11eb_8f60_0242ac130202row18_col0{\n",
       "            width:  10em;\n",
       "             height:  80%;\n",
       "            background:  linear-gradient(90deg,#ff6b6b 0.1%, transparent 0.1%);\n",
       "        }#T_9d639c64_412a_11eb_8f60_0242ac130202row19_col0{\n",
       "            width:  10em;\n",
       "             height:  80%;\n",
       "        }</style><table id=\"T_9d639c64_412a_11eb_8f60_0242ac130202\" ><thead>    <tr>        <th class=\"blank level0\" ></th>        <th class=\"col_heading level0 col0\" >Number of movies</th>    </tr></thead><tbody>\n",
       "                <tr>\n",
       "                        <th id=\"T_9d639c64_412a_11eb_8f60_0242ac130202level0_row0\" class=\"row_heading level0 row0\" >English</th>\n",
       "                        <td id=\"T_9d639c64_412a_11eb_8f60_0242ac130202row0_col0\" class=\"data row0 col0\" >2264</td>\n",
       "            </tr>\n",
       "            <tr>\n",
       "                        <th id=\"T_9d639c64_412a_11eb_8f60_0242ac130202level0_row1\" class=\"row_heading level0 row1\" >Hindi</th>\n",
       "                        <td id=\"T_9d639c64_412a_11eb_8f60_0242ac130202row1_col0\" class=\"data row1 col0\" >377</td>\n",
       "            </tr>\n",
       "            <tr>\n",
       "                        <th id=\"T_9d639c64_412a_11eb_8f60_0242ac130202level0_row2\" class=\"row_heading level0 row2\" >Spanish</th>\n",
       "                        <td id=\"T_9d639c64_412a_11eb_8f60_0242ac130202row2_col0\" class=\"data row2 col0\" >332</td>\n",
       "            </tr>\n",
       "            <tr>\n",
       "                        <th id=\"T_9d639c64_412a_11eb_8f60_0242ac130202level0_row3\" class=\"row_heading level0 row3\" >French</th>\n",
       "                        <td id=\"T_9d639c64_412a_11eb_8f60_0242ac130202row3_col0\" class=\"data row3 col0\" >212</td>\n",
       "            </tr>\n",
       "            <tr>\n",
       "                        <th id=\"T_9d639c64_412a_11eb_8f60_0242ac130202level0_row4\" class=\"row_heading level0 row4\" >German</th>\n",
       "                        <td id=\"T_9d639c64_412a_11eb_8f60_0242ac130202row4_col0\" class=\"data row4 col0\" >106</td>\n",
       "            </tr>\n",
       "            <tr>\n",
       "                        <th id=\"T_9d639c64_412a_11eb_8f60_0242ac130202level0_row5\" class=\"row_heading level0 row5\" >Japanese</th>\n",
       "                        <td id=\"T_9d639c64_412a_11eb_8f60_0242ac130202row5_col0\" class=\"data row5 col0\" >91</td>\n",
       "            </tr>\n",
       "            <tr>\n",
       "                        <th id=\"T_9d639c64_412a_11eb_8f60_0242ac130202level0_row6\" class=\"row_heading level0 row6\" >Arabic</th>\n",
       "                        <td id=\"T_9d639c64_412a_11eb_8f60_0242ac130202row6_col0\" class=\"data row6 col0\" >89</td>\n",
       "            </tr>\n",
       "            <tr>\n",
       "                        <th id=\"T_9d639c64_412a_11eb_8f60_0242ac130202level0_row7\" class=\"row_heading level0 row7\" >Mandarin</th>\n",
       "                        <td id=\"T_9d639c64_412a_11eb_8f60_0242ac130202row7_col0\" class=\"data row7 col0\" >83</td>\n",
       "            </tr>\n",
       "            <tr>\n",
       "                        <th id=\"T_9d639c64_412a_11eb_8f60_0242ac130202level0_row8\" class=\"row_heading level0 row8\" >Italian</th>\n",
       "                        <td id=\"T_9d639c64_412a_11eb_8f60_0242ac130202row8_col0\" class=\"data row8 col0\" >67</td>\n",
       "            </tr>\n",
       "            <tr>\n",
       "                        <th id=\"T_9d639c64_412a_11eb_8f60_0242ac130202level0_row9\" class=\"row_heading level0 row9\" >Turkish</th>\n",
       "                        <td id=\"T_9d639c64_412a_11eb_8f60_0242ac130202row9_col0\" class=\"data row9 col0\" >58</td>\n",
       "            </tr>\n",
       "            <tr>\n",
       "                        <th id=\"T_9d639c64_412a_11eb_8f60_0242ac130202level0_row10\" class=\"row_heading level0 row10\" >Cantonese</th>\n",
       "                        <td id=\"T_9d639c64_412a_11eb_8f60_0242ac130202row10_col0\" class=\"data row10 col0\" >56</td>\n",
       "            </tr>\n",
       "            <tr>\n",
       "                        <th id=\"T_9d639c64_412a_11eb_8f60_0242ac130202level0_row11\" class=\"row_heading level0 row11\" >Russian</th>\n",
       "                        <td id=\"T_9d639c64_412a_11eb_8f60_0242ac130202row11_col0\" class=\"data row11 col0\" >54</td>\n",
       "            </tr>\n",
       "            <tr>\n",
       "                        <th id=\"T_9d639c64_412a_11eb_8f60_0242ac130202level0_row12\" class=\"row_heading level0 row12\" >Tamil</th>\n",
       "                        <td id=\"T_9d639c64_412a_11eb_8f60_0242ac130202row12_col0\" class=\"data row12 col0\" >52</td>\n",
       "            </tr>\n",
       "            <tr>\n",
       "                        <th id=\"T_9d639c64_412a_11eb_8f60_0242ac130202level0_row13\" class=\"row_heading level0 row13\" >Punjabi</th>\n",
       "                        <td id=\"T_9d639c64_412a_11eb_8f60_0242ac130202row13_col0\" class=\"data row13 col0\" >47</td>\n",
       "            </tr>\n",
       "            <tr>\n",
       "                        <th id=\"T_9d639c64_412a_11eb_8f60_0242ac130202level0_row14\" class=\"row_heading level0 row14\" >Portuguese</th>\n",
       "                        <td id=\"T_9d639c64_412a_11eb_8f60_0242ac130202row14_col0\" class=\"data row14 col0\" >45</td>\n",
       "            </tr>\n",
       "            <tr>\n",
       "                        <th id=\"T_9d639c64_412a_11eb_8f60_0242ac130202level0_row15\" class=\"row_heading level0 row15\" >Indonesian</th>\n",
       "                        <td id=\"T_9d639c64_412a_11eb_8f60_0242ac130202row15_col0\" class=\"data row15 col0\" >43</td>\n",
       "            </tr>\n",
       "            <tr>\n",
       "                        <th id=\"T_9d639c64_412a_11eb_8f60_0242ac130202level0_row16\" class=\"row_heading level0 row16\" >Malayalam</th>\n",
       "                        <td id=\"T_9d639c64_412a_11eb_8f60_0242ac130202row16_col0\" class=\"data row16 col0\" >42</td>\n",
       "            </tr>\n",
       "            <tr>\n",
       "                        <th id=\"T_9d639c64_412a_11eb_8f60_0242ac130202level0_row17\" class=\"row_heading level0 row17\" >Filipino</th>\n",
       "                        <td id=\"T_9d639c64_412a_11eb_8f60_0242ac130202row17_col0\" class=\"data row17 col0\" >40</td>\n",
       "            </tr>\n",
       "            <tr>\n",
       "                        <th id=\"T_9d639c64_412a_11eb_8f60_0242ac130202level0_row18\" class=\"row_heading level0 row18\" >Korean</th>\n",
       "                        <td id=\"T_9d639c64_412a_11eb_8f60_0242ac130202row18_col0\" class=\"data row18 col0\" >39</td>\n",
       "            </tr>\n",
       "            <tr>\n",
       "                        <th id=\"T_9d639c64_412a_11eb_8f60_0242ac130202level0_row19\" class=\"row_heading level0 row19\" >Urdu</th>\n",
       "                        <td id=\"T_9d639c64_412a_11eb_8f60_0242ac130202row19_col0\" class=\"data row19 col0\" >36</td>\n",
       "            </tr>\n",
       "    </tbody></table>"
      ],
      "text/plain": [
       "<pandas.io.formats.style.Styler at 0x7fc604f4bb10>"
      ]
     },
     "execution_count": 41,
     "metadata": {},
     "output_type": "execute_result"
    }
   ],
   "source": [
    "bar(df_l_merged,'Netflix','#ff6b6b')"
   ]
  },
  {
   "cell_type": "code",
   "execution_count": 42,
   "metadata": {
    "_kg_hide-input": true,
    "execution": {
     "iopub.execute_input": "2020-12-18T12:14:45.162225Z",
     "iopub.status.busy": "2020-12-18T12:14:45.161531Z",
     "iopub.status.idle": "2020-12-18T12:14:45.182677Z",
     "shell.execute_reply": "2020-12-18T12:14:45.183220Z"
    },
    "papermill": {
     "duration": 0.104978,
     "end_time": "2020-12-18T12:14:45.183418",
     "exception": false,
     "start_time": "2020-12-18T12:14:45.078440",
     "status": "completed"
    },
    "tags": []
   },
   "outputs": [
    {
     "data": {
      "text/html": [
       "<style  type=\"text/css\" >\n",
       "#T_9d7f3f5a_412a_11eb_8f60_0242ac130202row0_col0{\n",
       "            width:  10em;\n",
       "             height:  80%;\n",
       "            background:  linear-gradient(90deg,#ff6b6b 100.0%, transparent 100.0%);\n",
       "        }#T_9d7f3f5a_412a_11eb_8f60_0242ac130202row1_col0{\n",
       "            width:  10em;\n",
       "             height:  80%;\n",
       "            background:  linear-gradient(90deg,#ff6b6b 86.4%, transparent 86.4%);\n",
       "        }#T_9d7f3f5a_412a_11eb_8f60_0242ac130202row2_col0{\n",
       "            width:  10em;\n",
       "             height:  80%;\n",
       "            background:  linear-gradient(90deg,#ff6b6b 40.0%, transparent 40.0%);\n",
       "        }#T_9d7f3f5a_412a_11eb_8f60_0242ac130202row3_col0{\n",
       "            width:  10em;\n",
       "             height:  80%;\n",
       "            background:  linear-gradient(90deg,#ff6b6b 32.8%, transparent 32.8%);\n",
       "        }#T_9d7f3f5a_412a_11eb_8f60_0242ac130202row4_col0{\n",
       "            width:  10em;\n",
       "             height:  80%;\n",
       "            background:  linear-gradient(90deg,#ff6b6b 32.4%, transparent 32.4%);\n",
       "        }#T_9d7f3f5a_412a_11eb_8f60_0242ac130202row5_col0{\n",
       "            width:  10em;\n",
       "             height:  80%;\n",
       "            background:  linear-gradient(90deg,#ff6b6b 30.0%, transparent 30.0%);\n",
       "        }#T_9d7f3f5a_412a_11eb_8f60_0242ac130202row6_col0{\n",
       "            width:  10em;\n",
       "             height:  80%;\n",
       "            background:  linear-gradient(90deg,#ff6b6b 20.2%, transparent 20.2%);\n",
       "        }#T_9d7f3f5a_412a_11eb_8f60_0242ac130202row7_col0{\n",
       "            width:  10em;\n",
       "             height:  80%;\n",
       "            background:  linear-gradient(90deg,#ff6b6b 16.3%, transparent 16.3%);\n",
       "        }#T_9d7f3f5a_412a_11eb_8f60_0242ac130202row8_col0{\n",
       "            width:  10em;\n",
       "             height:  80%;\n",
       "            background:  linear-gradient(90deg,#ff6b6b 16.1%, transparent 16.1%);\n",
       "        }#T_9d7f3f5a_412a_11eb_8f60_0242ac130202row9_col0{\n",
       "            width:  10em;\n",
       "             height:  80%;\n",
       "            background:  linear-gradient(90deg,#ff6b6b 12.7%, transparent 12.7%);\n",
       "        }#T_9d7f3f5a_412a_11eb_8f60_0242ac130202row10_col0{\n",
       "            width:  10em;\n",
       "             height:  80%;\n",
       "            background:  linear-gradient(90deg,#ff6b6b 12.1%, transparent 12.1%);\n",
       "        }#T_9d7f3f5a_412a_11eb_8f60_0242ac130202row11_col0{\n",
       "            width:  10em;\n",
       "             height:  80%;\n",
       "            background:  linear-gradient(90deg,#ff6b6b 11.7%, transparent 11.7%);\n",
       "        }#T_9d7f3f5a_412a_11eb_8f60_0242ac130202row12_col0{\n",
       "            width:  10em;\n",
       "             height:  80%;\n",
       "            background:  linear-gradient(90deg,#ff6b6b 9.5%, transparent 9.5%);\n",
       "        }#T_9d7f3f5a_412a_11eb_8f60_0242ac130202row13_col0{\n",
       "            width:  10em;\n",
       "             height:  80%;\n",
       "            background:  linear-gradient(90deg,#ff6b6b 7.9%, transparent 7.9%);\n",
       "        }#T_9d7f3f5a_412a_11eb_8f60_0242ac130202row14_col0{\n",
       "            width:  10em;\n",
       "             height:  80%;\n",
       "            background:  linear-gradient(90deg,#ff6b6b 7.6%, transparent 7.6%);\n",
       "        }#T_9d7f3f5a_412a_11eb_8f60_0242ac130202row15_col0,#T_9d7f3f5a_412a_11eb_8f60_0242ac130202row16_col0{\n",
       "            width:  10em;\n",
       "             height:  80%;\n",
       "            background:  linear-gradient(90deg,#ff6b6b 3.2%, transparent 3.2%);\n",
       "        }#T_9d7f3f5a_412a_11eb_8f60_0242ac130202row17_col0{\n",
       "            width:  10em;\n",
       "             height:  80%;\n",
       "            background:  linear-gradient(90deg,#ff6b6b 1.6%, transparent 1.6%);\n",
       "        }#T_9d7f3f5a_412a_11eb_8f60_0242ac130202row18_col0{\n",
       "            width:  10em;\n",
       "             height:  80%;\n",
       "            background:  linear-gradient(90deg,#ff6b6b 0.8%, transparent 0.8%);\n",
       "        }#T_9d7f3f5a_412a_11eb_8f60_0242ac130202row19_col0{\n",
       "            width:  10em;\n",
       "             height:  80%;\n",
       "        }</style><table id=\"T_9d7f3f5a_412a_11eb_8f60_0242ac130202\" ><thead>    <tr>        <th class=\"blank level0\" ></th>        <th class=\"col_heading level0 col0\" >Number of movies</th>    </tr></thead><tbody>\n",
       "                <tr>\n",
       "                        <th id=\"T_9d7f3f5a_412a_11eb_8f60_0242ac130202level0_row0\" class=\"row_heading level0 row0\" >Drama</th>\n",
       "                        <td id=\"T_9d7f3f5a_412a_11eb_8f60_0242ac130202row0_col0\" class=\"data row0 col0\" >1501</td>\n",
       "            </tr>\n",
       "            <tr>\n",
       "                        <th id=\"T_9d7f3f5a_412a_11eb_8f60_0242ac130202level0_row1\" class=\"row_heading level0 row1\" >Comedy</th>\n",
       "                        <td id=\"T_9d7f3f5a_412a_11eb_8f60_0242ac130202row1_col0\" class=\"data row1 col0\" >1308</td>\n",
       "            </tr>\n",
       "            <tr>\n",
       "                        <th id=\"T_9d7f3f5a_412a_11eb_8f60_0242ac130202level0_row2\" class=\"row_heading level0 row2\" >Thriller</th>\n",
       "                        <td id=\"T_9d7f3f5a_412a_11eb_8f60_0242ac130202row2_col0\" class=\"data row2 col0\" >652</td>\n",
       "            </tr>\n",
       "            <tr>\n",
       "                        <th id=\"T_9d7f3f5a_412a_11eb_8f60_0242ac130202level0_row3\" class=\"row_heading level0 row3\" >Romance</th>\n",
       "                        <td id=\"T_9d7f3f5a_412a_11eb_8f60_0242ac130202row3_col0\" class=\"data row3 col0\" >551</td>\n",
       "            </tr>\n",
       "            <tr>\n",
       "                        <th id=\"T_9d7f3f5a_412a_11eb_8f60_0242ac130202level0_row4\" class=\"row_heading level0 row4\" >Action</th>\n",
       "                        <td id=\"T_9d7f3f5a_412a_11eb_8f60_0242ac130202row4_col0\" class=\"data row4 col0\" >545</td>\n",
       "            </tr>\n",
       "            <tr>\n",
       "                        <th id=\"T_9d7f3f5a_412a_11eb_8f60_0242ac130202level0_row5\" class=\"row_heading level0 row5\" >Documentary</th>\n",
       "                        <td id=\"T_9d7f3f5a_412a_11eb_8f60_0242ac130202row5_col0\" class=\"data row5 col0\" >511</td>\n",
       "            </tr>\n",
       "            <tr>\n",
       "                        <th id=\"T_9d7f3f5a_412a_11eb_8f60_0242ac130202level0_row6\" class=\"row_heading level0 row6\" >Crime</th>\n",
       "                        <td id=\"T_9d7f3f5a_412a_11eb_8f60_0242ac130202row6_col0\" class=\"data row6 col0\" >372</td>\n",
       "            </tr>\n",
       "            <tr>\n",
       "                        <th id=\"T_9d7f3f5a_412a_11eb_8f60_0242ac130202level0_row7\" class=\"row_heading level0 row7\" >Adventure</th>\n",
       "                        <td id=\"T_9d7f3f5a_412a_11eb_8f60_0242ac130202row7_col0\" class=\"data row7 col0\" >318</td>\n",
       "            </tr>\n",
       "            <tr>\n",
       "                        <th id=\"T_9d7f3f5a_412a_11eb_8f60_0242ac130202level0_row8\" class=\"row_heading level0 row8\" >Family</th>\n",
       "                        <td id=\"T_9d7f3f5a_412a_11eb_8f60_0242ac130202row8_col0\" class=\"data row8 col0\" >315</td>\n",
       "            </tr>\n",
       "            <tr>\n",
       "                        <th id=\"T_9d7f3f5a_412a_11eb_8f60_0242ac130202level0_row9\" class=\"row_heading level0 row9\" >Horror</th>\n",
       "                        <td id=\"T_9d7f3f5a_412a_11eb_8f60_0242ac130202row9_col0\" class=\"data row9 col0\" >266</td>\n",
       "            </tr>\n",
       "            <tr>\n",
       "                        <th id=\"T_9d7f3f5a_412a_11eb_8f60_0242ac130202level0_row10\" class=\"row_heading level0 row10\" >Fantasy</th>\n",
       "                        <td id=\"T_9d7f3f5a_412a_11eb_8f60_0242ac130202row10_col0\" class=\"data row10 col0\" >258</td>\n",
       "            </tr>\n",
       "            <tr>\n",
       "                        <th id=\"T_9d7f3f5a_412a_11eb_8f60_0242ac130202level0_row11\" class=\"row_heading level0 row11\" >Mystery</th>\n",
       "                        <td id=\"T_9d7f3f5a_412a_11eb_8f60_0242ac130202row11_col0\" class=\"data row11 col0\" >252</td>\n",
       "            </tr>\n",
       "            <tr>\n",
       "                        <th id=\"T_9d7f3f5a_412a_11eb_8f60_0242ac130202level0_row12\" class=\"row_heading level0 row12\" >Animation</th>\n",
       "                        <td id=\"T_9d7f3f5a_412a_11eb_8f60_0242ac130202row12_col0\" class=\"data row12 col0\" >222</td>\n",
       "            </tr>\n",
       "            <tr>\n",
       "                        <th id=\"T_9d7f3f5a_412a_11eb_8f60_0242ac130202level0_row13\" class=\"row_heading level0 row13\" >Biography</th>\n",
       "                        <td id=\"T_9d7f3f5a_412a_11eb_8f60_0242ac130202row13_col0\" class=\"data row13 col0\" >199</td>\n",
       "            </tr>\n",
       "            <tr>\n",
       "                        <th id=\"T_9d7f3f5a_412a_11eb_8f60_0242ac130202level0_row14\" class=\"row_heading level0 row14\" >Sci-Fi</th>\n",
       "                        <td id=\"T_9d7f3f5a_412a_11eb_8f60_0242ac130202row14_col0\" class=\"data row14 col0\" >194</td>\n",
       "            </tr>\n",
       "            <tr>\n",
       "                        <th id=\"T_9d7f3f5a_412a_11eb_8f60_0242ac130202level0_row15\" class=\"row_heading level0 row15\" >Music</th>\n",
       "                        <td id=\"T_9d7f3f5a_412a_11eb_8f60_0242ac130202row15_col0\" class=\"data row15 col0\" >132</td>\n",
       "            </tr>\n",
       "            <tr>\n",
       "                        <th id=\"T_9d7f3f5a_412a_11eb_8f60_0242ac130202level0_row16\" class=\"row_heading level0 row16\" >History</th>\n",
       "                        <td id=\"T_9d7f3f5a_412a_11eb_8f60_0242ac130202row16_col0\" class=\"data row16 col0\" >132</td>\n",
       "            </tr>\n",
       "            <tr>\n",
       "                        <th id=\"T_9d7f3f5a_412a_11eb_8f60_0242ac130202level0_row17\" class=\"row_heading level0 row17\" >Sport</th>\n",
       "                        <td id=\"T_9d7f3f5a_412a_11eb_8f60_0242ac130202row17_col0\" class=\"data row17 col0\" >110</td>\n",
       "            </tr>\n",
       "            <tr>\n",
       "                        <th id=\"T_9d7f3f5a_412a_11eb_8f60_0242ac130202level0_row18\" class=\"row_heading level0 row18\" >Short</th>\n",
       "                        <td id=\"T_9d7f3f5a_412a_11eb_8f60_0242ac130202row18_col0\" class=\"data row18 col0\" >99</td>\n",
       "            </tr>\n",
       "            <tr>\n",
       "                        <th id=\"T_9d7f3f5a_412a_11eb_8f60_0242ac130202level0_row19\" class=\"row_heading level0 row19\" >War</th>\n",
       "                        <td id=\"T_9d7f3f5a_412a_11eb_8f60_0242ac130202row19_col0\" class=\"data row19 col0\" >87</td>\n",
       "            </tr>\n",
       "    </tbody></table>"
      ],
      "text/plain": [
       "<pandas.io.formats.style.Styler at 0x7fc604f5ef10>"
      ]
     },
     "execution_count": 42,
     "metadata": {},
     "output_type": "execute_result"
    }
   ],
   "source": [
    "bar(df_g_merged,'Netflix','#ff6b6b')"
   ]
  },
  {
   "cell_type": "markdown",
   "metadata": {
    "papermill": {
     "duration": 0.075979,
     "end_time": "2020-12-18T12:14:45.336272",
     "exception": false,
     "start_time": "2020-12-18T12:14:45.260293",
     "status": "completed"
    },
    "tags": []
   },
   "source": [
    "<div>\n",
    "<img src=\" https://s3.amazonaws.com/inside-the-brand-stage/wp-content/uploads/2019/01/HULU-1000x331.png\" width=\"300\"/>\n",
    "</div>"
   ]
  },
  {
   "cell_type": "code",
   "execution_count": 43,
   "metadata": {
    "_kg_hide-input": true,
    "execution": {
     "iopub.execute_input": "2020-12-18T12:14:45.490942Z",
     "iopub.status.busy": "2020-12-18T12:14:45.490316Z",
     "iopub.status.idle": "2020-12-18T12:14:45.511040Z",
     "shell.execute_reply": "2020-12-18T12:14:45.510481Z"
    },
    "papermill": {
     "duration": 0.098327,
     "end_time": "2020-12-18T12:14:45.511180",
     "exception": false,
     "start_time": "2020-12-18T12:14:45.412853",
     "status": "completed"
    },
    "tags": []
   },
   "outputs": [
    {
     "data": {
      "text/html": [
       "<style  type=\"text/css\" >\n",
       "#T_9db14004_412a_11eb_8f60_0242ac130202row0_col0{\n",
       "            width:  10em;\n",
       "             height:  80%;\n",
       "            background:  linear-gradient(90deg,#95d5b2 100.0%, transparent 100.0%);\n",
       "        }#T_9db14004_412a_11eb_8f60_0242ac130202row1_col0{\n",
       "            width:  10em;\n",
       "             height:  80%;\n",
       "            background:  linear-gradient(90deg,#95d5b2 8.5%, transparent 8.5%);\n",
       "        }#T_9db14004_412a_11eb_8f60_0242ac130202row2_col0{\n",
       "            width:  10em;\n",
       "             height:  80%;\n",
       "            background:  linear-gradient(90deg,#95d5b2 7.6%, transparent 7.6%);\n",
       "        }#T_9db14004_412a_11eb_8f60_0242ac130202row3_col0{\n",
       "            width:  10em;\n",
       "             height:  80%;\n",
       "            background:  linear-gradient(90deg,#95d5b2 4.6%, transparent 4.6%);\n",
       "        }#T_9db14004_412a_11eb_8f60_0242ac130202row4_col0{\n",
       "            width:  10em;\n",
       "             height:  80%;\n",
       "            background:  linear-gradient(90deg,#95d5b2 3.8%, transparent 3.8%);\n",
       "        }#T_9db14004_412a_11eb_8f60_0242ac130202row5_col0{\n",
       "            width:  10em;\n",
       "             height:  80%;\n",
       "            background:  linear-gradient(90deg,#95d5b2 2.3%, transparent 2.3%);\n",
       "        }#T_9db14004_412a_11eb_8f60_0242ac130202row6_col0{\n",
       "            width:  10em;\n",
       "             height:  80%;\n",
       "            background:  linear-gradient(90deg,#95d5b2 1.7%, transparent 1.7%);\n",
       "        }#T_9db14004_412a_11eb_8f60_0242ac130202row7_col0{\n",
       "            width:  10em;\n",
       "             height:  80%;\n",
       "            background:  linear-gradient(90deg,#95d5b2 1.6%, transparent 1.6%);\n",
       "        }#T_9db14004_412a_11eb_8f60_0242ac130202row8_col0{\n",
       "            width:  10em;\n",
       "             height:  80%;\n",
       "            background:  linear-gradient(90deg,#95d5b2 1.5%, transparent 1.5%);\n",
       "        }#T_9db14004_412a_11eb_8f60_0242ac130202row9_col0{\n",
       "            width:  10em;\n",
       "             height:  80%;\n",
       "            background:  linear-gradient(90deg,#95d5b2 1.1%, transparent 1.1%);\n",
       "        }#T_9db14004_412a_11eb_8f60_0242ac130202row10_col0{\n",
       "            width:  10em;\n",
       "             height:  80%;\n",
       "            background:  linear-gradient(90deg,#95d5b2 1.0%, transparent 1.0%);\n",
       "        }#T_9db14004_412a_11eb_8f60_0242ac130202row11_col0{\n",
       "            width:  10em;\n",
       "             height:  80%;\n",
       "            background:  linear-gradient(90deg,#95d5b2 0.9%, transparent 0.9%);\n",
       "        }#T_9db14004_412a_11eb_8f60_0242ac130202row12_col0{\n",
       "            width:  10em;\n",
       "             height:  80%;\n",
       "            background:  linear-gradient(90deg,#95d5b2 0.7%, transparent 0.7%);\n",
       "        }#T_9db14004_412a_11eb_8f60_0242ac130202row13_col0{\n",
       "            width:  10em;\n",
       "             height:  80%;\n",
       "            background:  linear-gradient(90deg,#95d5b2 0.5%, transparent 0.5%);\n",
       "        }#T_9db14004_412a_11eb_8f60_0242ac130202row14_col0{\n",
       "            width:  10em;\n",
       "             height:  80%;\n",
       "            background:  linear-gradient(90deg,#95d5b2 0.2%, transparent 0.2%);\n",
       "        }#T_9db14004_412a_11eb_8f60_0242ac130202row15_col0,#T_9db14004_412a_11eb_8f60_0242ac130202row16_col0,#T_9db14004_412a_11eb_8f60_0242ac130202row17_col0,#T_9db14004_412a_11eb_8f60_0242ac130202row18_col0{\n",
       "            width:  10em;\n",
       "             height:  80%;\n",
       "            background:  linear-gradient(90deg,#95d5b2 0.1%, transparent 0.1%);\n",
       "        }#T_9db14004_412a_11eb_8f60_0242ac130202row19_col0{\n",
       "            width:  10em;\n",
       "             height:  80%;\n",
       "        }</style><table id=\"T_9db14004_412a_11eb_8f60_0242ac130202\" ><thead>    <tr>        <th class=\"blank level0\" ></th>        <th class=\"col_heading level0 col0\" >Number of movies</th>    </tr></thead><tbody>\n",
       "                <tr>\n",
       "                        <th id=\"T_9db14004_412a_11eb_8f60_0242ac130202level0_row0\" class=\"row_heading level0 row0\" >English</th>\n",
       "                        <td id=\"T_9db14004_412a_11eb_8f60_0242ac130202row0_col0\" class=\"data row0 col0\" >815</td>\n",
       "            </tr>\n",
       "            <tr>\n",
       "                        <th id=\"T_9db14004_412a_11eb_8f60_0242ac130202level0_row1\" class=\"row_heading level0 row1\" >French</th>\n",
       "                        <td id=\"T_9db14004_412a_11eb_8f60_0242ac130202row1_col0\" class=\"data row1 col0\" >73</td>\n",
       "            </tr>\n",
       "            <tr>\n",
       "                        <th id=\"T_9db14004_412a_11eb_8f60_0242ac130202level0_row2\" class=\"row_heading level0 row2\" >Spanish</th>\n",
       "                        <td id=\"T_9db14004_412a_11eb_8f60_0242ac130202row2_col0\" class=\"data row2 col0\" >66</td>\n",
       "            </tr>\n",
       "            <tr>\n",
       "                        <th id=\"T_9db14004_412a_11eb_8f60_0242ac130202level0_row3\" class=\"row_heading level0 row3\" >German</th>\n",
       "                        <td id=\"T_9db14004_412a_11eb_8f60_0242ac130202row3_col0\" class=\"data row3 col0\" >41</td>\n",
       "            </tr>\n",
       "            <tr>\n",
       "                        <th id=\"T_9db14004_412a_11eb_8f60_0242ac130202level0_row4\" class=\"row_heading level0 row4\" >Japanese</th>\n",
       "                        <td id=\"T_9db14004_412a_11eb_8f60_0242ac130202row4_col0\" class=\"data row4 col0\" >35</td>\n",
       "            </tr>\n",
       "            <tr>\n",
       "                        <th id=\"T_9db14004_412a_11eb_8f60_0242ac130202level0_row5\" class=\"row_heading level0 row5\" >Italian</th>\n",
       "                        <td id=\"T_9db14004_412a_11eb_8f60_0242ac130202row5_col0\" class=\"data row5 col0\" >23</td>\n",
       "            </tr>\n",
       "            <tr>\n",
       "                        <th id=\"T_9db14004_412a_11eb_8f60_0242ac130202level0_row6\" class=\"row_heading level0 row6\" >Russian</th>\n",
       "                        <td id=\"T_9db14004_412a_11eb_8f60_0242ac130202row6_col0\" class=\"data row6 col0\" >18</td>\n",
       "            </tr>\n",
       "            <tr>\n",
       "                        <th id=\"T_9db14004_412a_11eb_8f60_0242ac130202level0_row7\" class=\"row_heading level0 row7\" >Mandarin</th>\n",
       "                        <td id=\"T_9db14004_412a_11eb_8f60_0242ac130202row7_col0\" class=\"data row7 col0\" >17</td>\n",
       "            </tr>\n",
       "            <tr>\n",
       "                        <th id=\"T_9db14004_412a_11eb_8f60_0242ac130202level0_row8\" class=\"row_heading level0 row8\" >Korean</th>\n",
       "                        <td id=\"T_9db14004_412a_11eb_8f60_0242ac130202row8_col0\" class=\"data row8 col0\" >16</td>\n",
       "            </tr>\n",
       "            <tr>\n",
       "                        <th id=\"T_9db14004_412a_11eb_8f60_0242ac130202level0_row9\" class=\"row_heading level0 row9\" >Danish</th>\n",
       "                        <td id=\"T_9db14004_412a_11eb_8f60_0242ac130202row9_col0\" class=\"data row9 col0\" >13</td>\n",
       "            </tr>\n",
       "            <tr>\n",
       "                        <th id=\"T_9db14004_412a_11eb_8f60_0242ac130202level0_row10\" class=\"row_heading level0 row10\" >Arabic</th>\n",
       "                        <td id=\"T_9db14004_412a_11eb_8f60_0242ac130202row10_col0\" class=\"data row10 col0\" >12</td>\n",
       "            </tr>\n",
       "            <tr>\n",
       "                        <th id=\"T_9db14004_412a_11eb_8f60_0242ac130202level0_row11\" class=\"row_heading level0 row11\" >Swedish</th>\n",
       "                        <td id=\"T_9db14004_412a_11eb_8f60_0242ac130202row11_col0\" class=\"data row11 col0\" >11</td>\n",
       "            </tr>\n",
       "            <tr>\n",
       "                        <th id=\"T_9db14004_412a_11eb_8f60_0242ac130202level0_row12\" class=\"row_heading level0 row12\" >Chinese</th>\n",
       "                        <td id=\"T_9db14004_412a_11eb_8f60_0242ac130202row12_col0\" class=\"data row12 col0\" >10</td>\n",
       "            </tr>\n",
       "            <tr>\n",
       "                        <th id=\"T_9db14004_412a_11eb_8f60_0242ac130202level0_row13\" class=\"row_heading level0 row13\" >Latin</th>\n",
       "                        <td id=\"T_9db14004_412a_11eb_8f60_0242ac130202row13_col0\" class=\"data row13 col0\" >8</td>\n",
       "            </tr>\n",
       "            <tr>\n",
       "                        <th id=\"T_9db14004_412a_11eb_8f60_0242ac130202level0_row14\" class=\"row_heading level0 row14\" >Norwegian</th>\n",
       "                        <td id=\"T_9db14004_412a_11eb_8f60_0242ac130202row14_col0\" class=\"data row14 col0\" >6</td>\n",
       "            </tr>\n",
       "            <tr>\n",
       "                        <th id=\"T_9db14004_412a_11eb_8f60_0242ac130202level0_row15\" class=\"row_heading level0 row15\" >Portuguese</th>\n",
       "                        <td id=\"T_9db14004_412a_11eb_8f60_0242ac130202row15_col0\" class=\"data row15 col0\" >5</td>\n",
       "            </tr>\n",
       "            <tr>\n",
       "                        <th id=\"T_9db14004_412a_11eb_8f60_0242ac130202level0_row16\" class=\"row_heading level0 row16\" >Hebrew</th>\n",
       "                        <td id=\"T_9db14004_412a_11eb_8f60_0242ac130202row16_col0\" class=\"data row16 col0\" >5</td>\n",
       "            </tr>\n",
       "            <tr>\n",
       "                        <th id=\"T_9db14004_412a_11eb_8f60_0242ac130202level0_row17\" class=\"row_heading level0 row17\" >Dutch</th>\n",
       "                        <td id=\"T_9db14004_412a_11eb_8f60_0242ac130202row17_col0\" class=\"data row17 col0\" >5</td>\n",
       "            </tr>\n",
       "            <tr>\n",
       "                        <th id=\"T_9db14004_412a_11eb_8f60_0242ac130202level0_row18\" class=\"row_heading level0 row18\" >Klingon</th>\n",
       "                        <td id=\"T_9db14004_412a_11eb_8f60_0242ac130202row18_col0\" class=\"data row18 col0\" >5</td>\n",
       "            </tr>\n",
       "            <tr>\n",
       "                        <th id=\"T_9db14004_412a_11eb_8f60_0242ac130202level0_row19\" class=\"row_heading level0 row19\" >Polish</th>\n",
       "                        <td id=\"T_9db14004_412a_11eb_8f60_0242ac130202row19_col0\" class=\"data row19 col0\" >4</td>\n",
       "            </tr>\n",
       "    </tbody></table>"
      ],
      "text/plain": [
       "<pandas.io.formats.style.Styler at 0x7fc605013fd0>"
      ]
     },
     "execution_count": 43,
     "metadata": {},
     "output_type": "execute_result"
    }
   ],
   "source": [
    "bar(df_l_merged,'Hulu','#95d5b2')"
   ]
  },
  {
   "cell_type": "code",
   "execution_count": 44,
   "metadata": {
    "_kg_hide-input": true,
    "execution": {
     "iopub.execute_input": "2020-12-18T12:14:45.672042Z",
     "iopub.status.busy": "2020-12-18T12:14:45.670504Z",
     "iopub.status.idle": "2020-12-18T12:14:45.686241Z",
     "shell.execute_reply": "2020-12-18T12:14:45.686805Z"
    },
    "papermill": {
     "duration": 0.098577,
     "end_time": "2020-12-18T12:14:45.686972",
     "exception": false,
     "start_time": "2020-12-18T12:14:45.588395",
     "status": "completed"
    },
    "tags": []
   },
   "outputs": [
    {
     "data": {
      "text/html": [
       "<style  type=\"text/css\" >\n",
       "#T_9dcc31ac_412a_11eb_8f60_0242ac130202row0_col0{\n",
       "            width:  10em;\n",
       "             height:  80%;\n",
       "            background:  linear-gradient(90deg,#95d5b2 100.0%, transparent 100.0%);\n",
       "        }#T_9dcc31ac_412a_11eb_8f60_0242ac130202row1_col0{\n",
       "            width:  10em;\n",
       "             height:  80%;\n",
       "            background:  linear-gradient(90deg,#95d5b2 59.8%, transparent 59.8%);\n",
       "        }#T_9dcc31ac_412a_11eb_8f60_0242ac130202row2_col0{\n",
       "            width:  10em;\n",
       "             height:  80%;\n",
       "            background:  linear-gradient(90deg,#95d5b2 47.5%, transparent 47.5%);\n",
       "        }#T_9dcc31ac_412a_11eb_8f60_0242ac130202row3_col0{\n",
       "            width:  10em;\n",
       "             height:  80%;\n",
       "            background:  linear-gradient(90deg,#95d5b2 30.5%, transparent 30.5%);\n",
       "        }#T_9dcc31ac_412a_11eb_8f60_0242ac130202row4_col0{\n",
       "            width:  10em;\n",
       "             height:  80%;\n",
       "            background:  linear-gradient(90deg,#95d5b2 25.9%, transparent 25.9%);\n",
       "        }#T_9dcc31ac_412a_11eb_8f60_0242ac130202row5_col0{\n",
       "            width:  10em;\n",
       "             height:  80%;\n",
       "            background:  linear-gradient(90deg,#95d5b2 25.2%, transparent 25.2%);\n",
       "        }#T_9dcc31ac_412a_11eb_8f60_0242ac130202row6_col0{\n",
       "            width:  10em;\n",
       "             height:  80%;\n",
       "            background:  linear-gradient(90deg,#95d5b2 24.0%, transparent 24.0%);\n",
       "        }#T_9dcc31ac_412a_11eb_8f60_0242ac130202row7_col0{\n",
       "            width:  10em;\n",
       "             height:  80%;\n",
       "            background:  linear-gradient(90deg,#95d5b2 20.8%, transparent 20.8%);\n",
       "        }#T_9dcc31ac_412a_11eb_8f60_0242ac130202row8_col0{\n",
       "            width:  10em;\n",
       "             height:  80%;\n",
       "            background:  linear-gradient(90deg,#95d5b2 19.4%, transparent 19.4%);\n",
       "        }#T_9dcc31ac_412a_11eb_8f60_0242ac130202row9_col0{\n",
       "            width:  10em;\n",
       "             height:  80%;\n",
       "            background:  linear-gradient(90deg,#95d5b2 18.2%, transparent 18.2%);\n",
       "        }#T_9dcc31ac_412a_11eb_8f60_0242ac130202row10_col0,#T_9dcc31ac_412a_11eb_8f60_0242ac130202row11_col0{\n",
       "            width:  10em;\n",
       "             height:  80%;\n",
       "            background:  linear-gradient(90deg,#95d5b2 14.8%, transparent 14.8%);\n",
       "        }#T_9dcc31ac_412a_11eb_8f60_0242ac130202row12_col0{\n",
       "            width:  10em;\n",
       "             height:  80%;\n",
       "            background:  linear-gradient(90deg,#95d5b2 12.6%, transparent 12.6%);\n",
       "        }#T_9dcc31ac_412a_11eb_8f60_0242ac130202row13_col0{\n",
       "            width:  10em;\n",
       "             height:  80%;\n",
       "            background:  linear-gradient(90deg,#95d5b2 12.1%, transparent 12.1%);\n",
       "        }#T_9dcc31ac_412a_11eb_8f60_0242ac130202row14_col0{\n",
       "            width:  10em;\n",
       "             height:  80%;\n",
       "            background:  linear-gradient(90deg,#95d5b2 8.0%, transparent 8.0%);\n",
       "        }#T_9dcc31ac_412a_11eb_8f60_0242ac130202row15_col0{\n",
       "            width:  10em;\n",
       "             height:  80%;\n",
       "            background:  linear-gradient(90deg,#95d5b2 3.1%, transparent 3.1%);\n",
       "        }#T_9dcc31ac_412a_11eb_8f60_0242ac130202row16_col0{\n",
       "            width:  10em;\n",
       "             height:  80%;\n",
       "            background:  linear-gradient(90deg,#95d5b2 2.7%, transparent 2.7%);\n",
       "        }#T_9dcc31ac_412a_11eb_8f60_0242ac130202row17_col0{\n",
       "            width:  10em;\n",
       "             height:  80%;\n",
       "            background:  linear-gradient(90deg,#95d5b2 0.5%, transparent 0.5%);\n",
       "        }#T_9dcc31ac_412a_11eb_8f60_0242ac130202row18_col0,#T_9dcc31ac_412a_11eb_8f60_0242ac130202row19_col0{\n",
       "            width:  10em;\n",
       "             height:  80%;\n",
       "        }</style><table id=\"T_9dcc31ac_412a_11eb_8f60_0242ac130202\" ><thead>    <tr>        <th class=\"blank level0\" ></th>        <th class=\"col_heading level0 col0\" >Number of movies</th>    </tr></thead><tbody>\n",
       "                <tr>\n",
       "                        <th id=\"T_9dcc31ac_412a_11eb_8f60_0242ac130202level0_row0\" class=\"row_heading level0 row0\" >Drama</th>\n",
       "                        <td id=\"T_9dcc31ac_412a_11eb_8f60_0242ac130202row0_col0\" class=\"data row0 col0\" >438</td>\n",
       "            </tr>\n",
       "            <tr>\n",
       "                        <th id=\"T_9dcc31ac_412a_11eb_8f60_0242ac130202level0_row1\" class=\"row_heading level0 row1\" >Comedy</th>\n",
       "                        <td id=\"T_9dcc31ac_412a_11eb_8f60_0242ac130202row1_col0\" class=\"data row1 col0\" >272</td>\n",
       "            </tr>\n",
       "            <tr>\n",
       "                        <th id=\"T_9dcc31ac_412a_11eb_8f60_0242ac130202level0_row2\" class=\"row_heading level0 row2\" >Thriller</th>\n",
       "                        <td id=\"T_9dcc31ac_412a_11eb_8f60_0242ac130202row2_col0\" class=\"data row2 col0\" >221</td>\n",
       "            </tr>\n",
       "            <tr>\n",
       "                        <th id=\"T_9dcc31ac_412a_11eb_8f60_0242ac130202level0_row3\" class=\"row_heading level0 row3\" >Romance</th>\n",
       "                        <td id=\"T_9dcc31ac_412a_11eb_8f60_0242ac130202row3_col0\" class=\"data row3 col0\" >151</td>\n",
       "            </tr>\n",
       "            <tr>\n",
       "                        <th id=\"T_9dcc31ac_412a_11eb_8f60_0242ac130202level0_row4\" class=\"row_heading level0 row4\" >Documentary</th>\n",
       "                        <td id=\"T_9dcc31ac_412a_11eb_8f60_0242ac130202row4_col0\" class=\"data row4 col0\" >132</td>\n",
       "            </tr>\n",
       "            <tr>\n",
       "                        <th id=\"T_9dcc31ac_412a_11eb_8f60_0242ac130202level0_row5\" class=\"row_heading level0 row5\" >Action</th>\n",
       "                        <td id=\"T_9dcc31ac_412a_11eb_8f60_0242ac130202row5_col0\" class=\"data row5 col0\" >129</td>\n",
       "            </tr>\n",
       "            <tr>\n",
       "                        <th id=\"T_9dcc31ac_412a_11eb_8f60_0242ac130202level0_row6\" class=\"row_heading level0 row6\" >Horror</th>\n",
       "                        <td id=\"T_9dcc31ac_412a_11eb_8f60_0242ac130202row6_col0\" class=\"data row6 col0\" >124</td>\n",
       "            </tr>\n",
       "            <tr>\n",
       "                        <th id=\"T_9dcc31ac_412a_11eb_8f60_0242ac130202level0_row7\" class=\"row_heading level0 row7\" >Adventure</th>\n",
       "                        <td id=\"T_9dcc31ac_412a_11eb_8f60_0242ac130202row7_col0\" class=\"data row7 col0\" >111</td>\n",
       "            </tr>\n",
       "            <tr>\n",
       "                        <th id=\"T_9dcc31ac_412a_11eb_8f60_0242ac130202level0_row8\" class=\"row_heading level0 row8\" >Family</th>\n",
       "                        <td id=\"T_9dcc31ac_412a_11eb_8f60_0242ac130202row8_col0\" class=\"data row8 col0\" >105</td>\n",
       "            </tr>\n",
       "            <tr>\n",
       "                        <th id=\"T_9dcc31ac_412a_11eb_8f60_0242ac130202level0_row9\" class=\"row_heading level0 row9\" >Crime</th>\n",
       "                        <td id=\"T_9dcc31ac_412a_11eb_8f60_0242ac130202row9_col0\" class=\"data row9 col0\" >100</td>\n",
       "            </tr>\n",
       "            <tr>\n",
       "                        <th id=\"T_9dcc31ac_412a_11eb_8f60_0242ac130202level0_row10\" class=\"row_heading level0 row10\" >Sci-Fi</th>\n",
       "                        <td id=\"T_9dcc31ac_412a_11eb_8f60_0242ac130202row10_col0\" class=\"data row10 col0\" >86</td>\n",
       "            </tr>\n",
       "            <tr>\n",
       "                        <th id=\"T_9dcc31ac_412a_11eb_8f60_0242ac130202level0_row11\" class=\"row_heading level0 row11\" >Mystery</th>\n",
       "                        <td id=\"T_9dcc31ac_412a_11eb_8f60_0242ac130202row11_col0\" class=\"data row11 col0\" >86</td>\n",
       "            </tr>\n",
       "            <tr>\n",
       "                        <th id=\"T_9dcc31ac_412a_11eb_8f60_0242ac130202level0_row12\" class=\"row_heading level0 row12\" >Fantasy</th>\n",
       "                        <td id=\"T_9dcc31ac_412a_11eb_8f60_0242ac130202row12_col0\" class=\"data row12 col0\" >77</td>\n",
       "            </tr>\n",
       "            <tr>\n",
       "                        <th id=\"T_9dcc31ac_412a_11eb_8f60_0242ac130202level0_row13\" class=\"row_heading level0 row13\" >Animation</th>\n",
       "                        <td id=\"T_9dcc31ac_412a_11eb_8f60_0242ac130202row13_col0\" class=\"data row13 col0\" >75</td>\n",
       "            </tr>\n",
       "            <tr>\n",
       "                        <th id=\"T_9dcc31ac_412a_11eb_8f60_0242ac130202level0_row14\" class=\"row_heading level0 row14\" >Biography</th>\n",
       "                        <td id=\"T_9dcc31ac_412a_11eb_8f60_0242ac130202row14_col0\" class=\"data row14 col0\" >58</td>\n",
       "            </tr>\n",
       "            <tr>\n",
       "                        <th id=\"T_9dcc31ac_412a_11eb_8f60_0242ac130202level0_row15\" class=\"row_heading level0 row15\" >History</th>\n",
       "                        <td id=\"T_9dcc31ac_412a_11eb_8f60_0242ac130202row15_col0\" class=\"data row15 col0\" >38</td>\n",
       "            </tr>\n",
       "            <tr>\n",
       "                        <th id=\"T_9dcc31ac_412a_11eb_8f60_0242ac130202level0_row16\" class=\"row_heading level0 row16\" >Music</th>\n",
       "                        <td id=\"T_9dcc31ac_412a_11eb_8f60_0242ac130202row16_col0\" class=\"data row16 col0\" >36</td>\n",
       "            </tr>\n",
       "            <tr>\n",
       "                        <th id=\"T_9dcc31ac_412a_11eb_8f60_0242ac130202level0_row17\" class=\"row_heading level0 row17\" >Sport</th>\n",
       "                        <td id=\"T_9dcc31ac_412a_11eb_8f60_0242ac130202row17_col0\" class=\"data row17 col0\" >27</td>\n",
       "            </tr>\n",
       "            <tr>\n",
       "                        <th id=\"T_9dcc31ac_412a_11eb_8f60_0242ac130202level0_row18\" class=\"row_heading level0 row18\" >War</th>\n",
       "                        <td id=\"T_9dcc31ac_412a_11eb_8f60_0242ac130202row18_col0\" class=\"data row18 col0\" >25</td>\n",
       "            </tr>\n",
       "            <tr>\n",
       "                        <th id=\"T_9dcc31ac_412a_11eb_8f60_0242ac130202level0_row19\" class=\"row_heading level0 row19\" >Western</th>\n",
       "                        <td id=\"T_9dcc31ac_412a_11eb_8f60_0242ac130202row19_col0\" class=\"data row19 col0\" >25</td>\n",
       "            </tr>\n",
       "    </tbody></table>"
      ],
      "text/plain": [
       "<pandas.io.formats.style.Styler at 0x7fc604f820d0>"
      ]
     },
     "execution_count": 44,
     "metadata": {},
     "output_type": "execute_result"
    }
   ],
   "source": [
    "bar(df_g_merged,'Hulu','#95d5b2')"
   ]
  },
  {
   "cell_type": "markdown",
   "metadata": {
    "papermill": {
     "duration": 0.076122,
     "end_time": "2020-12-18T12:14:45.838667",
     "exception": false,
     "start_time": "2020-12-18T12:14:45.762545",
     "status": "completed"
    },
    "tags": []
   },
   "source": [
    "\n",
    "<div>\n",
    "    \n",
    "<img src=\" https://logodownload.org/wp-content/uploads/2018/07/prime-video.png\" width=\"300\"/>\n",
    "</div>"
   ]
  },
  {
   "cell_type": "code",
   "execution_count": 45,
   "metadata": {
    "_kg_hide-input": true,
    "execution": {
     "iopub.execute_input": "2020-12-18T12:14:45.995044Z",
     "iopub.status.busy": "2020-12-18T12:14:45.994031Z",
     "iopub.status.idle": "2020-12-18T12:14:46.035948Z",
     "shell.execute_reply": "2020-12-18T12:14:46.036476Z"
    },
    "papermill": {
     "duration": 0.121767,
     "end_time": "2020-12-18T12:14:46.036643",
     "exception": false,
     "start_time": "2020-12-18T12:14:45.914876",
     "status": "completed"
    },
    "tags": []
   },
   "outputs": [
    {
     "data": {
      "text/html": [
       "<style  type=\"text/css\" >\n",
       "#T_9e015440_412a_11eb_8f60_0242ac130202row0_col0{\n",
       "            width:  10em;\n",
       "             height:  80%;\n",
       "            background:  linear-gradient(90deg,#a2d2ff 100.0%, transparent 100.0%);\n",
       "        }#T_9e015440_412a_11eb_8f60_0242ac130202row1_col0{\n",
       "            width:  10em;\n",
       "             height:  80%;\n",
       "            background:  linear-gradient(90deg,#a2d2ff 4.8%, transparent 4.8%);\n",
       "        }#T_9e015440_412a_11eb_8f60_0242ac130202row2_col0{\n",
       "            width:  10em;\n",
       "             height:  80%;\n",
       "            background:  linear-gradient(90deg,#a2d2ff 4.5%, transparent 4.5%);\n",
       "        }#T_9e015440_412a_11eb_8f60_0242ac130202row3_col0{\n",
       "            width:  10em;\n",
       "             height:  80%;\n",
       "            background:  linear-gradient(90deg,#a2d2ff 3.8%, transparent 3.8%);\n",
       "        }#T_9e015440_412a_11eb_8f60_0242ac130202row4_col0{\n",
       "            width:  10em;\n",
       "             height:  80%;\n",
       "            background:  linear-gradient(90deg,#a2d2ff 3.1%, transparent 3.1%);\n",
       "        }#T_9e015440_412a_11eb_8f60_0242ac130202row5_col0{\n",
       "            width:  10em;\n",
       "             height:  80%;\n",
       "            background:  linear-gradient(90deg,#a2d2ff 3.0%, transparent 3.0%);\n",
       "        }#T_9e015440_412a_11eb_8f60_0242ac130202row6_col0{\n",
       "            width:  10em;\n",
       "             height:  80%;\n",
       "            background:  linear-gradient(90deg,#a2d2ff 2.2%, transparent 2.2%);\n",
       "        }#T_9e015440_412a_11eb_8f60_0242ac130202row7_col0{\n",
       "            width:  10em;\n",
       "             height:  80%;\n",
       "            background:  linear-gradient(90deg,#a2d2ff 1.5%, transparent 1.5%);\n",
       "        }#T_9e015440_412a_11eb_8f60_0242ac130202row8_col0{\n",
       "            width:  10em;\n",
       "             height:  80%;\n",
       "            background:  linear-gradient(90deg,#a2d2ff 1.1%, transparent 1.1%);\n",
       "        }#T_9e015440_412a_11eb_8f60_0242ac130202row9_col0,#T_9e015440_412a_11eb_8f60_0242ac130202row10_col0{\n",
       "            width:  10em;\n",
       "             height:  80%;\n",
       "            background:  linear-gradient(90deg,#a2d2ff 0.8%, transparent 0.8%);\n",
       "        }#T_9e015440_412a_11eb_8f60_0242ac130202row11_col0{\n",
       "            width:  10em;\n",
       "             height:  80%;\n",
       "            background:  linear-gradient(90deg,#a2d2ff 0.7%, transparent 0.7%);\n",
       "        }#T_9e015440_412a_11eb_8f60_0242ac130202row12_col0,#T_9e015440_412a_11eb_8f60_0242ac130202row13_col0{\n",
       "            width:  10em;\n",
       "             height:  80%;\n",
       "            background:  linear-gradient(90deg,#a2d2ff 0.5%, transparent 0.5%);\n",
       "        }#T_9e015440_412a_11eb_8f60_0242ac130202row14_col0,#T_9e015440_412a_11eb_8f60_0242ac130202row15_col0{\n",
       "            width:  10em;\n",
       "             height:  80%;\n",
       "            background:  linear-gradient(90deg,#a2d2ff 0.2%, transparent 0.2%);\n",
       "        }#T_9e015440_412a_11eb_8f60_0242ac130202row16_col0{\n",
       "            width:  10em;\n",
       "             height:  80%;\n",
       "            background:  linear-gradient(90deg,#a2d2ff 0.1%, transparent 0.1%);\n",
       "        }#T_9e015440_412a_11eb_8f60_0242ac130202row17_col0,#T_9e015440_412a_11eb_8f60_0242ac130202row18_col0{\n",
       "            width:  10em;\n",
       "             height:  80%;\n",
       "            background:  linear-gradient(90deg,#a2d2ff 0.0%, transparent 0.0%);\n",
       "        }#T_9e015440_412a_11eb_8f60_0242ac130202row19_col0{\n",
       "            width:  10em;\n",
       "             height:  80%;\n",
       "        }</style><table id=\"T_9e015440_412a_11eb_8f60_0242ac130202\" ><thead>    <tr>        <th class=\"blank level0\" ></th>        <th class=\"col_heading level0 col0\" >Number of movies</th>    </tr></thead><tbody>\n",
       "                <tr>\n",
       "                        <th id=\"T_9e015440_412a_11eb_8f60_0242ac130202level0_row0\" class=\"row_heading level0 row0\" >English</th>\n",
       "                        <td id=\"T_9e015440_412a_11eb_8f60_0242ac130202row0_col0\" class=\"data row0 col0\" >10088</td>\n",
       "            </tr>\n",
       "            <tr>\n",
       "                        <th id=\"T_9e015440_412a_11eb_8f60_0242ac130202level0_row1\" class=\"row_heading level0 row1\" >French</th>\n",
       "                        <td id=\"T_9e015440_412a_11eb_8f60_0242ac130202row1_col0\" class=\"data row1 col0\" >522</td>\n",
       "            </tr>\n",
       "            <tr>\n",
       "                        <th id=\"T_9e015440_412a_11eb_8f60_0242ac130202level0_row2\" class=\"row_heading level0 row2\" >Spanish</th>\n",
       "                        <td id=\"T_9e015440_412a_11eb_8f60_0242ac130202row2_col0\" class=\"data row2 col0\" >493</td>\n",
       "            </tr>\n",
       "            <tr>\n",
       "                        <th id=\"T_9e015440_412a_11eb_8f60_0242ac130202level0_row3\" class=\"row_heading level0 row3\" >Hindi</th>\n",
       "                        <td id=\"T_9e015440_412a_11eb_8f60_0242ac130202row3_col0\" class=\"data row3 col0\" >424</td>\n",
       "            </tr>\n",
       "            <tr>\n",
       "                        <th id=\"T_9e015440_412a_11eb_8f60_0242ac130202level0_row4\" class=\"row_heading level0 row4\" >Italian</th>\n",
       "                        <td id=\"T_9e015440_412a_11eb_8f60_0242ac130202row4_col0\" class=\"data row4 col0\" >352</td>\n",
       "            </tr>\n",
       "            <tr>\n",
       "                        <th id=\"T_9e015440_412a_11eb_8f60_0242ac130202level0_row5\" class=\"row_heading level0 row5\" >German</th>\n",
       "                        <td id=\"T_9e015440_412a_11eb_8f60_0242ac130202row5_col0\" class=\"data row5 col0\" >341</td>\n",
       "            </tr>\n",
       "            <tr>\n",
       "                        <th id=\"T_9e015440_412a_11eb_8f60_0242ac130202level0_row6\" class=\"row_heading level0 row6\" >Mandarin</th>\n",
       "                        <td id=\"T_9e015440_412a_11eb_8f60_0242ac130202row6_col0\" class=\"data row6 col0\" >268</td>\n",
       "            </tr>\n",
       "            <tr>\n",
       "                        <th id=\"T_9e015440_412a_11eb_8f60_0242ac130202level0_row7\" class=\"row_heading level0 row7\" >Japanese</th>\n",
       "                        <td id=\"T_9e015440_412a_11eb_8f60_0242ac130202row7_col0\" class=\"data row7 col0\" >195</td>\n",
       "            </tr>\n",
       "            <tr>\n",
       "                        <th id=\"T_9e015440_412a_11eb_8f60_0242ac130202level0_row8\" class=\"row_heading level0 row8\" >Russian</th>\n",
       "                        <td id=\"T_9e015440_412a_11eb_8f60_0242ac130202row8_col0\" class=\"data row8 col0\" >157</td>\n",
       "            </tr>\n",
       "            <tr>\n",
       "                        <th id=\"T_9e015440_412a_11eb_8f60_0242ac130202level0_row9\" class=\"row_heading level0 row9\" >Cantonese</th>\n",
       "                        <td id=\"T_9e015440_412a_11eb_8f60_0242ac130202row9_col0\" class=\"data row9 col0\" >127</td>\n",
       "            </tr>\n",
       "            <tr>\n",
       "                        <th id=\"T_9e015440_412a_11eb_8f60_0242ac130202level0_row10\" class=\"row_heading level0 row10\" >Korean</th>\n",
       "                        <td id=\"T_9e015440_412a_11eb_8f60_0242ac130202row10_col0\" class=\"data row10 col0\" >126</td>\n",
       "            </tr>\n",
       "            <tr>\n",
       "                        <th id=\"T_9e015440_412a_11eb_8f60_0242ac130202level0_row11\" class=\"row_heading level0 row11\" >Tamil</th>\n",
       "                        <td id=\"T_9e015440_412a_11eb_8f60_0242ac130202row11_col0\" class=\"data row11 col0\" >113</td>\n",
       "            </tr>\n",
       "            <tr>\n",
       "                        <th id=\"T_9e015440_412a_11eb_8f60_0242ac130202level0_row12\" class=\"row_heading level0 row12\" >Telugu</th>\n",
       "                        <td id=\"T_9e015440_412a_11eb_8f60_0242ac130202row12_col0\" class=\"data row12 col0\" >92</td>\n",
       "            </tr>\n",
       "            <tr>\n",
       "                        <th id=\"T_9e015440_412a_11eb_8f60_0242ac130202level0_row13\" class=\"row_heading level0 row13\" >Arabic</th>\n",
       "                        <td id=\"T_9e015440_412a_11eb_8f60_0242ac130202row13_col0\" class=\"data row13 col0\" >90</td>\n",
       "            </tr>\n",
       "            <tr>\n",
       "                        <th id=\"T_9e015440_412a_11eb_8f60_0242ac130202level0_row14\" class=\"row_heading level0 row14\" >Hebrew</th>\n",
       "                        <td id=\"T_9e015440_412a_11eb_8f60_0242ac130202row14_col0\" class=\"data row14 col0\" >68</td>\n",
       "            </tr>\n",
       "            <tr>\n",
       "                        <th id=\"T_9e015440_412a_11eb_8f60_0242ac130202level0_row15\" class=\"row_heading level0 row15\" >Portuguese</th>\n",
       "                        <td id=\"T_9e015440_412a_11eb_8f60_0242ac130202row15_col0\" class=\"data row15 col0\" >61</td>\n",
       "            </tr>\n",
       "            <tr>\n",
       "                        <th id=\"T_9e015440_412a_11eb_8f60_0242ac130202level0_row16\" class=\"row_heading level0 row16\" >Swedish</th>\n",
       "                        <td id=\"T_9e015440_412a_11eb_8f60_0242ac130202row16_col0\" class=\"data row16 col0\" >58</td>\n",
       "            </tr>\n",
       "            <tr>\n",
       "                        <th id=\"T_9e015440_412a_11eb_8f60_0242ac130202level0_row17\" class=\"row_heading level0 row17\" >Dutch</th>\n",
       "                        <td id=\"T_9e015440_412a_11eb_8f60_0242ac130202row17_col0\" class=\"data row17 col0\" >47</td>\n",
       "            </tr>\n",
       "            <tr>\n",
       "                        <th id=\"T_9e015440_412a_11eb_8f60_0242ac130202level0_row18\" class=\"row_heading level0 row18\" >Latin</th>\n",
       "                        <td id=\"T_9e015440_412a_11eb_8f60_0242ac130202row18_col0\" class=\"data row18 col0\" >47</td>\n",
       "            </tr>\n",
       "            <tr>\n",
       "                        <th id=\"T_9e015440_412a_11eb_8f60_0242ac130202level0_row19\" class=\"row_heading level0 row19\" >Danish</th>\n",
       "                        <td id=\"T_9e015440_412a_11eb_8f60_0242ac130202row19_col0\" class=\"data row19 col0\" >44</td>\n",
       "            </tr>\n",
       "    </tbody></table>"
      ],
      "text/plain": [
       "<pandas.io.formats.style.Styler at 0x7fc604f68e50>"
      ]
     },
     "execution_count": 45,
     "metadata": {},
     "output_type": "execute_result"
    }
   ],
   "source": [
    "bar(df_l_merged,'Prime Video','#a2d2ff')"
   ]
  },
  {
   "cell_type": "code",
   "execution_count": 46,
   "metadata": {
    "_kg_hide-input": true,
    "execution": {
     "iopub.execute_input": "2020-12-18T12:14:46.198421Z",
     "iopub.status.busy": "2020-12-18T12:14:46.197209Z",
     "iopub.status.idle": "2020-12-18T12:14:46.219425Z",
     "shell.execute_reply": "2020-12-18T12:14:46.218678Z"
    },
    "papermill": {
     "duration": 0.106554,
     "end_time": "2020-12-18T12:14:46.219552",
     "exception": false,
     "start_time": "2020-12-18T12:14:46.112998",
     "status": "completed"
    },
    "tags": []
   },
   "outputs": [
    {
     "data": {
      "text/html": [
       "<style  type=\"text/css\" >\n",
       "#T_9e1d2b16_412a_11eb_8f60_0242ac130202row0_col0{\n",
       "            width:  10em;\n",
       "             height:  80%;\n",
       "            background:  linear-gradient(90deg,#a2d2ff 100.0%, transparent 100.0%);\n",
       "        }#T_9e1d2b16_412a_11eb_8f60_0242ac130202row1_col0{\n",
       "            width:  10em;\n",
       "             height:  80%;\n",
       "            background:  linear-gradient(90deg,#a2d2ff 53.0%, transparent 53.0%);\n",
       "        }#T_9e1d2b16_412a_11eb_8f60_0242ac130202row2_col0{\n",
       "            width:  10em;\n",
       "             height:  80%;\n",
       "            background:  linear-gradient(90deg,#a2d2ff 45.8%, transparent 45.8%);\n",
       "        }#T_9e1d2b16_412a_11eb_8f60_0242ac130202row3_col0{\n",
       "            width:  10em;\n",
       "             height:  80%;\n",
       "            background:  linear-gradient(90deg,#a2d2ff 34.5%, transparent 34.5%);\n",
       "        }#T_9e1d2b16_412a_11eb_8f60_0242ac130202row4_col0{\n",
       "            width:  10em;\n",
       "             height:  80%;\n",
       "            background:  linear-gradient(90deg,#a2d2ff 31.6%, transparent 31.6%);\n",
       "        }#T_9e1d2b16_412a_11eb_8f60_0242ac130202row5_col0{\n",
       "            width:  10em;\n",
       "             height:  80%;\n",
       "            background:  linear-gradient(90deg,#a2d2ff 31.2%, transparent 31.2%);\n",
       "        }#T_9e1d2b16_412a_11eb_8f60_0242ac130202row6_col0{\n",
       "            width:  10em;\n",
       "             height:  80%;\n",
       "            background:  linear-gradient(90deg,#a2d2ff 27.6%, transparent 27.6%);\n",
       "        }#T_9e1d2b16_412a_11eb_8f60_0242ac130202row7_col0{\n",
       "            width:  10em;\n",
       "             height:  80%;\n",
       "            background:  linear-gradient(90deg,#a2d2ff 22.4%, transparent 22.4%);\n",
       "        }#T_9e1d2b16_412a_11eb_8f60_0242ac130202row8_col0{\n",
       "            width:  10em;\n",
       "             height:  80%;\n",
       "            background:  linear-gradient(90deg,#a2d2ff 17.5%, transparent 17.5%);\n",
       "        }#T_9e1d2b16_412a_11eb_8f60_0242ac130202row9_col0{\n",
       "            width:  10em;\n",
       "             height:  80%;\n",
       "            background:  linear-gradient(90deg,#a2d2ff 13.9%, transparent 13.9%);\n",
       "        }#T_9e1d2b16_412a_11eb_8f60_0242ac130202row10_col0{\n",
       "            width:  10em;\n",
       "             height:  80%;\n",
       "            background:  linear-gradient(90deg,#a2d2ff 12.5%, transparent 12.5%);\n",
       "        }#T_9e1d2b16_412a_11eb_8f60_0242ac130202row11_col0{\n",
       "            width:  10em;\n",
       "             height:  80%;\n",
       "            background:  linear-gradient(90deg,#a2d2ff 8.9%, transparent 8.9%);\n",
       "        }#T_9e1d2b16_412a_11eb_8f60_0242ac130202row12_col0{\n",
       "            width:  10em;\n",
       "             height:  80%;\n",
       "            background:  linear-gradient(90deg,#a2d2ff 7.2%, transparent 7.2%);\n",
       "        }#T_9e1d2b16_412a_11eb_8f60_0242ac130202row13_col0{\n",
       "            width:  10em;\n",
       "             height:  80%;\n",
       "            background:  linear-gradient(90deg,#a2d2ff 5.9%, transparent 5.9%);\n",
       "        }#T_9e1d2b16_412a_11eb_8f60_0242ac130202row14_col0{\n",
       "            width:  10em;\n",
       "             height:  80%;\n",
       "            background:  linear-gradient(90deg,#a2d2ff 5.6%, transparent 5.6%);\n",
       "        }#T_9e1d2b16_412a_11eb_8f60_0242ac130202row15_col0{\n",
       "            width:  10em;\n",
       "             height:  80%;\n",
       "            background:  linear-gradient(90deg,#a2d2ff 4.3%, transparent 4.3%);\n",
       "        }#T_9e1d2b16_412a_11eb_8f60_0242ac130202row16_col0,#T_9e1d2b16_412a_11eb_8f60_0242ac130202row17_col0{\n",
       "            width:  10em;\n",
       "             height:  80%;\n",
       "            background:  linear-gradient(90deg,#a2d2ff 3.6%, transparent 3.6%);\n",
       "        }#T_9e1d2b16_412a_11eb_8f60_0242ac130202row18_col0{\n",
       "            width:  10em;\n",
       "             height:  80%;\n",
       "            background:  linear-gradient(90deg,#a2d2ff 0.7%, transparent 0.7%);\n",
       "        }#T_9e1d2b16_412a_11eb_8f60_0242ac130202row19_col0{\n",
       "            width:  10em;\n",
       "             height:  80%;\n",
       "        }</style><table id=\"T_9e1d2b16_412a_11eb_8f60_0242ac130202\" ><thead>    <tr>        <th class=\"blank level0\" ></th>        <th class=\"col_heading level0 col0\" >Number of movies</th>    </tr></thead><tbody>\n",
       "                <tr>\n",
       "                        <th id=\"T_9e1d2b16_412a_11eb_8f60_0242ac130202level0_row0\" class=\"row_heading level0 row0\" >Drama</th>\n",
       "                        <td id=\"T_9e1d2b16_412a_11eb_8f60_0242ac130202row0_col0\" class=\"data row0 col0\" >5437</td>\n",
       "            </tr>\n",
       "            <tr>\n",
       "                        <th id=\"T_9e1d2b16_412a_11eb_8f60_0242ac130202level0_row1\" class=\"row_heading level0 row1\" >Comedy</th>\n",
       "                        <td id=\"T_9e1d2b16_412a_11eb_8f60_0242ac130202row1_col0\" class=\"data row1 col0\" >3004</td>\n",
       "            </tr>\n",
       "            <tr>\n",
       "                        <th id=\"T_9e1d2b16_412a_11eb_8f60_0242ac130202level0_row2\" class=\"row_heading level0 row2\" >Thriller</th>\n",
       "                        <td id=\"T_9e1d2b16_412a_11eb_8f60_0242ac130202row2_col0\" class=\"data row2 col0\" >2632</td>\n",
       "            </tr>\n",
       "            <tr>\n",
       "                        <th id=\"T_9e1d2b16_412a_11eb_8f60_0242ac130202level0_row3\" class=\"row_heading level0 row3\" >Action</th>\n",
       "                        <td id=\"T_9e1d2b16_412a_11eb_8f60_0242ac130202row3_col0\" class=\"data row3 col0\" >2049</td>\n",
       "            </tr>\n",
       "            <tr>\n",
       "                        <th id=\"T_9e1d2b16_412a_11eb_8f60_0242ac130202level0_row4\" class=\"row_heading level0 row4\" >Documentary</th>\n",
       "                        <td id=\"T_9e1d2b16_412a_11eb_8f60_0242ac130202row4_col0\" class=\"data row4 col0\" >1895</td>\n",
       "            </tr>\n",
       "            <tr>\n",
       "                        <th id=\"T_9e1d2b16_412a_11eb_8f60_0242ac130202level0_row5\" class=\"row_heading level0 row5\" >Horror</th>\n",
       "                        <td id=\"T_9e1d2b16_412a_11eb_8f60_0242ac130202row5_col0\" class=\"data row5 col0\" >1878</td>\n",
       "            </tr>\n",
       "            <tr>\n",
       "                        <th id=\"T_9e1d2b16_412a_11eb_8f60_0242ac130202level0_row6\" class=\"row_heading level0 row6\" >Romance</th>\n",
       "                        <td id=\"T_9e1d2b16_412a_11eb_8f60_0242ac130202row6_col0\" class=\"data row6 col0\" >1691</td>\n",
       "            </tr>\n",
       "            <tr>\n",
       "                        <th id=\"T_9e1d2b16_412a_11eb_8f60_0242ac130202level0_row7\" class=\"row_heading level0 row7\" >Crime</th>\n",
       "                        <td id=\"T_9e1d2b16_412a_11eb_8f60_0242ac130202row7_col0\" class=\"data row7 col0\" >1423</td>\n",
       "            </tr>\n",
       "            <tr>\n",
       "                        <th id=\"T_9e1d2b16_412a_11eb_8f60_0242ac130202level0_row8\" class=\"row_heading level0 row8\" >Adventure</th>\n",
       "                        <td id=\"T_9e1d2b16_412a_11eb_8f60_0242ac130202row8_col0\" class=\"data row8 col0\" >1166</td>\n",
       "            </tr>\n",
       "            <tr>\n",
       "                        <th id=\"T_9e1d2b16_412a_11eb_8f60_0242ac130202level0_row9\" class=\"row_heading level0 row9\" >Mystery</th>\n",
       "                        <td id=\"T_9e1d2b16_412a_11eb_8f60_0242ac130202row9_col0\" class=\"data row9 col0\" >983</td>\n",
       "            </tr>\n",
       "            <tr>\n",
       "                        <th id=\"T_9e1d2b16_412a_11eb_8f60_0242ac130202level0_row10\" class=\"row_heading level0 row10\" >Sci-Fi</th>\n",
       "                        <td id=\"T_9e1d2b16_412a_11eb_8f60_0242ac130202row10_col0\" class=\"data row10 col0\" >907</td>\n",
       "            </tr>\n",
       "            <tr>\n",
       "                        <th id=\"T_9e1d2b16_412a_11eb_8f60_0242ac130202level0_row11\" class=\"row_heading level0 row11\" >Family</th>\n",
       "                        <td id=\"T_9e1d2b16_412a_11eb_8f60_0242ac130202row11_col0\" class=\"data row11 col0\" >721</td>\n",
       "            </tr>\n",
       "            <tr>\n",
       "                        <th id=\"T_9e1d2b16_412a_11eb_8f60_0242ac130202level0_row12\" class=\"row_heading level0 row12\" >Fantasy</th>\n",
       "                        <td id=\"T_9e1d2b16_412a_11eb_8f60_0242ac130202row12_col0\" class=\"data row12 col0\" >635</td>\n",
       "            </tr>\n",
       "            <tr>\n",
       "                        <th id=\"T_9e1d2b16_412a_11eb_8f60_0242ac130202level0_row13\" class=\"row_heading level0 row13\" >Biography</th>\n",
       "                        <td id=\"T_9e1d2b16_412a_11eb_8f60_0242ac130202row13_col0\" class=\"data row13 col0\" >569</td>\n",
       "            </tr>\n",
       "            <tr>\n",
       "                        <th id=\"T_9e1d2b16_412a_11eb_8f60_0242ac130202level0_row14\" class=\"row_heading level0 row14\" >History</th>\n",
       "                        <td id=\"T_9e1d2b16_412a_11eb_8f60_0242ac130202row14_col0\" class=\"data row14 col0\" >552</td>\n",
       "            </tr>\n",
       "            <tr>\n",
       "                        <th id=\"T_9e1d2b16_412a_11eb_8f60_0242ac130202level0_row15\" class=\"row_heading level0 row15\" >Music</th>\n",
       "                        <td id=\"T_9e1d2b16_412a_11eb_8f60_0242ac130202row15_col0\" class=\"data row15 col0\" >487</td>\n",
       "            </tr>\n",
       "            <tr>\n",
       "                        <th id=\"T_9e1d2b16_412a_11eb_8f60_0242ac130202level0_row16\" class=\"row_heading level0 row16\" >Western</th>\n",
       "                        <td id=\"T_9e1d2b16_412a_11eb_8f60_0242ac130202row16_col0\" class=\"data row16 col0\" >450</td>\n",
       "            </tr>\n",
       "            <tr>\n",
       "                        <th id=\"T_9e1d2b16_412a_11eb_8f60_0242ac130202level0_row17\" class=\"row_heading level0 row17\" >War</th>\n",
       "                        <td id=\"T_9e1d2b16_412a_11eb_8f60_0242ac130202row17_col0\" class=\"data row17 col0\" >446</td>\n",
       "            </tr>\n",
       "            <tr>\n",
       "                        <th id=\"T_9e1d2b16_412a_11eb_8f60_0242ac130202level0_row18\" class=\"row_heading level0 row18\" >Animation</th>\n",
       "                        <td id=\"T_9e1d2b16_412a_11eb_8f60_0242ac130202row18_col0\" class=\"data row18 col0\" >296</td>\n",
       "            </tr>\n",
       "            <tr>\n",
       "                        <th id=\"T_9e1d2b16_412a_11eb_8f60_0242ac130202level0_row19\" class=\"row_heading level0 row19\" >Short</th>\n",
       "                        <td id=\"T_9e1d2b16_412a_11eb_8f60_0242ac130202row19_col0\" class=\"data row19 col0\" >262</td>\n",
       "            </tr>\n",
       "    </tbody></table>"
      ],
      "text/plain": [
       "<pandas.io.formats.style.Styler at 0x7fc605444450>"
      ]
     },
     "execution_count": 46,
     "metadata": {},
     "output_type": "execute_result"
    }
   ],
   "source": [
    "bar(df_g_merged,'Prime Video','#a2d2ff')"
   ]
  },
  {
   "cell_type": "markdown",
   "metadata": {
    "papermill": {
     "duration": 0.079921,
     "end_time": "2020-12-18T12:14:46.379369",
     "exception": false,
     "start_time": "2020-12-18T12:14:46.299448",
     "status": "completed"
    },
    "tags": []
   },
   "source": [
    "<div>\n",
    "<img src=\" https://download.logo.wine/logo/Disney%2B/Disney%2B-Logo.wine.png\" width=\"350\"/>\n",
    "</div>"
   ]
  },
  {
   "cell_type": "code",
   "execution_count": 47,
   "metadata": {
    "_kg_hide-input": true,
    "execution": {
     "iopub.execute_input": "2020-12-18T12:14:46.542596Z",
     "iopub.status.busy": "2020-12-18T12:14:46.541916Z",
     "iopub.status.idle": "2020-12-18T12:14:46.562714Z",
     "shell.execute_reply": "2020-12-18T12:14:46.562124Z"
    },
    "papermill": {
     "duration": 0.103115,
     "end_time": "2020-12-18T12:14:46.562834",
     "exception": false,
     "start_time": "2020-12-18T12:14:46.459719",
     "status": "completed"
    },
    "tags": []
   },
   "outputs": [
    {
     "data": {
      "text/html": [
       "<style  type=\"text/css\" >\n",
       "#T_9e51b674_412a_11eb_8f60_0242ac130202row0_col0{\n",
       "            width:  10em;\n",
       "             height:  80%;\n",
       "            background:  linear-gradient(90deg,#72efdd 100.0%, transparent 100.0%);\n",
       "        }#T_9e51b674_412a_11eb_8f60_0242ac130202row1_col0{\n",
       "            width:  10em;\n",
       "             height:  80%;\n",
       "            background:  linear-gradient(90deg,#72efdd 5.0%, transparent 5.0%);\n",
       "        }#T_9e51b674_412a_11eb_8f60_0242ac130202row2_col0{\n",
       "            width:  10em;\n",
       "             height:  80%;\n",
       "            background:  linear-gradient(90deg,#72efdd 3.2%, transparent 3.2%);\n",
       "        }#T_9e51b674_412a_11eb_8f60_0242ac130202row3_col0{\n",
       "            width:  10em;\n",
       "             height:  80%;\n",
       "            background:  linear-gradient(90deg,#72efdd 2.7%, transparent 2.7%);\n",
       "        }#T_9e51b674_412a_11eb_8f60_0242ac130202row4_col0{\n",
       "            width:  10em;\n",
       "             height:  80%;\n",
       "            background:  linear-gradient(90deg,#72efdd 1.6%, transparent 1.6%);\n",
       "        }#T_9e51b674_412a_11eb_8f60_0242ac130202row5_col0{\n",
       "            width:  10em;\n",
       "             height:  80%;\n",
       "            background:  linear-gradient(90deg,#72efdd 0.9%, transparent 0.9%);\n",
       "        }#T_9e51b674_412a_11eb_8f60_0242ac130202row6_col0{\n",
       "            width:  10em;\n",
       "             height:  80%;\n",
       "            background:  linear-gradient(90deg,#72efdd 0.7%, transparent 0.7%);\n",
       "        }#T_9e51b674_412a_11eb_8f60_0242ac130202row7_col0,#T_9e51b674_412a_11eb_8f60_0242ac130202row8_col0,#T_9e51b674_412a_11eb_8f60_0242ac130202row9_col0{\n",
       "            width:  10em;\n",
       "             height:  80%;\n",
       "            background:  linear-gradient(90deg,#72efdd 0.4%, transparent 0.4%);\n",
       "        }#T_9e51b674_412a_11eb_8f60_0242ac130202row10_col0,#T_9e51b674_412a_11eb_8f60_0242ac130202row11_col0,#T_9e51b674_412a_11eb_8f60_0242ac130202row12_col0,#T_9e51b674_412a_11eb_8f60_0242ac130202row13_col0,#T_9e51b674_412a_11eb_8f60_0242ac130202row14_col0,#T_9e51b674_412a_11eb_8f60_0242ac130202row15_col0,#T_9e51b674_412a_11eb_8f60_0242ac130202row16_col0{\n",
       "            width:  10em;\n",
       "             height:  80%;\n",
       "            background:  linear-gradient(90deg,#72efdd 0.2%, transparent 0.2%);\n",
       "        }#T_9e51b674_412a_11eb_8f60_0242ac130202row17_col0,#T_9e51b674_412a_11eb_8f60_0242ac130202row18_col0,#T_9e51b674_412a_11eb_8f60_0242ac130202row19_col0{\n",
       "            width:  10em;\n",
       "             height:  80%;\n",
       "        }</style><table id=\"T_9e51b674_412a_11eb_8f60_0242ac130202\" ><thead>    <tr>        <th class=\"blank level0\" ></th>        <th class=\"col_heading level0 col0\" >Number of movies</th>    </tr></thead><tbody>\n",
       "                <tr>\n",
       "                        <th id=\"T_9e51b674_412a_11eb_8f60_0242ac130202level0_row0\" class=\"row_heading level0 row0\" >English</th>\n",
       "                        <td id=\"T_9e51b674_412a_11eb_8f60_0242ac130202row0_col0\" class=\"data row0 col0\" >557</td>\n",
       "            </tr>\n",
       "            <tr>\n",
       "                        <th id=\"T_9e51b674_412a_11eb_8f60_0242ac130202level0_row1\" class=\"row_heading level0 row1\" >French</th>\n",
       "                        <td id=\"T_9e51b674_412a_11eb_8f60_0242ac130202row1_col0\" class=\"data row1 col0\" >30</td>\n",
       "            </tr>\n",
       "            <tr>\n",
       "                        <th id=\"T_9e51b674_412a_11eb_8f60_0242ac130202level0_row2\" class=\"row_heading level0 row2\" >Spanish</th>\n",
       "                        <td id=\"T_9e51b674_412a_11eb_8f60_0242ac130202row2_col0\" class=\"data row2 col0\" >20</td>\n",
       "            </tr>\n",
       "            <tr>\n",
       "                        <th id=\"T_9e51b674_412a_11eb_8f60_0242ac130202level0_row3\" class=\"row_heading level0 row3\" >German</th>\n",
       "                        <td id=\"T_9e51b674_412a_11eb_8f60_0242ac130202row3_col0\" class=\"data row3 col0\" >17</td>\n",
       "            </tr>\n",
       "            <tr>\n",
       "                        <th id=\"T_9e51b674_412a_11eb_8f60_0242ac130202level0_row4\" class=\"row_heading level0 row4\" >Italian</th>\n",
       "                        <td id=\"T_9e51b674_412a_11eb_8f60_0242ac130202row4_col0\" class=\"data row4 col0\" >11</td>\n",
       "            </tr>\n",
       "            <tr>\n",
       "                        <th id=\"T_9e51b674_412a_11eb_8f60_0242ac130202level0_row5\" class=\"row_heading level0 row5\" >Mandarin</th>\n",
       "                        <td id=\"T_9e51b674_412a_11eb_8f60_0242ac130202row5_col0\" class=\"data row5 col0\" >7</td>\n",
       "            </tr>\n",
       "            <tr>\n",
       "                        <th id=\"T_9e51b674_412a_11eb_8f60_0242ac130202level0_row6\" class=\"row_heading level0 row6\" >Japanese</th>\n",
       "                        <td id=\"T_9e51b674_412a_11eb_8f60_0242ac130202row6_col0\" class=\"data row6 col0\" >6</td>\n",
       "            </tr>\n",
       "            <tr>\n",
       "                        <th id=\"T_9e51b674_412a_11eb_8f60_0242ac130202level0_row7\" class=\"row_heading level0 row7\" >Xhosa</th>\n",
       "                        <td id=\"T_9e51b674_412a_11eb_8f60_0242ac130202row7_col0\" class=\"data row7 col0\" >4</td>\n",
       "            </tr>\n",
       "            <tr>\n",
       "                        <th id=\"T_9e51b674_412a_11eb_8f60_0242ac130202level0_row8\" class=\"row_heading level0 row8\" >Russian</th>\n",
       "                        <td id=\"T_9e51b674_412a_11eb_8f60_0242ac130202row8_col0\" class=\"data row8 col0\" >4</td>\n",
       "            </tr>\n",
       "            <tr>\n",
       "                        <th id=\"T_9e51b674_412a_11eb_8f60_0242ac130202level0_row9\" class=\"row_heading level0 row9\" >Korean</th>\n",
       "                        <td id=\"T_9e51b674_412a_11eb_8f60_0242ac130202row9_col0\" class=\"data row9 col0\" >4</td>\n",
       "            </tr>\n",
       "            <tr>\n",
       "                        <th id=\"T_9e51b674_412a_11eb_8f60_0242ac130202level0_row10\" class=\"row_heading level0 row10\" >Greek</th>\n",
       "                        <td id=\"T_9e51b674_412a_11eb_8f60_0242ac130202row10_col0\" class=\"data row10 col0\" >3</td>\n",
       "            </tr>\n",
       "            <tr>\n",
       "                        <th id=\"T_9e51b674_412a_11eb_8f60_0242ac130202level0_row11\" class=\"row_heading level0 row11\" >Cantonese</th>\n",
       "                        <td id=\"T_9e51b674_412a_11eb_8f60_0242ac130202row11_col0\" class=\"data row11 col0\" >3</td>\n",
       "            </tr>\n",
       "            <tr>\n",
       "                        <th id=\"T_9e51b674_412a_11eb_8f60_0242ac130202level0_row12\" class=\"row_heading level0 row12\" >Norwegian</th>\n",
       "                        <td id=\"T_9e51b674_412a_11eb_8f60_0242ac130202row12_col0\" class=\"data row12 col0\" >3</td>\n",
       "            </tr>\n",
       "            <tr>\n",
       "                        <th id=\"T_9e51b674_412a_11eb_8f60_0242ac130202level0_row13\" class=\"row_heading level0 row13\" >Brazilian Sign Language</th>\n",
       "                        <td id=\"T_9e51b674_412a_11eb_8f60_0242ac130202row13_col0\" class=\"data row13 col0\" >3</td>\n",
       "            </tr>\n",
       "            <tr>\n",
       "                        <th id=\"T_9e51b674_412a_11eb_8f60_0242ac130202level0_row14\" class=\"row_heading level0 row14\" >Arabic</th>\n",
       "                        <td id=\"T_9e51b674_412a_11eb_8f60_0242ac130202row14_col0\" class=\"data row14 col0\" >3</td>\n",
       "            </tr>\n",
       "            <tr>\n",
       "                        <th id=\"T_9e51b674_412a_11eb_8f60_0242ac130202level0_row15\" class=\"row_heading level0 row15\" >Portuguese</th>\n",
       "                        <td id=\"T_9e51b674_412a_11eb_8f60_0242ac130202row15_col0\" class=\"data row15 col0\" >3</td>\n",
       "            </tr>\n",
       "            <tr>\n",
       "                        <th id=\"T_9e51b674_412a_11eb_8f60_0242ac130202level0_row16\" class=\"row_heading level0 row16\" >Hindi</th>\n",
       "                        <td id=\"T_9e51b674_412a_11eb_8f60_0242ac130202row16_col0\" class=\"data row16 col0\" >3</td>\n",
       "            </tr>\n",
       "            <tr>\n",
       "                        <th id=\"T_9e51b674_412a_11eb_8f60_0242ac130202level0_row17\" class=\"row_heading level0 row17\" >Hawaiian</th>\n",
       "                        <td id=\"T_9e51b674_412a_11eb_8f60_0242ac130202row17_col0\" class=\"data row17 col0\" >2</td>\n",
       "            </tr>\n",
       "            <tr>\n",
       "                        <th id=\"T_9e51b674_412a_11eb_8f60_0242ac130202level0_row18\" class=\"row_heading level0 row18\" >Swahili</th>\n",
       "                        <td id=\"T_9e51b674_412a_11eb_8f60_0242ac130202row18_col0\" class=\"data row18 col0\" >2</td>\n",
       "            </tr>\n",
       "            <tr>\n",
       "                        <th id=\"T_9e51b674_412a_11eb_8f60_0242ac130202level0_row19\" class=\"row_heading level0 row19\" >Inuktitut</th>\n",
       "                        <td id=\"T_9e51b674_412a_11eb_8f60_0242ac130202row19_col0\" class=\"data row19 col0\" >2</td>\n",
       "            </tr>\n",
       "    </tbody></table>"
      ],
      "text/plain": [
       "<pandas.io.formats.style.Styler at 0x7fc604f6c510>"
      ]
     },
     "execution_count": 47,
     "metadata": {},
     "output_type": "execute_result"
    }
   ],
   "source": [
    "bar(df_l_merged,'Disney+','#72efdd')"
   ]
  },
  {
   "cell_type": "code",
   "execution_count": 48,
   "metadata": {
    "_kg_hide-input": true,
    "execution": {
     "iopub.execute_input": "2020-12-18T12:14:46.723273Z",
     "iopub.status.busy": "2020-12-18T12:14:46.722630Z",
     "iopub.status.idle": "2020-12-18T12:14:46.739929Z",
     "shell.execute_reply": "2020-12-18T12:14:46.739355Z"
    },
    "papermill": {
     "duration": 0.100007,
     "end_time": "2020-12-18T12:14:46.740056",
     "exception": false,
     "start_time": "2020-12-18T12:14:46.640049",
     "status": "completed"
    },
    "tags": []
   },
   "outputs": [
    {
     "data": {
      "text/html": [
       "<style  type=\"text/css\" >\n",
       "#T_9e6cb97e_412a_11eb_8f60_0242ac130202row0_col0{\n",
       "            width:  10em;\n",
       "             height:  80%;\n",
       "            background:  linear-gradient(90deg,#72efdd 100.0%, transparent 100.0%);\n",
       "        }#T_9e6cb97e_412a_11eb_8f60_0242ac130202row1_col0{\n",
       "            width:  10em;\n",
       "             height:  80%;\n",
       "            background:  linear-gradient(90deg,#72efdd 64.0%, transparent 64.0%);\n",
       "        }#T_9e6cb97e_412a_11eb_8f60_0242ac130202row2_col0{\n",
       "            width:  10em;\n",
       "             height:  80%;\n",
       "            background:  linear-gradient(90deg,#72efdd 58.5%, transparent 58.5%);\n",
       "        }#T_9e6cb97e_412a_11eb_8f60_0242ac130202row3_col0{\n",
       "            width:  10em;\n",
       "             height:  80%;\n",
       "            background:  linear-gradient(90deg,#72efdd 38.6%, transparent 38.6%);\n",
       "        }#T_9e6cb97e_412a_11eb_8f60_0242ac130202row4_col0{\n",
       "            width:  10em;\n",
       "             height:  80%;\n",
       "            background:  linear-gradient(90deg,#72efdd 35.3%, transparent 35.3%);\n",
       "        }#T_9e6cb97e_412a_11eb_8f60_0242ac130202row5_col0{\n",
       "            width:  10em;\n",
       "             height:  80%;\n",
       "            background:  linear-gradient(90deg,#72efdd 31.4%, transparent 31.4%);\n",
       "        }#T_9e6cb97e_412a_11eb_8f60_0242ac130202row6_col0,#T_9e6cb97e_412a_11eb_8f60_0242ac130202row7_col0{\n",
       "            width:  10em;\n",
       "             height:  80%;\n",
       "            background:  linear-gradient(90deg,#72efdd 17.4%, transparent 17.4%);\n",
       "        }#T_9e6cb97e_412a_11eb_8f60_0242ac130202row8_col0{\n",
       "            width:  10em;\n",
       "             height:  80%;\n",
       "            background:  linear-gradient(90deg,#72efdd 16.4%, transparent 16.4%);\n",
       "        }#T_9e6cb97e_412a_11eb_8f60_0242ac130202row9_col0{\n",
       "            width:  10em;\n",
       "             height:  80%;\n",
       "            background:  linear-gradient(90deg,#72efdd 15.0%, transparent 15.0%);\n",
       "        }#T_9e6cb97e_412a_11eb_8f60_0242ac130202row10_col0{\n",
       "            width:  10em;\n",
       "             height:  80%;\n",
       "            background:  linear-gradient(90deg,#72efdd 11.4%, transparent 11.4%);\n",
       "        }#T_9e6cb97e_412a_11eb_8f60_0242ac130202row11_col0{\n",
       "            width:  10em;\n",
       "             height:  80%;\n",
       "            background:  linear-gradient(90deg,#72efdd 5.6%, transparent 5.6%);\n",
       "        }#T_9e6cb97e_412a_11eb_8f60_0242ac130202row12_col0{\n",
       "            width:  10em;\n",
       "             height:  80%;\n",
       "            background:  linear-gradient(90deg,#72efdd 4.1%, transparent 4.1%);\n",
       "        }#T_9e6cb97e_412a_11eb_8f60_0242ac130202row13_col0{\n",
       "            width:  10em;\n",
       "             height:  80%;\n",
       "            background:  linear-gradient(90deg,#72efdd 1.9%, transparent 1.9%);\n",
       "        }#T_9e6cb97e_412a_11eb_8f60_0242ac130202row14_col0{\n",
       "            width:  10em;\n",
       "             height:  80%;\n",
       "            background:  linear-gradient(90deg,#72efdd 1.7%, transparent 1.7%);\n",
       "        }#T_9e6cb97e_412a_11eb_8f60_0242ac130202row15_col0{\n",
       "            width:  10em;\n",
       "             height:  80%;\n",
       "            background:  linear-gradient(90deg,#72efdd 1.2%, transparent 1.2%);\n",
       "        }#T_9e6cb97e_412a_11eb_8f60_0242ac130202row16_col0{\n",
       "            width:  10em;\n",
       "             height:  80%;\n",
       "            background:  linear-gradient(90deg,#72efdd 0.5%, transparent 0.5%);\n",
       "        }#T_9e6cb97e_412a_11eb_8f60_0242ac130202row17_col0,#T_9e6cb97e_412a_11eb_8f60_0242ac130202row18_col0,#T_9e6cb97e_412a_11eb_8f60_0242ac130202row19_col0{\n",
       "            width:  10em;\n",
       "             height:  80%;\n",
       "        }</style><table id=\"T_9e6cb97e_412a_11eb_8f60_0242ac130202\" ><thead>    <tr>        <th class=\"blank level0\" ></th>        <th class=\"col_heading level0 col0\" >Number of movies</th>    </tr></thead><tbody>\n",
       "                <tr>\n",
       "                        <th id=\"T_9e6cb97e_412a_11eb_8f60_0242ac130202level0_row0\" class=\"row_heading level0 row0\" >Family</th>\n",
       "                        <td id=\"T_9e6cb97e_412a_11eb_8f60_0242ac130202row0_col0\" class=\"data row0 col0\" >430</td>\n",
       "            </tr>\n",
       "            <tr>\n",
       "                        <th id=\"T_9e6cb97e_412a_11eb_8f60_0242ac130202level0_row1\" class=\"row_heading level0 row1\" >Comedy</th>\n",
       "                        <td id=\"T_9e6cb97e_412a_11eb_8f60_0242ac130202row1_col0\" class=\"data row1 col0\" >281</td>\n",
       "            </tr>\n",
       "            <tr>\n",
       "                        <th id=\"T_9e6cb97e_412a_11eb_8f60_0242ac130202level0_row2\" class=\"row_heading level0 row2\" >Adventure</th>\n",
       "                        <td id=\"T_9e6cb97e_412a_11eb_8f60_0242ac130202row2_col0\" class=\"data row2 col0\" >258</td>\n",
       "            </tr>\n",
       "            <tr>\n",
       "                        <th id=\"T_9e6cb97e_412a_11eb_8f60_0242ac130202level0_row3\" class=\"row_heading level0 row3\" >Fantasy</th>\n",
       "                        <td id=\"T_9e6cb97e_412a_11eb_8f60_0242ac130202row3_col0\" class=\"data row3 col0\" >176</td>\n",
       "            </tr>\n",
       "            <tr>\n",
       "                        <th id=\"T_9e6cb97e_412a_11eb_8f60_0242ac130202level0_row4\" class=\"row_heading level0 row4\" >Drama</th>\n",
       "                        <td id=\"T_9e6cb97e_412a_11eb_8f60_0242ac130202row4_col0\" class=\"data row4 col0\" >162</td>\n",
       "            </tr>\n",
       "            <tr>\n",
       "                        <th id=\"T_9e6cb97e_412a_11eb_8f60_0242ac130202level0_row5\" class=\"row_heading level0 row5\" >Animation</th>\n",
       "                        <td id=\"T_9e6cb97e_412a_11eb_8f60_0242ac130202row5_col0\" class=\"data row5 col0\" >146</td>\n",
       "            </tr>\n",
       "            <tr>\n",
       "                        <th id=\"T_9e6cb97e_412a_11eb_8f60_0242ac130202level0_row6\" class=\"row_heading level0 row6\" >Action</th>\n",
       "                        <td id=\"T_9e6cb97e_412a_11eb_8f60_0242ac130202row6_col0\" class=\"data row6 col0\" >88</td>\n",
       "            </tr>\n",
       "            <tr>\n",
       "                        <th id=\"T_9e6cb97e_412a_11eb_8f60_0242ac130202level0_row7\" class=\"row_heading level0 row7\" >Sci-Fi</th>\n",
       "                        <td id=\"T_9e6cb97e_412a_11eb_8f60_0242ac130202row7_col0\" class=\"data row7 col0\" >88</td>\n",
       "            </tr>\n",
       "            <tr>\n",
       "                        <th id=\"T_9e6cb97e_412a_11eb_8f60_0242ac130202level0_row8\" class=\"row_heading level0 row8\" >Musical</th>\n",
       "                        <td id=\"T_9e6cb97e_412a_11eb_8f60_0242ac130202row8_col0\" class=\"data row8 col0\" >84</td>\n",
       "            </tr>\n",
       "            <tr>\n",
       "                        <th id=\"T_9e6cb97e_412a_11eb_8f60_0242ac130202level0_row9\" class=\"row_heading level0 row9\" >Romance</th>\n",
       "                        <td id=\"T_9e6cb97e_412a_11eb_8f60_0242ac130202row9_col0\" class=\"data row9 col0\" >78</td>\n",
       "            </tr>\n",
       "            <tr>\n",
       "                        <th id=\"T_9e6cb97e_412a_11eb_8f60_0242ac130202level0_row10\" class=\"row_heading level0 row10\" >Documentary</th>\n",
       "                        <td id=\"T_9e6cb97e_412a_11eb_8f60_0242ac130202row10_col0\" class=\"data row10 col0\" >63</td>\n",
       "            </tr>\n",
       "            <tr>\n",
       "                        <th id=\"T_9e6cb97e_412a_11eb_8f60_0242ac130202level0_row11\" class=\"row_heading level0 row11\" >Sport</th>\n",
       "                        <td id=\"T_9e6cb97e_412a_11eb_8f60_0242ac130202row11_col0\" class=\"data row11 col0\" >39</td>\n",
       "            </tr>\n",
       "            <tr>\n",
       "                        <th id=\"T_9e6cb97e_412a_11eb_8f60_0242ac130202level0_row12\" class=\"row_heading level0 row12\" >Music</th>\n",
       "                        <td id=\"T_9e6cb97e_412a_11eb_8f60_0242ac130202row12_col0\" class=\"data row12 col0\" >33</td>\n",
       "            </tr>\n",
       "            <tr>\n",
       "                        <th id=\"T_9e6cb97e_412a_11eb_8f60_0242ac130202level0_row13\" class=\"row_heading level0 row13\" >Crime</th>\n",
       "                        <td id=\"T_9e6cb97e_412a_11eb_8f60_0242ac130202row13_col0\" class=\"data row13 col0\" >24</td>\n",
       "            </tr>\n",
       "            <tr>\n",
       "                        <th id=\"T_9e6cb97e_412a_11eb_8f60_0242ac130202level0_row14\" class=\"row_heading level0 row14\" >Short</th>\n",
       "                        <td id=\"T_9e6cb97e_412a_11eb_8f60_0242ac130202row14_col0\" class=\"data row14 col0\" >23</td>\n",
       "            </tr>\n",
       "            <tr>\n",
       "                        <th id=\"T_9e6cb97e_412a_11eb_8f60_0242ac130202level0_row15\" class=\"row_heading level0 row15\" >Mystery</th>\n",
       "                        <td id=\"T_9e6cb97e_412a_11eb_8f60_0242ac130202row15_col0\" class=\"data row15 col0\" >21</td>\n",
       "            </tr>\n",
       "            <tr>\n",
       "                        <th id=\"T_9e6cb97e_412a_11eb_8f60_0242ac130202level0_row16\" class=\"row_heading level0 row16\" >Biography</th>\n",
       "                        <td id=\"T_9e6cb97e_412a_11eb_8f60_0242ac130202row16_col0\" class=\"data row16 col0\" >18</td>\n",
       "            </tr>\n",
       "            <tr>\n",
       "                        <th id=\"T_9e6cb97e_412a_11eb_8f60_0242ac130202level0_row17\" class=\"row_heading level0 row17\" >Western</th>\n",
       "                        <td id=\"T_9e6cb97e_412a_11eb_8f60_0242ac130202row17_col0\" class=\"data row17 col0\" >16</td>\n",
       "            </tr>\n",
       "            <tr>\n",
       "                        <th id=\"T_9e6cb97e_412a_11eb_8f60_0242ac130202level0_row18\" class=\"row_heading level0 row18\" >History</th>\n",
       "                        <td id=\"T_9e6cb97e_412a_11eb_8f60_0242ac130202row18_col0\" class=\"data row18 col0\" >16</td>\n",
       "            </tr>\n",
       "            <tr>\n",
       "                        <th id=\"T_9e6cb97e_412a_11eb_8f60_0242ac130202level0_row19\" class=\"row_heading level0 row19\" >Thriller</th>\n",
       "                        <td id=\"T_9e6cb97e_412a_11eb_8f60_0242ac130202row19_col0\" class=\"data row19 col0\" >16</td>\n",
       "            </tr>\n",
       "    </tbody></table>"
      ],
      "text/plain": [
       "<pandas.io.formats.style.Styler at 0x7fc604f6c2d0>"
      ]
     },
     "execution_count": 48,
     "metadata": {},
     "output_type": "execute_result"
    }
   ],
   "source": [
    "bar(df_g_merged,'Disney+','#72efdd')"
   ]
  }
 ],
 "metadata": {
  "kernelspec": {
   "display_name": "Python 3",
   "language": "python",
   "name": "python3"
  },
  "language_info": {
   "codemirror_mode": {
    "name": "ipython",
    "version": 3
   },
   "file_extension": ".py",
   "mimetype": "text/x-python",
   "name": "python",
   "nbconvert_exporter": "python",
   "pygments_lexer": "ipython3",
   "version": "3.7.6"
  },
  "papermill": {
   "duration": 28.855723,
   "end_time": "2020-12-18T12:14:46.930581",
   "environment_variables": {},
   "exception": null,
   "input_path": "__notebook__.ipynb",
   "output_path": "__notebook__.ipynb",
   "parameters": {},
   "start_time": "2020-12-18T12:14:18.074858",
   "version": "2.1.0"
  }
 },
 "nbformat": 4,
 "nbformat_minor": 4
}
