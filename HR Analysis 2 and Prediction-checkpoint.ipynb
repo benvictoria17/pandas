{
 "cells": [
  {
   "cell_type": "code",
   "execution_count": null,
   "metadata": {},
   "outputs": [],
   "source": [
    "import numpy as np \n",
    "import pandas as pd \n",
    "import matplotlib.pyplot as plt\n",
    "import seaborn as sns\n",
    "%matplotlib inline"
   ]
  },
  {
   "cell_type": "code",
   "execution_count": null,
   "metadata": {},
   "outputs": [],
   "source": [
    "dataset = pd.read_csv(\"https://raw.githubusercontent.com/dthatprince/Human-Resource-Data-Prediction-Analysis/master/HR_comma_sep.csv\")\n",
    "data = dataset.copy()"
   ]
  },
  {
   "cell_type": "code",
   "execution_count": null,
   "metadata": {},
   "outputs": [],
   "source": [
    "data.shape"
   ]
  },
  {
   "cell_type": "code",
   "execution_count": null,
   "metadata": {},
   "outputs": [],
   "source": [
    "data.dtypes"
   ]
  },
  {
   "cell_type": "code",
   "execution_count": null,
   "metadata": {},
   "outputs": [],
   "source": [
    "correlation = data.corr()\n",
    "correlation"
   ]
  },
  {
   "cell_type": "code",
   "execution_count": null,
   "metadata": {},
   "outputs": [],
   "source": [
    "plt.figure(figsize=(10,10))\n",
    "sns.heatmap(correlation,vmax=1,vmin=-1,square=True,annot=True,linewidths=.5,cmap=\"YlGnBu\")\n",
    "plt.show()"
   ]
  },
  {
   "cell_type": "code",
   "execution_count": null,
   "metadata": {},
   "outputs": [],
   "source": [
    "data['Current_Status'] = data['left'].apply(lambda x: 'Stay' if x == 0 else 'Leave')\n",
    "data.groupby(['sales','salary','Current_Status']).size()"
   ]
  },
  {
   "cell_type": "code",
   "execution_count": null,
   "metadata": {},
   "outputs": [],
   "source": [
    "leave = data[(data['left'] == 1)]\n",
    "stay = data[(data['left']==0)]\n",
    "dept_name = data['sales'].unique()\n",
    "name=['Sales','Accounting','HR','Technical','Support','Management','IT','Product Management','Marketing','RandD']\n",
    "index = range(10)\n",
    "\n",
    "plt.figure(1,figsize=(12,8))\n",
    "\n",
    "plt.subplot(1,2,1)\n",
    "leave['sales'].value_counts().plot(kind='bar')\n",
    "plt.title('Employess who \"LEAVE\" the company by department')\n",
    "plt.xticks(index,name)\n",
    "\n",
    "\n",
    "plt.subplot(1,2,2)\n",
    "stay['sales'].value_counts().plot(kind='bar',color='orange')\n",
    "plt.title('Employess who \"STAY\" in the company by department')\n",
    "plt.xticks(index,name)\n",
    "plt.show()"
   ]
  },
  {
   "cell_type": "code",
   "execution_count": null,
   "metadata": {},
   "outputs": [],
   "source": [
    "Leave_salary_level_count = leave['salary'].value_counts()\n",
    "Stay_salary_level_count = stay['salary'].value_counts()\n",
    "\n",
    "plt.figure(1,figsize=(12,8))\n",
    "plt.subplot(1,2,1)\n",
    "Leave_salary_level_count.plot(kind='bar',rot=0)\n",
    "plt.title('No. of employees who \\n LEAVE the company by salary level ')\n",
    "\n",
    "plt.subplot(1,2,2)\n",
    "Stay_salary_level_count.plot(kind='bar',rot=0,color='orange')\n",
    "plt.title('No. of employees who \\n STAY the company by salary level ')\n",
    "plt.show()"
   ]
  },
  {
   "cell_type": "code",
   "execution_count": null,
   "metadata": {},
   "outputs": [],
   "source": [
    "def bar_plot_dept_leave_salary(department):\n",
    "    dept_leave = leave[leave['sales'] ==department]\n",
    "    count = dept_leave['salary'].value_counts()\n",
    "    index = [1,2,3]\n",
    "    plt.bar(index,count,width=0.5, color='orange')\n",
    "    plt.xticks(index,['Low','Medium','High'])\n",
    "    \n",
    "def bar_plot_dept_stay_salary(department):\n",
    "    dept_stay = stay[stay['sales'] ==department]\n",
    "    count = dept_stay['salary'].value_counts()\n",
    "    index = [1,2,3]\n",
    "    plt.bar(index,count,width=0.5,color='green')\n",
    "    plt.xticks(index,['Low','Medium','High'])"
   ]
  },
  {
   "cell_type": "code",
   "execution_count": null,
   "metadata": {},
   "outputs": [],
   "source": [
    "plt.figure(1,figsize=(12,8))\n",
    "for i in range(10):\n",
    "    plt.subplot(2,5,i+1)\n",
    "    bar_plot_dept_leave_salary(dept_name[i])\n",
    "    plt.title(name[i])\n",
    "plt.suptitle('LEAVE BY SALARY IN DEPT')\n",
    "plt.show()"
   ]
  },
  {
   "cell_type": "code",
   "execution_count": null,
   "metadata": {},
   "outputs": [],
   "source": [
    "plt.figure(1,figsize=(12,8))\n",
    "for i in range(10):\n",
    "    plt.subplot(2,5,i+1)\n",
    "    bar_plot_dept_stay_salary(dept_name[i])\n",
    "    plt.title(name[i])\n",
    "plt.suptitle('STAY BY SALARY IN DEPT')\n",
    "plt.show()"
   ]
  },
  {
   "cell_type": "code",
   "execution_count": null,
   "metadata": {},
   "outputs": [],
   "source": [
    "leave_time_spent_count = leave['time_spend_company'].value_counts().sort_index()\n",
    "stay_time_spent_count = stay['time_spend_company'].value_counts().sort_index()\n",
    "\n",
    "plt.figure(1,figsize=(12,8))\n",
    "plt.subplot(1,2,1)\n",
    "leave_time_spent_count.plot(kind='bar',rot=0)\n",
    "plt.title('Years spent in the \\n company before LEAVING')\n",
    "plt.xlabel('Years')\n",
    "plt.ylabel('No. of employees')\n",
    "\n",
    "plt.subplot(1,2,2)\n",
    "stay_time_spent_count.plot(kind='bar',rot=0,color='green')\n",
    "plt.title('Years spent in the \\n company without leaving(STAYING)')\n",
    "plt.xlabel('Years')\n",
    "plt.ylabel('No. of employees')\n",
    "plt.show()"
   ]
  },
  {
   "cell_type": "code",
   "execution_count": null,
   "metadata": {},
   "outputs": [],
   "source": [
    "#Prediction Analysis\n",
    "\n",
    "from sklearn.linear_model import LogisticRegression\n",
    "from sklearn.neighbors import KNeighborsClassifier\n",
    "from sklearn.svm import SVC\n",
    "from sklearn.tree import DecisionTreeClassifier\n",
    "from sklearn.ensemble import RandomForestClassifier, AdaBoostClassifier\n",
    "from sklearn.naive_bayes import GaussianNB\n",
    "from sklearn.model_selection import train_test_split"
   ]
  },
  {
   "cell_type": "code",
   "execution_count": null,
   "metadata": {},
   "outputs": [],
   "source": [
    "del data['sales']\n",
    "del data['salary']\n",
    "del data['Current_Status']"
   ]
  },
  {
   "cell_type": "code",
   "execution_count": null,
   "metadata": {},
   "outputs": [],
   "source": [
    "label = data.pop('left')\n",
    "data_train,data_test,label_train,label_test = train_test_split(data, label, test_size = 0.2, random_state = 42)"
   ]
  },
  {
   "cell_type": "code",
   "execution_count": null,
   "metadata": {},
   "outputs": [],
   "source": [
    "Classifiers = [\n",
    "    LogisticRegression(),\n",
    "    KNeighborsClassifier(),\n",
    "    SVC(),\n",
    "    DecisionTreeClassifier(),\n",
    "    RandomForestClassifier(),\n",
    "    AdaBoostClassifier(),\n",
    "    GaussianNB()]\n",
    "\n",
    "def run_classifiers(data_train,label_train,data_test,label_test):\n",
    "    Training_score = []\n",
    "    Testing_score = []\n",
    "    Model = []\n",
    "    Accuracy = []\n",
    "    for classifier in Classifiers:\n",
    "        Model.append(classifier.__class__.__name__)\n",
    "        classifier.fit(data_train,label_train)\n",
    "        Trs = classifier.score(data_train,label_train)\n",
    "        Training_score.append(Trs)\n",
    "        Tes = classifier.score(data_test,label_test)\n",
    "        Testing_score.append(Tes)\n",
    "    \n",
    "        print (\"\"+Model[i]+\" training score : \"+ \\\n",
    "        Training_score[i]+\" and testing score : \"+Testing_score[i])"
   ]
  },
  {
   "cell_type": "code",
   "execution_count": null,
   "metadata": {},
   "outputs": [],
   "source": [
    "Training_score = []\n",
    "Testing_score = []\n",
    "Model = []\n",
    "def run_classifiers(data_train,label_train,data_test,label_test):\n",
    "    Training_score = []\n",
    "    Testing_score = []\n",
    "    Model = []\n",
    "    Accuracy = []\n",
    "    for classifier in Classifiers:\n",
    "        Model.append(classifier.__class__.__name__)\n",
    "        classifier.fit(data_train,label_train)\n",
    "        Training_score.append(classifier.score(data_train,label_train))\n",
    "        Testing_score.append(classifier.score(data_test,label_test))\n",
    "    for i in range(7):\n",
    "        print (\"\"+str(Model[i])+\" training score : \"+str(Training_score[i])+\n",
    "               \" and testing score : \"+ str(Testing_score[i]))"
   ]
  },
  {
   "cell_type": "code",
   "execution_count": null,
   "metadata": {},
   "outputs": [],
   "source": [
    "run_classifiers(data_train,label_train,data_test,label_test)"
   ]
  }
 ],
 "metadata": {
  "kernelspec": {
   "display_name": "Python 3",
   "language": "python",
   "name": "python3"
  },
  "language_info": {
   "codemirror_mode": {
    "name": "ipython",
    "version": 3
   },
   "file_extension": ".py",
   "mimetype": "text/x-python",
   "name": "python",
   "nbconvert_exporter": "python",
   "pygments_lexer": "ipython3",
   "version": "3.8.3"
  }
 },
 "nbformat": 4,
 "nbformat_minor": 4
}
