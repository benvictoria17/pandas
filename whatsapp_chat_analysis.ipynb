{
  "nbformat": 4,
  "nbformat_minor": 0,
  "metadata": {
    "kernelspec": {
      "display_name": "Python 3",
      "language": "python",
      "name": "python3"
    },
    "language_info": {
      "codemirror_mode": {
        "name": "ipython",
        "version": 3
      },
      "file_extension": ".py",
      "mimetype": "text/x-python",
      "name": "python",
      "nbconvert_exporter": "python",
      "pygments_lexer": "ipython3",
      "version": "3.8.3"
    },
    "colab": {
      "name": "whatsapp_chat_analysis.ipynb",
      "provenance": [],
      "include_colab_link": true
    }
  },
  "cells": [
    {
      "cell_type": "markdown",
      "metadata": {
        "id": "view-in-github",
        "colab_type": "text"
      },
      "source": [
        "<a href=\"https://colab.research.google.com/github/benvictoria17/pandas/blob/master/whatsapp_chat_analysis.ipynb\" target=\"_parent\"><img src=\"https://colab.research.google.com/assets/colab-badge.svg\" alt=\"Open In Colab\"/></a>"
      ]
    },
    {
      "cell_type": "code",
      "metadata": {
        "id": "T-3MMVs__yPC"
      },
      "source": [
        "import pandas as pd\n",
        "df = pd.read_csv('https://raw.githubusercontent.com/benvictoria17/pandas/master/dataset/Whatsapp_chat.csv')"
      ],
      "execution_count": 8,
      "outputs": []
    },
    {
      "cell_type": "code",
      "metadata": {
        "colab": {
          "base_uri": "https://localhost:8080/"
        },
        "id": "ZL8zsp59_yRO",
        "outputId": "dedc757b-c98b-47c2-fd01-09ad255de567"
      },
      "source": [
        "df.info()"
      ],
      "execution_count": 9,
      "outputs": [
        {
          "output_type": "stream",
          "text": [
            "<class 'pandas.core.frame.DataFrame'>\n",
            "RangeIndex: 51575 entries, 0 to 51574\n",
            "Data columns (total 6 columns):\n",
            " #   Column      Non-Null Count  Dtype \n",
            "---  ------      --------------  ----- \n",
            " 0   Unnamed: 0  51575 non-null  int64 \n",
            " 1   hours       51575 non-null  int64 \n",
            " 2   days        51575 non-null  int64 \n",
            " 3   months      51575 non-null  object\n",
            " 4   names       51575 non-null  object\n",
            " 5   timestamp   51575 non-null  object\n",
            "dtypes: int64(3), object(3)\n",
            "memory usage: 2.4+ MB\n"
          ],
          "name": "stdout"
        }
      ]
    },
    {
      "cell_type": "code",
      "metadata": {
        "colab": {
          "base_uri": "https://localhost:8080/",
          "height": 198
        },
        "id": "I9OVhNKJ_yTl",
        "outputId": "a2ac7c61-8271-4b91-99cf-4ed1a9199105"
      },
      "source": [
        "df.columns = ['id', 'hours', 'days', 'months', 'names', 'timestamp']\n",
        "# dropping unwanted column id and rearranging columns as needed\n",
        "df.drop('id', axis=1)\n",
        "df = df[['names', 'timestamp', 'hours', 'days', 'months']]\n",
        "df.head()"
      ],
      "execution_count": 10,
      "outputs": [
        {
          "output_type": "execute_result",
          "data": {
            "text/html": [
              "<div>\n",
              "<style scoped>\n",
              "    .dataframe tbody tr th:only-of-type {\n",
              "        vertical-align: middle;\n",
              "    }\n",
              "\n",
              "    .dataframe tbody tr th {\n",
              "        vertical-align: top;\n",
              "    }\n",
              "\n",
              "    .dataframe thead th {\n",
              "        text-align: right;\n",
              "    }\n",
              "</style>\n",
              "<table border=\"1\" class=\"dataframe\">\n",
              "  <thead>\n",
              "    <tr style=\"text-align: right;\">\n",
              "      <th></th>\n",
              "      <th>names</th>\n",
              "      <th>timestamp</th>\n",
              "      <th>hours</th>\n",
              "      <th>days</th>\n",
              "      <th>months</th>\n",
              "    </tr>\n",
              "  </thead>\n",
              "  <tbody>\n",
              "    <tr>\n",
              "      <th>0</th>\n",
              "      <td>Person4</td>\n",
              "      <td>2020-05-19</td>\n",
              "      <td>1</td>\n",
              "      <td>19</td>\n",
              "      <td>May</td>\n",
              "    </tr>\n",
              "    <tr>\n",
              "      <th>1</th>\n",
              "      <td>Person3</td>\n",
              "      <td>2020-05-19</td>\n",
              "      <td>22</td>\n",
              "      <td>19</td>\n",
              "      <td>May</td>\n",
              "    </tr>\n",
              "    <tr>\n",
              "      <th>2</th>\n",
              "      <td>Person3</td>\n",
              "      <td>2020-05-19</td>\n",
              "      <td>22</td>\n",
              "      <td>19</td>\n",
              "      <td>May</td>\n",
              "    </tr>\n",
              "    <tr>\n",
              "      <th>3</th>\n",
              "      <td>Person1</td>\n",
              "      <td>2020-05-19</td>\n",
              "      <td>22</td>\n",
              "      <td>19</td>\n",
              "      <td>May</td>\n",
              "    </tr>\n",
              "    <tr>\n",
              "      <th>4</th>\n",
              "      <td>Person3</td>\n",
              "      <td>2020-05-19</td>\n",
              "      <td>22</td>\n",
              "      <td>19</td>\n",
              "      <td>May</td>\n",
              "    </tr>\n",
              "  </tbody>\n",
              "</table>\n",
              "</div>"
            ],
            "text/plain": [
              "     names   timestamp  hours  days months\n",
              "0  Person4  2020-05-19      1    19    May\n",
              "1  Person3  2020-05-19     22    19    May\n",
              "2  Person3  2020-05-19     22    19    May\n",
              "3  Person1  2020-05-19     22    19    May\n",
              "4  Person3  2020-05-19     22    19    May"
            ]
          },
          "metadata": {
            "tags": []
          },
          "execution_count": 10
        }
      ]
    },
    {
      "cell_type": "code",
      "metadata": {
        "colab": {
          "base_uri": "https://localhost:8080/"
        },
        "id": "DUNIK9ST_8xG",
        "outputId": "4a2960c9-2fa9-46bd-cd80-d5db0b6a543c"
      },
      "source": [
        "df['names'].unique()"
      ],
      "execution_count": 11,
      "outputs": [
        {
          "output_type": "execute_result",
          "data": {
            "text/plain": [
              "array(['Person4', 'Person3', 'Person1', 'Person2'], dtype=object)"
            ]
          },
          "metadata": {
            "tags": []
          },
          "execution_count": 11
        }
      ]
    },
    {
      "cell_type": "code",
      "metadata": {
        "id": "1LMHCDa2_8z0"
      },
      "source": [
        "df['dummy'] = pd.Series([1]*len(df))"
      ],
      "execution_count": 12,
      "outputs": []
    },
    {
      "cell_type": "code",
      "metadata": {
        "colab": {
          "base_uri": "https://localhost:8080/"
        },
        "id": "fd2_hLFJ_82l",
        "outputId": "adbc5f9c-a554-4497-87cc-1cc76ab64120"
      },
      "source": [
        "df.groupby('names').count()[\"dummy\"]"
      ],
      "execution_count": 13,
      "outputs": [
        {
          "output_type": "execute_result",
          "data": {
            "text/plain": [
              "names\n",
              "Person1    17543\n",
              "Person2     3835\n",
              "Person3    13514\n",
              "Person4    16683\n",
              "Name: dummy, dtype: int64"
            ]
          },
          "metadata": {
            "tags": []
          },
          "execution_count": 13
        }
      ]
    },
    {
      "cell_type": "code",
      "metadata": {
        "colab": {
          "base_uri": "https://localhost:8080/",
          "height": 296
        },
        "id": "FZllAyZJAFqv",
        "outputId": "d366702f-2c26-4773-985e-e22e08563f3f"
      },
      "source": [
        "import seaborn as sns\n",
        "sns.set_style('dark')\n",
        "sns.countplot(x=\"names\", data=df, palette=\"viridis\")"
      ],
      "execution_count": 14,
      "outputs": [
        {
          "output_type": "execute_result",
          "data": {
            "text/plain": [
              "<matplotlib.axes._subplots.AxesSubplot at 0x7fa06512fd30>"
            ]
          },
          "metadata": {
            "tags": []
          },
          "execution_count": 14
        },
        {
          "output_type": "display_data",
          "data": {
            "image/png": "[encoded data removed]",
            "text/plain": [
              "<Figure size 432x288 with 1 Axes>"
            ]
          },
          "metadata": {
            "tags": []
          }
        }
      ]
    },
    {
      "cell_type": "code",
      "metadata": {
        "colab": {
          "base_uri": "https://localhost:8080/",
          "height": 296
        },
        "id": "K6T2p2mBAFtb",
        "outputId": "d9ecfe53-694e-442e-e0a8-882d1fa9e997"
      },
      "source": [
        "sns.countplot(x=\"hours\", data=df[df[\"names\"] == \"Person1\"], palette=\"viridis\")"
      ],
      "execution_count": 15,
      "outputs": [
        {
          "output_type": "execute_result",
          "data": {
            "text/plain": [
              "<matplotlib.axes._subplots.AxesSubplot at 0x7fa06512f7b8>"
            ]
          },
          "metadata": {
            "tags": []
          },
          "execution_count": 15
        },
        {
          "output_type": "display_data",
          "data": {
            "image/png": "[encoded data removed]",
            "text/plain": [
              "<Figure size 432x288 with 1 Axes>"
            ]
          },
          "metadata": {
            "tags": []
          }
        }
      ]
    },
    {
      "cell_type": "code",
      "metadata": {
        "colab": {
          "base_uri": "https://localhost:8080/",
          "height": 296
        },
        "id": "U_VJgopkAFwR",
        "outputId": "03532c76-e39b-4ef2-a55e-6b1cab469cc4"
      },
      "source": [
        "sns.countplot(x=\"hours\", data=df[df[\"names\"] == \"Person2\"], palette=\"viridis\")"
      ],
      "execution_count": 16,
      "outputs": [
        {
          "output_type": "execute_result",
          "data": {
            "text/plain": [
              "<matplotlib.axes._subplots.AxesSubplot at 0x7fa065050ac8>"
            ]
          },
          "metadata": {
            "tags": []
          },
          "execution_count": 16
        },
        {
          "output_type": "display_data",
          "data": {
            "image/png": "[encoded data removed]",
            "text/plain": [
              "<Figure size 432x288 with 1 Axes>"
            ]
          },
          "metadata": {
            "tags": []
          }
        }
      ]
    },
    {
      "cell_type": "code",
      "metadata": {
        "colab": {
          "base_uri": "https://localhost:8080/",
          "height": 299
        },
        "id": "6kzD8kjNAFzF",
        "outputId": "7348611c-f6ce-4c36-a61d-bef776ea511e"
      },
      "source": [
        "sns.countplot(x=\"hours\", data=df[df[\"names\"] == \"Person3\"], palette=\"viridis\")"
      ],
      "execution_count": 17,
      "outputs": [
        {
          "output_type": "execute_result",
          "data": {
            "text/plain": [
              "<matplotlib.axes._subplots.AxesSubplot at 0x7fa064f2d048>"
            ]
          },
          "metadata": {
            "tags": []
          },
          "execution_count": 17
        },
        {
          "output_type": "display_data",
          "data": {
            "image/png": "[encoded data removed]",
            "text/plain": [
              "<Figure size 432x288 with 1 Axes>"
            ]
          },
          "metadata": {
            "tags": []
          }
        }
      ]
    },
    {
      "cell_type": "code",
      "metadata": {
        "colab": {
          "base_uri": "https://localhost:8080/",
          "height": 296
        },
        "id": "eJ7eGfxlAF1w",
        "outputId": "a34127db-b9dd-4977-e74d-2dd66ce19121"
      },
      "source": [
        "sns.countplot(x=\"hours\", data=df[df[\"names\"] == \"Person4\"], palette=\"viridis\")"
      ],
      "execution_count": 18,
      "outputs": [
        {
          "output_type": "execute_result",
          "data": {
            "text/plain": [
              "<matplotlib.axes._subplots.AxesSubplot at 0x7fa064ea91d0>"
            ]
          },
          "metadata": {
            "tags": []
          },
          "execution_count": 18
        },
        {
          "output_type": "display_data",
          "data": {
            "image/png": "[encoded data removed]",
            "text/plain": [
              "<Figure size 432x288 with 1 Axes>"
            ]
          },
          "metadata": {
            "tags": []
          }
        }
      ]
    },
    {
      "cell_type": "code",
      "metadata": {
        "colab": {
          "base_uri": "https://localhost:8080/"
        },
        "id": "qZeTJAI0AF4b",
        "outputId": "d91d8371-6eee-437f-bf0e-fc24fc33ed5f"
      },
      "source": [
        "df[\"months\"].unique()"
      ],
      "execution_count": 19,
      "outputs": [
        {
          "output_type": "execute_result",
          "data": {
            "text/plain": [
              "array(['May', 'June', 'July', 'August'], dtype=object)"
            ]
          },
          "metadata": {
            "tags": []
          },
          "execution_count": 19
        }
      ]
    },
    {
      "cell_type": "code",
      "metadata": {
        "colab": {
          "base_uri": "https://localhost:8080/"
        },
        "id": "T2w8PnLdAbnt",
        "outputId": "474fdb97-2420-42f4-c30c-48171d40d0ff"
      },
      "source": [
        "df.groupby(\"months\").count()[\"dummy\"]"
      ],
      "execution_count": 20,
      "outputs": [
        {
          "output_type": "execute_result",
          "data": {
            "text/plain": [
              "months\n",
              "August     7658\n",
              "July      20824\n",
              "June      19306\n",
              "May        3787\n",
              "Name: dummy, dtype: int64"
            ]
          },
          "metadata": {
            "tags": []
          },
          "execution_count": 20
        }
      ]
    },
    {
      "cell_type": "code",
      "metadata": {
        "colab": {
          "base_uri": "https://localhost:8080/",
          "height": 296
        },
        "id": "FudAej-dAd-T",
        "outputId": "0a9899c3-b96e-4f52-a7c9-96cd4139265e"
      },
      "source": [
        "sns.countplot(x=\"months\", data=df, hue=\"names\", palette=\"viridis\")"
      ],
      "execution_count": 21,
      "outputs": [
        {
          "output_type": "execute_result",
          "data": {
            "text/plain": [
              "<matplotlib.axes._subplots.AxesSubplot at 0x7fa064d9bc50>"
            ]
          },
          "metadata": {
            "tags": []
          },
          "execution_count": 21
        },
        {
          "output_type": "display_data",
          "data": {
            "image/png": "[encoded data removed]",
            "text/plain": [
              "<Figure size 432x288 with 1 Axes>"
            ]
          },
          "metadata": {
            "tags": []
          }
        }
      ]
    },
    {
      "cell_type": "code",
      "metadata": {
        "colab": {
          "base_uri": "https://localhost:8080/",
          "height": 515
        },
        "id": "ny3pbHb8AeBJ",
        "outputId": "34848dfc-504c-4950-c8f4-764c8555ee7f"
      },
      "source": [
        "# let's check it against hours\n",
        "import matplotlib.pyplot as plt\n",
        "plt.figure(figsize=(15,8))\n",
        "sns.countplot(x=\"hours\", data=df, hue=\"names\", palette=\"viridis\")\n",
        "\n",
        "# person2 uses whatsapp very often i believe\n",
        "# and at morning 6'o clock only Person3 was active. What was he doing ????????"
      ],
      "execution_count": 23,
      "outputs": [
        {
          "output_type": "execute_result",
          "data": {
            "text/plain": [
              "<matplotlib.axes._subplots.AxesSubplot at 0x7fa065867b70>"
            ]
          },
          "metadata": {
            "tags": []
          },
          "execution_count": 23
        },
        {
          "output_type": "display_data",
          "data": {
            "image/png": "[encoded data removed]",
            "text/plain": [
              "<Figure size 1080x576 with 1 Axes>"
            ]
          },
          "metadata": {
            "tags": []
          }
        }
      ]
    }
  ]
}