{
 "cells": [
  {
   "cell_type": "code",
   "execution_count": null,
   "metadata": {},
   "outputs": [],
   "source": [
    "pip install prince"
   ]
  },
  {
   "cell_type": "code",
   "execution_count": null,
   "metadata": {
    "scrolled": true
   },
   "outputs": [],
   "source": [
    "import pandas as pd \n",
    "import numpy as np \n",
    "import matplotlib.pyplot as plt \n",
    "import plotly.graph_objects as pz\n",
    "import plotly.express as px\n",
    "from prince import CA, MCA\n",
    "import seaborn as sns\n",
    "import plotly.offline as py\n",
    "py.init_notebook_mode(connected=True)"
   ]
  },
  {
   "cell_type": "code",
   "execution_count": null,
   "metadata": {},
   "outputs": [],
   "source": [
    "df = pd.read_csv(\"https://raw.githubusercontent.com/benvictoria17/pandas/master/dataset/kaggle_survey_2020_responses.csv\" , low_memory=False)\n",
    "df.shape"
   ]
  },
  {
   "cell_type": "code",
   "execution_count": null,
   "metadata": {},
   "outputs": [],
   "source": [
    "df.describe()"
   ]
  },
  {
   "cell_type": "code",
   "execution_count": null,
   "metadata": {},
   "outputs": [],
   "source": [
    "df.head()"
   ]
  },
  {
   "cell_type": "code",
   "execution_count": null,
   "metadata": {},
   "outputs": [],
   "source": [
    "df_cp = df.drop(index=0)\n",
    "df_cp = df_cp.drop(columns = \"Time from Start to Finish (seconds)\")\n",
    "df_cp.head()"
   ]
  },
  {
   "cell_type": "code",
   "execution_count": null,
   "metadata": {},
   "outputs": [],
   "source": [
    "df_cp.isna().sum()"
   ]
  },
  {
   "cell_type": "code",
   "execution_count": null,
   "metadata": {},
   "outputs": [],
   "source": [
    "questions = {}\n",
    "\n",
    "#create a list of grouped questions\n",
    "qnums = list(set([q.split(\"_\")[0] for q in df_cp.columns]))\n",
    "qnums = sorted(qnums, key=lambda q:int(q[1:]))"
   ]
  },
  {
   "cell_type": "code",
   "execution_count": null,
   "metadata": {},
   "outputs": [],
   "source": [
    "for i in qnums:\n",
    "    questions[i] = df_cp[[q for q in df_cp.columns if q.split(\"_\")[0] == i]]\n",
    "#example of Q7 looks like below\n",
    "questions[\"Q7\"].head()"
   ]
  },
  {
   "cell_type": "code",
   "execution_count": null,
   "metadata": {},
   "outputs": [],
   "source": [
    "age_ds = pd.crosstab(df_cp.Q1,df_cp.Q5)\n",
    "ca_age = CA(n_components=2)\n",
    "ca_age.fit(age_ds)\n",
    "ca_age.plot_coordinates(age_ds, figsize=(10,10));"
   ]
  },
  {
   "cell_type": "code",
   "execution_count": null,
   "metadata": {},
   "outputs": [],
   "source": [
    "df_ds = df_cp[df_cp.Q5==\"Data Scientist\"]\n",
    "colors = [\"lightblue\"] * len(df_ds.Q1.value_counts().index)\n",
    "colors[0] = \"lightsalmon\"\n",
    "\n",
    "fig = go.Figure(layout=go.Layout(title= go.layout.Title(text=\"Age Distribution of Data Scientist\")))\n",
    "fig.add_trace(go.Bar(x= df_ds.Q1.value_counts().index,\n",
    "                     y=df_ds.Q1.value_counts().values,\n",
    "                     marker_color=colors))"
   ]
  },
  {
   "cell_type": "code",
   "execution_count": null,
   "metadata": {},
   "outputs": [],
   "source": [
    "from adjustText import adjust_text\n",
    "#correspondence analysis on gender & positions\n",
    "gender_ds = pd.crosstab(df_cp.Q2,df_cp.Q5)\n",
    "ca_gender = CA(n_components=2)\n",
    "ca_gender.fit(gender_ds)\n",
    "ax = ca_gender.plot_coordinates(gender_ds,\n",
    "                                figsize=(10,10),\n",
    "                                show_row_labels=False,show_col_labels=False).legend(loc=\"center right\")\n",
    "\n",
    "#adjust text to overlapping between different labels\n",
    "cols=ca_gender.column_coordinates(gender_ds).to_dict()\n",
    "xcols=cols[0]\n",
    "ycols=cols[1]\n",
    "rows=ca_gender.row_coordinates(gender_ds).to_dict()\n",
    "xrows=rows[0]\n",
    "yrows=rows[1]\n",
    "\n",
    "xglobal={ k : xcols.get(k,0)+xrows.get(k,0) for k in set(xcols) | set(xrows) }\n",
    "yglobal={ k : ycols.get(k,0)+yrows.get(k,0) for k in set(ycols) | set(yrows) }\n",
    "\n",
    "fig = ax.get_figure()\n",
    "texts=[plt.text(xglobal[x],yglobal[x],x,fontsize=10) for x in xglobal.keys()]\n",
    "adjust_text(texts,arrowprops=dict(arrowstyle='-', color='red'));"
   ]
  },
  {
   "cell_type": "code",
   "execution_count": null,
   "metadata": {},
   "outputs": [],
   "source": [
    "colors = [\"lightblue\"] * len(df_ds.Q2.value_counts().index)\n",
    "colors[0] = \"lightsalmon\"\n",
    "\n",
    "fig = go.Figure(layout=go.Layout(title= go.layout.Title(text=\"Gender Distribution of Data Scientist\")))\n",
    "fig.add_trace(go.Bar(x=vbbbbbbbv df_ds.Q2.value_counts().index,\n",
    "                     y=df_ds.Q2.value_counts().values,\n",
    "                     marker_color=colors))"
   ]
  }
 ],
 "metadata": {
  "kernelspec": {
   "display_name": "Python 3",
   "language": "python",
   "name": "python3"
  },
  "language_info": {
   "codemirror_mode": {
    "name": "ipython",
    "version": 3
   },
   "file_extension": ".py",
   "mimetype": "text/x-python",
   "name": "python",
   "nbconvert_exporter": "python",
   "pygments_lexer": "ipython3",
   "version": "3.8.3"
  }
 },
 "nbformat": 4,
 "nbformat_minor": 4
}
